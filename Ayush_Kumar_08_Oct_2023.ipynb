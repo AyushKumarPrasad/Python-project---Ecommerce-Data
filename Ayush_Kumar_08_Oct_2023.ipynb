{
 "cells": [
  {
   "cell_type": "markdown",
   "id": "6a7d5404",
   "metadata": {},
   "source": [
    "<font color='blue'>\n",
    "    <font size = 5>\n",
    "        You have been given the role of a business analyst for an E-Commerce company and have been asked to prepare a basic report on the data. Follow the steps below for preparation of the report. \n",
    "\n",
    "Before you start analysing the data, it is always a good practice to see the size of the data, its features and feature types. If the data set is big, it is not possible to print out all the records. \n",
    "    </font>\n",
    "####  Note: Use the markdown feature of Python to explain your answer.\n",
    "    "
   ]
  },
  {
   "cell_type": "markdown",
   "id": "daf5d935",
   "metadata": {},
   "source": [
    "## Load the necessary libraries. Import and load the dataset with a name ECom_Data ."
   ]
  },
  {
   "cell_type": "code",
   "execution_count": 276,
   "id": "eec2a3b5",
   "metadata": {},
   "outputs": [],
   "source": [
    "import numpy as np\n",
    "import pandas as pd\n",
    "import matplotlib.pyplot as plt\n",
    "import seaborn as sns\n",
    "pd.options.display.max_rows = 10"
   ]
  },
  {
   "cell_type": "code",
   "execution_count": 277,
   "id": "8e1fcc97",
   "metadata": {},
   "outputs": [
    {
     "data": {
      "text/html": [
       "<div>\n",
       "<style scoped>\n",
       "    .dataframe tbody tr th:only-of-type {\n",
       "        vertical-align: middle;\n",
       "    }\n",
       "\n",
       "    .dataframe tbody tr th {\n",
       "        vertical-align: top;\n",
       "    }\n",
       "\n",
       "    .dataframe thead th {\n",
       "        text-align: right;\n",
       "    }\n",
       "</style>\n",
       "<table border=\"1\" class=\"dataframe\">\n",
       "  <thead>\n",
       "    <tr style=\"text-align: right;\">\n",
       "      <th></th>\n",
       "      <th>Customer_uniq_id</th>\n",
       "      <th>Region</th>\n",
       "      <th>Order_Date</th>\n",
       "      <th>Expected_Delivery_Date</th>\n",
       "      <th>Delivered_Date</th>\n",
       "      <th>product_name</th>\n",
       "      <th>product_main_category</th>\n",
       "      <th>product_subcategory</th>\n",
       "      <th>product_category_filter</th>\n",
       "      <th>product_category_subfilter</th>\n",
       "      <th>product_unique ID</th>\n",
       "      <th>retail_price</th>\n",
       "      <th>discounted_price</th>\n",
       "      <th>product_rating</th>\n",
       "      <th>Brand</th>\n",
       "      <th>product_specifications</th>\n",
       "      <th>description</th>\n",
       "    </tr>\n",
       "  </thead>\n",
       "  <tbody>\n",
       "    <tr>\n",
       "      <th>0</th>\n",
       "      <td>e71017e224688489edfe856f2308806d</td>\n",
       "      <td>East</td>\n",
       "      <td>24-10-2021</td>\n",
       "      <td>25-10-2021</td>\n",
       "      <td>25-10-2021</td>\n",
       "      <td>Indcrown Net Embroidered Semi-stitched Lehenga...</td>\n",
       "      <td>Clothing</td>\n",
       "      <td>Women's Clothing</td>\n",
       "      <td>Ethnic Wear</td>\n",
       "      <td>Fabric</td>\n",
       "      <td>FABEJX2NHNKCYHKA</td>\n",
       "      <td>999</td>\n",
       "      <td>699</td>\n",
       "      <td>4.0</td>\n",
       "      <td>INDCROWN</td>\n",
       "      <td>{\"product_specification\"=&gt;[{\"key\"=&gt;\"Fabric\", \"...</td>\n",
       "      <td>Key Features of Indcrown Net Embroidered Semi-...</td>\n",
       "    </tr>\n",
       "    <tr>\n",
       "      <th>1</th>\n",
       "      <td>6286847ee2da18f587503db49511c539</td>\n",
       "      <td>East</td>\n",
       "      <td>24-10-2021</td>\n",
       "      <td>25-10-2021</td>\n",
       "      <td>25-10-2021</td>\n",
       "      <td>Shopmania Music Band A5 Notebook Spiral Bound</td>\n",
       "      <td>Pens &amp; Stationery</td>\n",
       "      <td>Diaries &amp; Notebooks</td>\n",
       "      <td>Notebooks</td>\n",
       "      <td>Designer</td>\n",
       "      <td>DIAEJ6Z8BEDTGGYY</td>\n",
       "      <td>499</td>\n",
       "      <td>275</td>\n",
       "      <td>1.0</td>\n",
       "      <td>SHOPMANIA</td>\n",
       "      <td>{\"product_specification\"=&gt;[{\"key\"=&gt;\"Ruling\", \"...</td>\n",
       "      <td>Specifications of Shopmania Music Band A5 Note...</td>\n",
       "    </tr>\n",
       "    <tr>\n",
       "      <th>2</th>\n",
       "      <td>0686fec9b70e5039583a38119ca0c835</td>\n",
       "      <td>West</td>\n",
       "      <td>24-10-2021</td>\n",
       "      <td>25-10-2021</td>\n",
       "      <td>25-10-2021</td>\n",
       "      <td>Shopmania Music Band A5 Notebook Spiral Bound</td>\n",
       "      <td>Pens &amp; Stationery</td>\n",
       "      <td>Diaries &amp; Notebooks</td>\n",
       "      <td>Notebooks</td>\n",
       "      <td>Designer</td>\n",
       "      <td>DIAEJ6Z8KQFWDEGH</td>\n",
       "      <td>499</td>\n",
       "      <td>275</td>\n",
       "      <td>2.0</td>\n",
       "      <td>SHOPMANIA</td>\n",
       "      <td>{\"product_specification\"=&gt;[{\"key\"=&gt;\"Ruling\", \"...</td>\n",
       "      <td>Specifications of Shopmania Music Band A5 Note...</td>\n",
       "    </tr>\n",
       "    <tr>\n",
       "      <th>3</th>\n",
       "      <td>ea2406dc597bee2abb6b867fa668501f</td>\n",
       "      <td>West</td>\n",
       "      <td>24-10-2021</td>\n",
       "      <td>25-10-2021</td>\n",
       "      <td>25-10-2021</td>\n",
       "      <td>Tiara Diaries 2016-2017 Designer LA Kaarta \"TA...</td>\n",
       "      <td>Pens &amp; Stationery</td>\n",
       "      <td>Diaries &amp; Notebooks</td>\n",
       "      <td>Notebooks</td>\n",
       "      <td>Designer</td>\n",
       "      <td>DIAEJ8FGHZ3K86JU</td>\n",
       "      <td>1000</td>\n",
       "      <td>837</td>\n",
       "      <td>3.0</td>\n",
       "      <td>TIARA DIARIES</td>\n",
       "      <td>{\"product_specification\"=&gt;[{\"key\"=&gt;\"Ruling\", \"...</td>\n",
       "      <td>Specifications of Tiara Diaries 2016-2017 Desi...</td>\n",
       "    </tr>\n",
       "    <tr>\n",
       "      <th>4</th>\n",
       "      <td>5935ed077915347dc695744df68c565c</td>\n",
       "      <td>East</td>\n",
       "      <td>03-09-2021</td>\n",
       "      <td>04-09-2021</td>\n",
       "      <td>04-09-2021</td>\n",
       "      <td>KAJCI Embroidered Women's Waistcoat</td>\n",
       "      <td>Clothing</td>\n",
       "      <td>Women's Clothing</td>\n",
       "      <td>Formal Wear</td>\n",
       "      <td>Waistcoats</td>\n",
       "      <td>WSCEG2FYDYFDSVZ6</td>\n",
       "      <td>1200</td>\n",
       "      <td>699</td>\n",
       "      <td>5.0</td>\n",
       "      <td>KAJCI</td>\n",
       "      <td>{\"product_specification\"=&gt;[{\"key\"=&gt;\"Pattern\", ...</td>\n",
       "      <td>Specifications of KAJCI Embroidered Women's Wa...</td>\n",
       "    </tr>\n",
       "  </tbody>\n",
       "</table>\n",
       "</div>"
      ],
      "text/plain": [
       "                   Customer_uniq_id Region  Order_Date Expected_Delivery_Date  \\\n",
       "0  e71017e224688489edfe856f2308806d  East   24-10-2021             25-10-2021   \n",
       "1  6286847ee2da18f587503db49511c539  East   24-10-2021             25-10-2021   \n",
       "2  0686fec9b70e5039583a38119ca0c835   West  24-10-2021             25-10-2021   \n",
       "3  ea2406dc597bee2abb6b867fa668501f   West  24-10-2021             25-10-2021   \n",
       "4  5935ed077915347dc695744df68c565c  East   03-09-2021             04-09-2021   \n",
       "\n",
       "  Delivered_Date                                       product_name  \\\n",
       "0     25-10-2021  Indcrown Net Embroidered Semi-stitched Lehenga...   \n",
       "1     25-10-2021      Shopmania Music Band A5 Notebook Spiral Bound   \n",
       "2     25-10-2021      Shopmania Music Band A5 Notebook Spiral Bound   \n",
       "3     25-10-2021  Tiara Diaries 2016-2017 Designer LA Kaarta \"TA...   \n",
       "4     04-09-2021                KAJCI Embroidered Women's Waistcoat   \n",
       "\n",
       "  product_main_category    product_subcategory product_category_filter  \\\n",
       "0             Clothing       Women's Clothing             Ethnic Wear    \n",
       "1    Pens & Stationery    Diaries & Notebooks               Notebooks    \n",
       "2    Pens & Stationery    Diaries & Notebooks               Notebooks    \n",
       "3    Pens & Stationery    Diaries & Notebooks               Notebooks    \n",
       "4             Clothing       Women's Clothing             Formal Wear    \n",
       "\n",
       "  product_category_subfilter product_unique ID  retail_price  \\\n",
       "0                    Fabric   FABEJX2NHNKCYHKA           999   \n",
       "1                  Designer   DIAEJ6Z8BEDTGGYY           499   \n",
       "2                  Designer   DIAEJ6Z8KQFWDEGH           499   \n",
       "3                  Designer   DIAEJ8FGHZ3K86JU          1000   \n",
       "4                Waistcoats   WSCEG2FYDYFDSVZ6          1200   \n",
       "\n",
       "   discounted_price  product_rating          Brand  \\\n",
       "0               699             4.0       INDCROWN   \n",
       "1               275             1.0      SHOPMANIA   \n",
       "2               275             2.0      SHOPMANIA   \n",
       "3               837             3.0  TIARA DIARIES   \n",
       "4               699             5.0          KAJCI   \n",
       "\n",
       "                              product_specifications  \\\n",
       "0  {\"product_specification\"=>[{\"key\"=>\"Fabric\", \"...   \n",
       "1  {\"product_specification\"=>[{\"key\"=>\"Ruling\", \"...   \n",
       "2  {\"product_specification\"=>[{\"key\"=>\"Ruling\", \"...   \n",
       "3  {\"product_specification\"=>[{\"key\"=>\"Ruling\", \"...   \n",
       "4  {\"product_specification\"=>[{\"key\"=>\"Pattern\", ...   \n",
       "\n",
       "                                         description  \n",
       "0  Key Features of Indcrown Net Embroidered Semi-...  \n",
       "1  Specifications of Shopmania Music Band A5 Note...  \n",
       "2  Specifications of Shopmania Music Band A5 Note...  \n",
       "3  Specifications of Tiara Diaries 2016-2017 Desi...  \n",
       "4  Specifications of KAJCI Embroidered Women's Wa...  "
      ]
     },
     "execution_count": 277,
     "metadata": {},
     "output_type": "execute_result"
    }
   ],
   "source": [
    "# Get the Data\n",
    "\n",
    "df=pd.read_csv(\"E-Commerce.csv\")\n",
    "df.head(5)"
   ]
  },
  {
   "cell_type": "code",
   "execution_count": 278,
   "id": "03a94e40",
   "metadata": {},
   "outputs": [
    {
     "data": {
      "text/plain": [
       "(8906, 17)"
      ]
     },
     "execution_count": 278,
     "metadata": {},
     "output_type": "execute_result"
    }
   ],
   "source": [
    "df.shape"
   ]
  },
  {
   "cell_type": "code",
   "execution_count": 279,
   "id": "c50626a1",
   "metadata": {},
   "outputs": [
    {
     "name": "stdout",
     "output_type": "stream",
     "text": [
      "<class 'pandas.core.frame.DataFrame'>\n",
      "RangeIndex: 8906 entries, 0 to 8905\n",
      "Data columns (total 17 columns):\n",
      " #   Column                      Non-Null Count  Dtype  \n",
      "---  ------                      --------------  -----  \n",
      " 0   Customer_uniq_id            8906 non-null   object \n",
      " 1   Region                      8906 non-null   object \n",
      " 2   Order_Date                  8906 non-null   object \n",
      " 3   Expected_Delivery_Date      8906 non-null   object \n",
      " 4   Delivered_Date              8906 non-null   object \n",
      " 5   product_name                8906 non-null   object \n",
      " 6   product_main_category       8906 non-null   object \n",
      " 7   product_subcategory         8906 non-null   object \n",
      " 8   product_category_filter     8906 non-null   object \n",
      " 9   product_category_subfilter  8906 non-null   object \n",
      " 10  product_unique ID           8906 non-null   object \n",
      " 11  retail_price                8906 non-null   int64  \n",
      " 12  discounted_price            8906 non-null   int64  \n",
      " 13  product_rating              8906 non-null   float64\n",
      " 14  Brand                       8906 non-null   object \n",
      " 15  product_specifications      8906 non-null   object \n",
      " 16  description                 8906 non-null   object \n",
      "dtypes: float64(1), int64(2), object(14)\n",
      "memory usage: 1.2+ MB\n"
     ]
    }
   ],
   "source": [
    "df.info()"
   ]
  },
  {
   "cell_type": "code",
   "execution_count": 280,
   "id": "fed3de54",
   "metadata": {},
   "outputs": [
    {
     "data": {
      "text/html": [
       "<div>\n",
       "<style scoped>\n",
       "    .dataframe tbody tr th:only-of-type {\n",
       "        vertical-align: middle;\n",
       "    }\n",
       "\n",
       "    .dataframe tbody tr th {\n",
       "        vertical-align: top;\n",
       "    }\n",
       "\n",
       "    .dataframe thead th {\n",
       "        text-align: right;\n",
       "    }\n",
       "</style>\n",
       "<table border=\"1\" class=\"dataframe\">\n",
       "  <thead>\n",
       "    <tr style=\"text-align: right;\">\n",
       "      <th></th>\n",
       "      <th>retail_price</th>\n",
       "      <th>discounted_price</th>\n",
       "      <th>product_rating</th>\n",
       "    </tr>\n",
       "  </thead>\n",
       "  <tbody>\n",
       "    <tr>\n",
       "      <th>count</th>\n",
       "      <td>8906.000000</td>\n",
       "      <td>8906.000000</td>\n",
       "      <td>8906.000000</td>\n",
       "    </tr>\n",
       "    <tr>\n",
       "      <th>mean</th>\n",
       "      <td>1969.965304</td>\n",
       "      <td>1093.698518</td>\n",
       "      <td>3.066596</td>\n",
       "    </tr>\n",
       "    <tr>\n",
       "      <th>std</th>\n",
       "      <td>3341.314408</td>\n",
       "      <td>2433.776099</td>\n",
       "      <td>1.413313</td>\n",
       "    </tr>\n",
       "    <tr>\n",
       "      <th>min</th>\n",
       "      <td>115.000000</td>\n",
       "      <td>109.000000</td>\n",
       "      <td>1.000000</td>\n",
       "    </tr>\n",
       "    <tr>\n",
       "      <th>25%</th>\n",
       "      <td>730.000000</td>\n",
       "      <td>350.000000</td>\n",
       "      <td>2.000000</td>\n",
       "    </tr>\n",
       "    <tr>\n",
       "      <th>50%</th>\n",
       "      <td>1195.000000</td>\n",
       "      <td>599.000000</td>\n",
       "      <td>3.000000</td>\n",
       "    </tr>\n",
       "    <tr>\n",
       "      <th>75%</th>\n",
       "      <td>2199.000000</td>\n",
       "      <td>1199.000000</td>\n",
       "      <td>4.000000</td>\n",
       "    </tr>\n",
       "    <tr>\n",
       "      <th>max</th>\n",
       "      <td>116292.000000</td>\n",
       "      <td>116292.000000</td>\n",
       "      <td>5.000000</td>\n",
       "    </tr>\n",
       "  </tbody>\n",
       "</table>\n",
       "</div>"
      ],
      "text/plain": [
       "        retail_price  discounted_price  product_rating\n",
       "count    8906.000000       8906.000000     8906.000000\n",
       "mean     1969.965304       1093.698518        3.066596\n",
       "std      3341.314408       2433.776099        1.413313\n",
       "min       115.000000        109.000000        1.000000\n",
       "25%       730.000000        350.000000        2.000000\n",
       "50%      1195.000000        599.000000        3.000000\n",
       "75%      2199.000000       1199.000000        4.000000\n",
       "max    116292.000000     116292.000000        5.000000"
      ]
     },
     "execution_count": 280,
     "metadata": {},
     "output_type": "execute_result"
    }
   ],
   "source": [
    "df.describe()"
   ]
  },
  {
   "cell_type": "markdown",
   "id": "2cf5f20f",
   "metadata": {},
   "source": [
    "<font color='blue'>\n",
    "    <font size = 5>\n",
    "        We have read the data and stored the data in \"df\" variable </font>"
   ]
  },
  {
   "cell_type": "markdown",
   "id": "a0a4f84a",
   "metadata": {},
   "source": [
    "## Q 1.\tTo get familiar with the data\n",
    "## a)\tPrint out the first 10 and the last 10 records of the data. (2 marks)\n",
    "## b)\tHow many rows and columns are present in the dataset? Use any two different methods to extract this information. (2 + 2 + 2 marks)\n",
    "## c)\tHow many object data types are there? (1 mark)\n",
    "## d)\tIs there any Boolean data type? (1 mark) \n",
    "#### Note: Use the markdown feature of Python to explain your answer.\n"
   ]
  },
  {
   "cell_type": "code",
   "execution_count": null,
   "id": "55ad77c3",
   "metadata": {},
   "outputs": [],
   "source": []
  },
  {
   "cell_type": "markdown",
   "id": "0ba43d74",
   "metadata": {},
   "source": [
    "### Ans 1 a) - First 10 records"
   ]
  },
  {
   "cell_type": "code",
   "execution_count": 281,
   "id": "6684f5a1",
   "metadata": {},
   "outputs": [
    {
     "data": {
      "text/html": [
       "<div>\n",
       "<style scoped>\n",
       "    .dataframe tbody tr th:only-of-type {\n",
       "        vertical-align: middle;\n",
       "    }\n",
       "\n",
       "    .dataframe tbody tr th {\n",
       "        vertical-align: top;\n",
       "    }\n",
       "\n",
       "    .dataframe thead th {\n",
       "        text-align: right;\n",
       "    }\n",
       "</style>\n",
       "<table border=\"1\" class=\"dataframe\">\n",
       "  <thead>\n",
       "    <tr style=\"text-align: right;\">\n",
       "      <th></th>\n",
       "      <th>Customer_uniq_id</th>\n",
       "      <th>Region</th>\n",
       "      <th>Order_Date</th>\n",
       "      <th>Expected_Delivery_Date</th>\n",
       "      <th>Delivered_Date</th>\n",
       "      <th>product_name</th>\n",
       "      <th>product_main_category</th>\n",
       "      <th>product_subcategory</th>\n",
       "      <th>product_category_filter</th>\n",
       "      <th>product_category_subfilter</th>\n",
       "      <th>product_unique ID</th>\n",
       "      <th>retail_price</th>\n",
       "      <th>discounted_price</th>\n",
       "      <th>product_rating</th>\n",
       "      <th>Brand</th>\n",
       "      <th>product_specifications</th>\n",
       "      <th>description</th>\n",
       "    </tr>\n",
       "  </thead>\n",
       "  <tbody>\n",
       "    <tr>\n",
       "      <th>0</th>\n",
       "      <td>e71017e224688489edfe856f2308806d</td>\n",
       "      <td>East</td>\n",
       "      <td>24-10-2021</td>\n",
       "      <td>25-10-2021</td>\n",
       "      <td>25-10-2021</td>\n",
       "      <td>Indcrown Net Embroidered Semi-stitched Lehenga...</td>\n",
       "      <td>Clothing</td>\n",
       "      <td>Women's Clothing</td>\n",
       "      <td>Ethnic Wear</td>\n",
       "      <td>Fabric</td>\n",
       "      <td>FABEJX2NHNKCYHKA</td>\n",
       "      <td>999</td>\n",
       "      <td>699</td>\n",
       "      <td>4.0</td>\n",
       "      <td>INDCROWN</td>\n",
       "      <td>{\"product_specification\"=&gt;[{\"key\"=&gt;\"Fabric\", \"...</td>\n",
       "      <td>Key Features of Indcrown Net Embroidered Semi-...</td>\n",
       "    </tr>\n",
       "    <tr>\n",
       "      <th>1</th>\n",
       "      <td>6286847ee2da18f587503db49511c539</td>\n",
       "      <td>East</td>\n",
       "      <td>24-10-2021</td>\n",
       "      <td>25-10-2021</td>\n",
       "      <td>25-10-2021</td>\n",
       "      <td>Shopmania Music Band A5 Notebook Spiral Bound</td>\n",
       "      <td>Pens &amp; Stationery</td>\n",
       "      <td>Diaries &amp; Notebooks</td>\n",
       "      <td>Notebooks</td>\n",
       "      <td>Designer</td>\n",
       "      <td>DIAEJ6Z8BEDTGGYY</td>\n",
       "      <td>499</td>\n",
       "      <td>275</td>\n",
       "      <td>1.0</td>\n",
       "      <td>SHOPMANIA</td>\n",
       "      <td>{\"product_specification\"=&gt;[{\"key\"=&gt;\"Ruling\", \"...</td>\n",
       "      <td>Specifications of Shopmania Music Band A5 Note...</td>\n",
       "    </tr>\n",
       "    <tr>\n",
       "      <th>2</th>\n",
       "      <td>0686fec9b70e5039583a38119ca0c835</td>\n",
       "      <td>West</td>\n",
       "      <td>24-10-2021</td>\n",
       "      <td>25-10-2021</td>\n",
       "      <td>25-10-2021</td>\n",
       "      <td>Shopmania Music Band A5 Notebook Spiral Bound</td>\n",
       "      <td>Pens &amp; Stationery</td>\n",
       "      <td>Diaries &amp; Notebooks</td>\n",
       "      <td>Notebooks</td>\n",
       "      <td>Designer</td>\n",
       "      <td>DIAEJ6Z8KQFWDEGH</td>\n",
       "      <td>499</td>\n",
       "      <td>275</td>\n",
       "      <td>2.0</td>\n",
       "      <td>SHOPMANIA</td>\n",
       "      <td>{\"product_specification\"=&gt;[{\"key\"=&gt;\"Ruling\", \"...</td>\n",
       "      <td>Specifications of Shopmania Music Band A5 Note...</td>\n",
       "    </tr>\n",
       "    <tr>\n",
       "      <th>3</th>\n",
       "      <td>ea2406dc597bee2abb6b867fa668501f</td>\n",
       "      <td>West</td>\n",
       "      <td>24-10-2021</td>\n",
       "      <td>25-10-2021</td>\n",
       "      <td>25-10-2021</td>\n",
       "      <td>Tiara Diaries 2016-2017 Designer LA Kaarta \"TA...</td>\n",
       "      <td>Pens &amp; Stationery</td>\n",
       "      <td>Diaries &amp; Notebooks</td>\n",
       "      <td>Notebooks</td>\n",
       "      <td>Designer</td>\n",
       "      <td>DIAEJ8FGHZ3K86JU</td>\n",
       "      <td>1000</td>\n",
       "      <td>837</td>\n",
       "      <td>3.0</td>\n",
       "      <td>TIARA DIARIES</td>\n",
       "      <td>{\"product_specification\"=&gt;[{\"key\"=&gt;\"Ruling\", \"...</td>\n",
       "      <td>Specifications of Tiara Diaries 2016-2017 Desi...</td>\n",
       "    </tr>\n",
       "    <tr>\n",
       "      <th>4</th>\n",
       "      <td>5935ed077915347dc695744df68c565c</td>\n",
       "      <td>East</td>\n",
       "      <td>03-09-2021</td>\n",
       "      <td>04-09-2021</td>\n",
       "      <td>04-09-2021</td>\n",
       "      <td>KAJCI Embroidered Women's Waistcoat</td>\n",
       "      <td>Clothing</td>\n",
       "      <td>Women's Clothing</td>\n",
       "      <td>Formal Wear</td>\n",
       "      <td>Waistcoats</td>\n",
       "      <td>WSCEG2FYDYFDSVZ6</td>\n",
       "      <td>1200</td>\n",
       "      <td>699</td>\n",
       "      <td>5.0</td>\n",
       "      <td>KAJCI</td>\n",
       "      <td>{\"product_specification\"=&gt;[{\"key\"=&gt;\"Pattern\", ...</td>\n",
       "      <td>Specifications of KAJCI Embroidered Women's Wa...</td>\n",
       "    </tr>\n",
       "    <tr>\n",
       "      <th>5</th>\n",
       "      <td>89fcdddaad50084e395d0928a7426afe</td>\n",
       "      <td>East</td>\n",
       "      <td>03-09-2021</td>\n",
       "      <td>04-09-2021</td>\n",
       "      <td>04-09-2021</td>\n",
       "      <td>Packman 8 x 10 inches Security Bags Without PO...</td>\n",
       "      <td>Pens &amp; Stationery</td>\n",
       "      <td>Office Supplies</td>\n",
       "      <td>Packaging Security Bags</td>\n",
       "      <td>Packman Packaging Security Bags</td>\n",
       "      <td>PKBEGBTRKKHU26YQ</td>\n",
       "      <td>350</td>\n",
       "      <td>298</td>\n",
       "      <td>4.0</td>\n",
       "      <td>PACKMAN</td>\n",
       "      <td>{\"product_specification\"=&gt;[{\"key\"=&gt;\"Bubble Wra...</td>\n",
       "      <td>Key Features of Packman 8 x 10 inches Security...</td>\n",
       "    </tr>\n",
       "    <tr>\n",
       "      <th>6</th>\n",
       "      <td>b9b183aa18d3a721d2ac23e7184525b0</td>\n",
       "      <td>East</td>\n",
       "      <td>03-09-2021</td>\n",
       "      <td>04-09-2021</td>\n",
       "      <td>04-09-2021</td>\n",
       "      <td>Pick Pocket Embroidered Women's Waistcoat</td>\n",
       "      <td>Clothing</td>\n",
       "      <td>Women's Clothing</td>\n",
       "      <td>Formal Wear</td>\n",
       "      <td>Waistcoats</td>\n",
       "      <td>WSCEFUV4TVWT73ZB</td>\n",
       "      <td>899</td>\n",
       "      <td>899</td>\n",
       "      <td>1.0</td>\n",
       "      <td>PICK POCKET</td>\n",
       "      <td>{\"product_specification\"=&gt;[{\"key\"=&gt;\"Pattern\", ...</td>\n",
       "      <td>Specifications of Pick Pocket Embroidered Wome...</td>\n",
       "    </tr>\n",
       "    <tr>\n",
       "      <th>7</th>\n",
       "      <td>dee64864c0419bec80fbbb94d19bc40d</td>\n",
       "      <td>East</td>\n",
       "      <td>03-09-2021</td>\n",
       "      <td>04-09-2021</td>\n",
       "      <td>04-09-2021</td>\n",
       "      <td>Angelfish Silk Potali Potli</td>\n",
       "      <td>Bags, Wallets &amp; Belts</td>\n",
       "      <td>Bags</td>\n",
       "      <td>Pouches and Potlis</td>\n",
       "      <td>Angelfish Pouches and Potlis</td>\n",
       "      <td>PPSEGFYAGD8FYUXV</td>\n",
       "      <td>999</td>\n",
       "      <td>399</td>\n",
       "      <td>4.0</td>\n",
       "      <td>ANGELFISH</td>\n",
       "      <td>{\"product_specification\"=&gt;[{\"key\"=&gt;\"Closure\", ...</td>\n",
       "      <td>Angelfish Silk Potali Potli (Multicolor) Price...</td>\n",
       "    </tr>\n",
       "    <tr>\n",
       "      <th>8</th>\n",
       "      <td>595f55f2c1293f07ea9ec9fa2bb39f46</td>\n",
       "      <td>East</td>\n",
       "      <td>03-09-2021</td>\n",
       "      <td>04-09-2021</td>\n",
       "      <td>04-09-2021</td>\n",
       "      <td>Oye Boy's Dungaree</td>\n",
       "      <td>Clothing</td>\n",
       "      <td>Kids' Clothing</td>\n",
       "      <td>Boys Wear</td>\n",
       "      <td>Dungarees &amp; Jumpsuits</td>\n",
       "      <td>DRPEF2XSFBAP4SUZ</td>\n",
       "      <td>899</td>\n",
       "      <td>764</td>\n",
       "      <td>1.0</td>\n",
       "      <td>OYE</td>\n",
       "      <td>{\"product_specification\"=&gt;[{\"key\"=&gt;\"Number of ...</td>\n",
       "      <td>Specifications of Oye Boy's Dungaree Top Detai...</td>\n",
       "    </tr>\n",
       "    <tr>\n",
       "      <th>9</th>\n",
       "      <td>547b6585272473ae006bcfbdb47b6ae0</td>\n",
       "      <td>West</td>\n",
       "      <td>26-08-2021</td>\n",
       "      <td>27-08-2021</td>\n",
       "      <td>27-08-2021</td>\n",
       "      <td>Nuride Canvas Shoes</td>\n",
       "      <td>Footwear</td>\n",
       "      <td>Women's Footwear</td>\n",
       "      <td>Casual Shoes</td>\n",
       "      <td>Canvas</td>\n",
       "      <td>SHOEGVQCT2ZSGUHY</td>\n",
       "      <td>1999</td>\n",
       "      <td>1349</td>\n",
       "      <td>2.0</td>\n",
       "      <td>NURIDE</td>\n",
       "      <td>{\"product_specification\"=&gt;[{\"key\"=&gt;\"Occasion\",...</td>\n",
       "      <td>Key Features of Nuride Canvas Shoes Material: ...</td>\n",
       "    </tr>\n",
       "  </tbody>\n",
       "</table>\n",
       "</div>"
      ],
      "text/plain": [
       "                   Customer_uniq_id Region  Order_Date Expected_Delivery_Date  \\\n",
       "0  e71017e224688489edfe856f2308806d  East   24-10-2021             25-10-2021   \n",
       "1  6286847ee2da18f587503db49511c539  East   24-10-2021             25-10-2021   \n",
       "2  0686fec9b70e5039583a38119ca0c835   West  24-10-2021             25-10-2021   \n",
       "3  ea2406dc597bee2abb6b867fa668501f   West  24-10-2021             25-10-2021   \n",
       "4  5935ed077915347dc695744df68c565c  East   03-09-2021             04-09-2021   \n",
       "5  89fcdddaad50084e395d0928a7426afe  East   03-09-2021             04-09-2021   \n",
       "6  b9b183aa18d3a721d2ac23e7184525b0  East   03-09-2021             04-09-2021   \n",
       "7  dee64864c0419bec80fbbb94d19bc40d  East   03-09-2021             04-09-2021   \n",
       "8  595f55f2c1293f07ea9ec9fa2bb39f46  East   03-09-2021             04-09-2021   \n",
       "9  547b6585272473ae006bcfbdb47b6ae0   West  26-08-2021             27-08-2021   \n",
       "\n",
       "  Delivered_Date                                       product_name  \\\n",
       "0     25-10-2021  Indcrown Net Embroidered Semi-stitched Lehenga...   \n",
       "1     25-10-2021      Shopmania Music Band A5 Notebook Spiral Bound   \n",
       "2     25-10-2021      Shopmania Music Band A5 Notebook Spiral Bound   \n",
       "3     25-10-2021  Tiara Diaries 2016-2017 Designer LA Kaarta \"TA...   \n",
       "4     04-09-2021                KAJCI Embroidered Women's Waistcoat   \n",
       "5     04-09-2021  Packman 8 x 10 inches Security Bags Without PO...   \n",
       "6     04-09-2021          Pick Pocket Embroidered Women's Waistcoat   \n",
       "7     04-09-2021                        Angelfish Silk Potali Potli   \n",
       "8     04-09-2021                                 Oye Boy's Dungaree   \n",
       "9     27-08-2021                                Nuride Canvas Shoes   \n",
       "\n",
       "    product_main_category    product_subcategory    product_category_filter  \\\n",
       "0               Clothing       Women's Clothing                Ethnic Wear    \n",
       "1      Pens & Stationery    Diaries & Notebooks                  Notebooks    \n",
       "2      Pens & Stationery    Diaries & Notebooks                  Notebooks    \n",
       "3      Pens & Stationery    Diaries & Notebooks                  Notebooks    \n",
       "4               Clothing       Women's Clothing                Formal Wear    \n",
       "5      Pens & Stationery        Office Supplies    Packaging Security Bags    \n",
       "6               Clothing       Women's Clothing                Formal Wear    \n",
       "7  Bags, Wallets & Belts                   Bags         Pouches and Potlis    \n",
       "8               Clothing         Kids' Clothing                  Boys Wear    \n",
       "9               Footwear       Women's Footwear               Casual Shoes    \n",
       "\n",
       "          product_category_subfilter product_unique ID  retail_price  \\\n",
       "0                            Fabric   FABEJX2NHNKCYHKA           999   \n",
       "1                          Designer   DIAEJ6Z8BEDTGGYY           499   \n",
       "2                          Designer   DIAEJ6Z8KQFWDEGH           499   \n",
       "3                          Designer   DIAEJ8FGHZ3K86JU          1000   \n",
       "4                        Waistcoats   WSCEG2FYDYFDSVZ6          1200   \n",
       "5   Packman Packaging Security Bags   PKBEGBTRKKHU26YQ           350   \n",
       "6                        Waistcoats   WSCEFUV4TVWT73ZB           899   \n",
       "7      Angelfish Pouches and Potlis   PPSEGFYAGD8FYUXV           999   \n",
       "8             Dungarees & Jumpsuits   DRPEF2XSFBAP4SUZ           899   \n",
       "9                            Canvas   SHOEGVQCT2ZSGUHY          1999   \n",
       "\n",
       "   discounted_price  product_rating          Brand  \\\n",
       "0               699             4.0       INDCROWN   \n",
       "1               275             1.0      SHOPMANIA   \n",
       "2               275             2.0      SHOPMANIA   \n",
       "3               837             3.0  TIARA DIARIES   \n",
       "4               699             5.0          KAJCI   \n",
       "5               298             4.0        PACKMAN   \n",
       "6               899             1.0    PICK POCKET   \n",
       "7               399             4.0      ANGELFISH   \n",
       "8               764             1.0            OYE   \n",
       "9              1349             2.0         NURIDE   \n",
       "\n",
       "                              product_specifications  \\\n",
       "0  {\"product_specification\"=>[{\"key\"=>\"Fabric\", \"...   \n",
       "1  {\"product_specification\"=>[{\"key\"=>\"Ruling\", \"...   \n",
       "2  {\"product_specification\"=>[{\"key\"=>\"Ruling\", \"...   \n",
       "3  {\"product_specification\"=>[{\"key\"=>\"Ruling\", \"...   \n",
       "4  {\"product_specification\"=>[{\"key\"=>\"Pattern\", ...   \n",
       "5  {\"product_specification\"=>[{\"key\"=>\"Bubble Wra...   \n",
       "6  {\"product_specification\"=>[{\"key\"=>\"Pattern\", ...   \n",
       "7  {\"product_specification\"=>[{\"key\"=>\"Closure\", ...   \n",
       "8  {\"product_specification\"=>[{\"key\"=>\"Number of ...   \n",
       "9  {\"product_specification\"=>[{\"key\"=>\"Occasion\",...   \n",
       "\n",
       "                                         description  \n",
       "0  Key Features of Indcrown Net Embroidered Semi-...  \n",
       "1  Specifications of Shopmania Music Band A5 Note...  \n",
       "2  Specifications of Shopmania Music Band A5 Note...  \n",
       "3  Specifications of Tiara Diaries 2016-2017 Desi...  \n",
       "4  Specifications of KAJCI Embroidered Women's Wa...  \n",
       "5  Key Features of Packman 8 x 10 inches Security...  \n",
       "6  Specifications of Pick Pocket Embroidered Wome...  \n",
       "7  Angelfish Silk Potali Potli (Multicolor) Price...  \n",
       "8  Specifications of Oye Boy's Dungaree Top Detai...  \n",
       "9  Key Features of Nuride Canvas Shoes Material: ...  "
      ]
     },
     "execution_count": 281,
     "metadata": {},
     "output_type": "execute_result"
    }
   ],
   "source": [
    "df.head(10)"
   ]
  },
  {
   "cell_type": "markdown",
   "id": "48baeda6",
   "metadata": {},
   "source": [
    "### Ans 1 a) - Last 10 records"
   ]
  },
  {
   "cell_type": "code",
   "execution_count": 282,
   "id": "0ac3ef5d",
   "metadata": {},
   "outputs": [
    {
     "data": {
      "text/html": [
       "<div>\n",
       "<style scoped>\n",
       "    .dataframe tbody tr th:only-of-type {\n",
       "        vertical-align: middle;\n",
       "    }\n",
       "\n",
       "    .dataframe tbody tr th {\n",
       "        vertical-align: top;\n",
       "    }\n",
       "\n",
       "    .dataframe thead th {\n",
       "        text-align: right;\n",
       "    }\n",
       "</style>\n",
       "<table border=\"1\" class=\"dataframe\">\n",
       "  <thead>\n",
       "    <tr style=\"text-align: right;\">\n",
       "      <th></th>\n",
       "      <th>Customer_uniq_id</th>\n",
       "      <th>Region</th>\n",
       "      <th>Order_Date</th>\n",
       "      <th>Expected_Delivery_Date</th>\n",
       "      <th>Delivered_Date</th>\n",
       "      <th>product_name</th>\n",
       "      <th>product_main_category</th>\n",
       "      <th>product_subcategory</th>\n",
       "      <th>product_category_filter</th>\n",
       "      <th>product_category_subfilter</th>\n",
       "      <th>product_unique ID</th>\n",
       "      <th>retail_price</th>\n",
       "      <th>discounted_price</th>\n",
       "      <th>product_rating</th>\n",
       "      <th>Brand</th>\n",
       "      <th>product_specifications</th>\n",
       "      <th>description</th>\n",
       "    </tr>\n",
       "  </thead>\n",
       "  <tbody>\n",
       "    <tr>\n",
       "      <th>8896</th>\n",
       "      <td>4db03bc4ccbe216cf151b2f2b904ba3f</td>\n",
       "      <td>East</td>\n",
       "      <td>01-12-2020</td>\n",
       "      <td>04-12-2020</td>\n",
       "      <td>04-12-2020</td>\n",
       "      <td>Luca Fashion Girls Heels</td>\n",
       "      <td>Footwear</td>\n",
       "      <td>Kids' &amp; Infant Footwear</td>\n",
       "      <td>For Girls</td>\n",
       "      <td>Sandals</td>\n",
       "      <td>SNDEHG3DNVBFGAT5</td>\n",
       "      <td>999</td>\n",
       "      <td>499</td>\n",
       "      <td>4.0</td>\n",
       "      <td>LUCA FASHION</td>\n",
       "      <td>{\"product_specification\"=&gt;[{\"key\"=&gt;\"Occasion\",...</td>\n",
       "      <td>Key Features of Luca Fashion Girls Heels Occas...</td>\n",
       "    </tr>\n",
       "    <tr>\n",
       "      <th>8897</th>\n",
       "      <td>4d4d6aeb13fa253499d0dd45a5abd87e</td>\n",
       "      <td>West</td>\n",
       "      <td>01-12-2020</td>\n",
       "      <td>04-12-2020</td>\n",
       "      <td>04-12-2020</td>\n",
       "      <td>Shoetopia Girls Sandals</td>\n",
       "      <td>Footwear</td>\n",
       "      <td>Kids' &amp; Infant Footwear</td>\n",
       "      <td>For Girls</td>\n",
       "      <td>Sandals</td>\n",
       "      <td>SNDEG7DRWSX8HFXZ</td>\n",
       "      <td>499</td>\n",
       "      <td>399</td>\n",
       "      <td>4.0</td>\n",
       "      <td>SHOETOPIA</td>\n",
       "      <td>{\"product_specification\"=&gt;[{\"key\"=&gt;\"Ideal For\"...</td>\n",
       "      <td>Key Features of Shoetopia Girls Sandals Flats ...</td>\n",
       "    </tr>\n",
       "    <tr>\n",
       "      <th>8898</th>\n",
       "      <td>ea19e7ef703293d3f6c799ca9db4642d</td>\n",
       "      <td>West</td>\n",
       "      <td>01-12-2020</td>\n",
       "      <td>04-12-2020</td>\n",
       "      <td>04-12-2020</td>\n",
       "      <td>SMART TRADERS Girls Sandals</td>\n",
       "      <td>Footwear</td>\n",
       "      <td>Kids' &amp; Infant Footwear</td>\n",
       "      <td>For Girls</td>\n",
       "      <td>Sandals</td>\n",
       "      <td>SNDEG7MZHHKZ58D2</td>\n",
       "      <td>999</td>\n",
       "      <td>499</td>\n",
       "      <td>5.0</td>\n",
       "      <td>SMART TRADERS</td>\n",
       "      <td>{\"product_specification\"=&gt;[{\"key\"=&gt;\"Ideal For\"...</td>\n",
       "      <td>Key Features of SMART TRADERS Girls Sandals Oc...</td>\n",
       "    </tr>\n",
       "    <tr>\n",
       "      <th>8899</th>\n",
       "      <td>19a53a958992fb575acffb5d41e7ef9e</td>\n",
       "      <td>East</td>\n",
       "      <td>01-12-2020</td>\n",
       "      <td>04-12-2020</td>\n",
       "      <td>04-12-2020</td>\n",
       "      <td>Beanz Girls Flats</td>\n",
       "      <td>Footwear</td>\n",
       "      <td>Kids' &amp; Infant Footwear</td>\n",
       "      <td>For Girls</td>\n",
       "      <td>Sandals</td>\n",
       "      <td>SNDEG7DYVFWHZBC4</td>\n",
       "      <td>1299</td>\n",
       "      <td>1299</td>\n",
       "      <td>3.0</td>\n",
       "      <td>BEANZ</td>\n",
       "      <td>{\"product_specification\"=&gt;[{\"key\"=&gt;\"Occasion\",...</td>\n",
       "      <td>Key Features of Beanz Girls Flats Occasion: Ca...</td>\n",
       "    </tr>\n",
       "    <tr>\n",
       "      <th>8900</th>\n",
       "      <td>09abab80c8dfdc6f268e0a6f05a0be11</td>\n",
       "      <td>North</td>\n",
       "      <td>01-12-2020</td>\n",
       "      <td>04-12-2020</td>\n",
       "      <td>04-12-2020</td>\n",
       "      <td>Nova KT 728S Electric Kettle</td>\n",
       "      <td>Home &amp; Kitchen</td>\n",
       "      <td>Kitchen Appliances</td>\n",
       "      <td>Electric Jug(heater)/Travel Kettles</td>\n",
       "      <td>Nova Electric Jug(heater)/Travel Kettles</td>\n",
       "      <td>EKTDG5C5QSADZZ8J</td>\n",
       "      <td>3195</td>\n",
       "      <td>699</td>\n",
       "      <td>3.6</td>\n",
       "      <td>NOVA</td>\n",
       "      <td>{\"product_specification\"=&gt;[{\"key\"=&gt;\"Brand\", \"v...</td>\n",
       "      <td>Specifications of Nova KT 728S Electric Kettle...</td>\n",
       "    </tr>\n",
       "    <tr>\n",
       "      <th>8901</th>\n",
       "      <td>90d30478255e23621e8929ed15c2f6e4</td>\n",
       "      <td>South</td>\n",
       "      <td>01-12-2020</td>\n",
       "      <td>04-12-2020</td>\n",
       "      <td>04-12-2020</td>\n",
       "      <td>Sinina Chanderi Embroidered Salwar Suit Dupatt...</td>\n",
       "      <td>Clothing</td>\n",
       "      <td>Women's Clothing</td>\n",
       "      <td>Ethnic Wear</td>\n",
       "      <td>Fabric</td>\n",
       "      <td>FABEGGHHDFMY8BZU</td>\n",
       "      <td>2980</td>\n",
       "      <td>1490</td>\n",
       "      <td>3.0</td>\n",
       "      <td>SININA</td>\n",
       "      <td>{\"product_specification\"=&gt;[{\"key\"=&gt;\"Fabric\", \"...</td>\n",
       "      <td>Key Features of Sinina Chanderi Embroidered Sa...</td>\n",
       "    </tr>\n",
       "    <tr>\n",
       "      <th>8902</th>\n",
       "      <td>20a73e3f41490a73ceeba5f17658db8f</td>\n",
       "      <td>West</td>\n",
       "      <td>01-12-2020</td>\n",
       "      <td>04-12-2020</td>\n",
       "      <td>04-12-2020</td>\n",
       "      <td>Aarushi Fashion Chanderi Embroidered Salwar Su...</td>\n",
       "      <td>Clothing</td>\n",
       "      <td>Women's Clothing</td>\n",
       "      <td>Ethnic Wear</td>\n",
       "      <td>Fabric</td>\n",
       "      <td>FABEG8GFDUWRSNU3</td>\n",
       "      <td>2600</td>\n",
       "      <td>1300</td>\n",
       "      <td>1.0</td>\n",
       "      <td>AARUSHI FASHION</td>\n",
       "      <td>{\"product_specification\"=&gt;[{\"key\"=&gt;\"Fabric\", \"...</td>\n",
       "      <td>Key Features of Aarushi Fashion Chanderi Embro...</td>\n",
       "    </tr>\n",
       "    <tr>\n",
       "      <th>8903</th>\n",
       "      <td>5c1554cd45f9d538c2c6947dbdd59c75</td>\n",
       "      <td>East</td>\n",
       "      <td>01-12-2020</td>\n",
       "      <td>04-12-2020</td>\n",
       "      <td>04-12-2020</td>\n",
       "      <td>Ambika Lahenga Embroidered Lehenga, Choli and ...</td>\n",
       "      <td>Clothing</td>\n",
       "      <td>Women's Clothing</td>\n",
       "      <td>Ethnic Wear</td>\n",
       "      <td>Lehenga Cholis</td>\n",
       "      <td>LEHEGGEHYN4G2RPW</td>\n",
       "      <td>39992</td>\n",
       "      <td>24995</td>\n",
       "      <td>1.0</td>\n",
       "      <td>AMBIKA LAHENGA</td>\n",
       "      <td>{\"product_specification\"=&gt;[{\"key\"=&gt;\"Fabric\", \"...</td>\n",
       "      <td>Key Features of Ambika Lahenga Embroidered Leh...</td>\n",
       "    </tr>\n",
       "    <tr>\n",
       "      <th>8904</th>\n",
       "      <td>6b737a4deca1ed0e56c179e66036e994</td>\n",
       "      <td>West</td>\n",
       "      <td>01-12-2020</td>\n",
       "      <td>04-12-2020</td>\n",
       "      <td>04-12-2020</td>\n",
       "      <td>Sinina Chanderi Embroidered Salwar Suit Dupatt...</td>\n",
       "      <td>Clothing</td>\n",
       "      <td>Women's Clothing</td>\n",
       "      <td>Ethnic Wear</td>\n",
       "      <td>Fabric</td>\n",
       "      <td>FABEGGHHGSVCHGFV</td>\n",
       "      <td>2000</td>\n",
       "      <td>1000</td>\n",
       "      <td>3.0</td>\n",
       "      <td>SININA</td>\n",
       "      <td>{\"product_specification\"=&gt;[{\"key\"=&gt;\"Fabric\", \"...</td>\n",
       "      <td>Key Features of Sinina Chanderi Embroidered Sa...</td>\n",
       "    </tr>\n",
       "    <tr>\n",
       "      <th>8905</th>\n",
       "      <td>a5235ac28d3d5487f54025f9d6b57433</td>\n",
       "      <td>North</td>\n",
       "      <td>01-12-2020</td>\n",
       "      <td>04-12-2020</td>\n",
       "      <td>04-12-2020</td>\n",
       "      <td>Aarushi Fashion Silk Striped Salwar Suit Dupat...</td>\n",
       "      <td>Clothing</td>\n",
       "      <td>Women's Clothing</td>\n",
       "      <td>Ethnic Wear</td>\n",
       "      <td>Fabric</td>\n",
       "      <td>FABEG8GYDAABECZH</td>\n",
       "      <td>2800</td>\n",
       "      <td>1350</td>\n",
       "      <td>4.0</td>\n",
       "      <td>AARUSHI FASHION</td>\n",
       "      <td>{\"product_specification\"=&gt;[{\"key\"=&gt;\"Fabric\", \"...</td>\n",
       "      <td>Key Features of Aarushi Fashion Silk Striped S...</td>\n",
       "    </tr>\n",
       "  </tbody>\n",
       "</table>\n",
       "</div>"
      ],
      "text/plain": [
       "                      Customer_uniq_id Region  Order_Date  \\\n",
       "8896  4db03bc4ccbe216cf151b2f2b904ba3f  East   01-12-2020   \n",
       "8897  4d4d6aeb13fa253499d0dd45a5abd87e   West  01-12-2020   \n",
       "8898  ea19e7ef703293d3f6c799ca9db4642d   West  01-12-2020   \n",
       "8899  19a53a958992fb575acffb5d41e7ef9e  East   01-12-2020   \n",
       "8900  09abab80c8dfdc6f268e0a6f05a0be11  North  01-12-2020   \n",
       "8901  90d30478255e23621e8929ed15c2f6e4  South  01-12-2020   \n",
       "8902  20a73e3f41490a73ceeba5f17658db8f   West  01-12-2020   \n",
       "8903  5c1554cd45f9d538c2c6947dbdd59c75  East   01-12-2020   \n",
       "8904  6b737a4deca1ed0e56c179e66036e994   West  01-12-2020   \n",
       "8905  a5235ac28d3d5487f54025f9d6b57433  North  01-12-2020   \n",
       "\n",
       "     Expected_Delivery_Date Delivered_Date  \\\n",
       "8896             04-12-2020     04-12-2020   \n",
       "8897             04-12-2020     04-12-2020   \n",
       "8898             04-12-2020     04-12-2020   \n",
       "8899             04-12-2020     04-12-2020   \n",
       "8900             04-12-2020     04-12-2020   \n",
       "8901             04-12-2020     04-12-2020   \n",
       "8902             04-12-2020     04-12-2020   \n",
       "8903             04-12-2020     04-12-2020   \n",
       "8904             04-12-2020     04-12-2020   \n",
       "8905             04-12-2020     04-12-2020   \n",
       "\n",
       "                                           product_name product_main_category  \\\n",
       "8896                           Luca Fashion Girls Heels             Footwear    \n",
       "8897                            Shoetopia Girls Sandals             Footwear    \n",
       "8898                        SMART TRADERS Girls Sandals             Footwear    \n",
       "8899                                  Beanz Girls Flats             Footwear    \n",
       "8900                       Nova KT 728S Electric Kettle       Home & Kitchen    \n",
       "8901  Sinina Chanderi Embroidered Salwar Suit Dupatt...             Clothing    \n",
       "8902  Aarushi Fashion Chanderi Embroidered Salwar Su...             Clothing    \n",
       "8903  Ambika Lahenga Embroidered Lehenga, Choli and ...             Clothing    \n",
       "8904  Sinina Chanderi Embroidered Salwar Suit Dupatt...             Clothing    \n",
       "8905  Aarushi Fashion Silk Striped Salwar Suit Dupat...             Clothing    \n",
       "\n",
       "            product_subcategory                product_category_filter  \\\n",
       "8896   Kids' & Infant Footwear                              For Girls    \n",
       "8897   Kids' & Infant Footwear                              For Girls    \n",
       "8898   Kids' & Infant Footwear                              For Girls    \n",
       "8899   Kids' & Infant Footwear                              For Girls    \n",
       "8900        Kitchen Appliances    Electric Jug(heater)/Travel Kettles    \n",
       "8901          Women's Clothing                            Ethnic Wear    \n",
       "8902          Women's Clothing                            Ethnic Wear    \n",
       "8903          Women's Clothing                            Ethnic Wear    \n",
       "8904          Women's Clothing                            Ethnic Wear    \n",
       "8905          Women's Clothing                            Ethnic Wear    \n",
       "\n",
       "                      product_category_subfilter product_unique ID  \\\n",
       "8896                                    Sandals   SNDEHG3DNVBFGAT5   \n",
       "8897                                    Sandals   SNDEG7DRWSX8HFXZ   \n",
       "8898                                    Sandals   SNDEG7MZHHKZ58D2   \n",
       "8899                                    Sandals   SNDEG7DYVFWHZBC4   \n",
       "8900   Nova Electric Jug(heater)/Travel Kettles   EKTDG5C5QSADZZ8J   \n",
       "8901                                     Fabric   FABEGGHHDFMY8BZU   \n",
       "8902                                     Fabric   FABEG8GFDUWRSNU3   \n",
       "8903                             Lehenga Cholis   LEHEGGEHYN4G2RPW   \n",
       "8904                                     Fabric   FABEGGHHGSVCHGFV   \n",
       "8905                                     Fabric   FABEG8GYDAABECZH   \n",
       "\n",
       "      retail_price  discounted_price  product_rating            Brand  \\\n",
       "8896           999               499             4.0     LUCA FASHION   \n",
       "8897           499               399             4.0        SHOETOPIA   \n",
       "8898           999               499             5.0    SMART TRADERS   \n",
       "8899          1299              1299             3.0            BEANZ   \n",
       "8900          3195               699             3.6             NOVA   \n",
       "8901          2980              1490             3.0           SININA   \n",
       "8902          2600              1300             1.0  AARUSHI FASHION   \n",
       "8903         39992             24995             1.0   AMBIKA LAHENGA   \n",
       "8904          2000              1000             3.0           SININA   \n",
       "8905          2800              1350             4.0  AARUSHI FASHION   \n",
       "\n",
       "                                 product_specifications  \\\n",
       "8896  {\"product_specification\"=>[{\"key\"=>\"Occasion\",...   \n",
       "8897  {\"product_specification\"=>[{\"key\"=>\"Ideal For\"...   \n",
       "8898  {\"product_specification\"=>[{\"key\"=>\"Ideal For\"...   \n",
       "8899  {\"product_specification\"=>[{\"key\"=>\"Occasion\",...   \n",
       "8900  {\"product_specification\"=>[{\"key\"=>\"Brand\", \"v...   \n",
       "8901  {\"product_specification\"=>[{\"key\"=>\"Fabric\", \"...   \n",
       "8902  {\"product_specification\"=>[{\"key\"=>\"Fabric\", \"...   \n",
       "8903  {\"product_specification\"=>[{\"key\"=>\"Fabric\", \"...   \n",
       "8904  {\"product_specification\"=>[{\"key\"=>\"Fabric\", \"...   \n",
       "8905  {\"product_specification\"=>[{\"key\"=>\"Fabric\", \"...   \n",
       "\n",
       "                                            description  \n",
       "8896  Key Features of Luca Fashion Girls Heels Occas...  \n",
       "8897  Key Features of Shoetopia Girls Sandals Flats ...  \n",
       "8898  Key Features of SMART TRADERS Girls Sandals Oc...  \n",
       "8899  Key Features of Beanz Girls Flats Occasion: Ca...  \n",
       "8900  Specifications of Nova KT 728S Electric Kettle...  \n",
       "8901  Key Features of Sinina Chanderi Embroidered Sa...  \n",
       "8902  Key Features of Aarushi Fashion Chanderi Embro...  \n",
       "8903  Key Features of Ambika Lahenga Embroidered Leh...  \n",
       "8904  Key Features of Sinina Chanderi Embroidered Sa...  \n",
       "8905  Key Features of Aarushi Fashion Silk Striped S...  "
      ]
     },
     "execution_count": 282,
     "metadata": {},
     "output_type": "execute_result"
    }
   ],
   "source": [
    "df.tail(10)"
   ]
  },
  {
   "cell_type": "markdown",
   "id": "6aaa54a0",
   "metadata": {},
   "source": [
    "### Ans  1 b) "
   ]
  },
  {
   "cell_type": "markdown",
   "id": "dcd77384",
   "metadata": {},
   "source": [
    "#### First Method"
   ]
  },
  {
   "cell_type": "code",
   "execution_count": 283,
   "id": "115627b2",
   "metadata": {},
   "outputs": [
    {
     "name": "stdout",
     "output_type": "stream",
     "text": [
      "The number of rows are 8906\n",
      "The number of columns are 17\n"
     ]
    }
   ],
   "source": [
    "df.shape\n",
    "\n",
    "print(\"The number of rows are\", df.shape[0])\n",
    "print(\"The number of columns are\", df.shape[1])"
   ]
  },
  {
   "cell_type": "markdown",
   "id": "c3142777",
   "metadata": {},
   "source": [
    "#### Second Method"
   ]
  },
  {
   "cell_type": "code",
   "execution_count": 284,
   "id": "8b014790",
   "metadata": {},
   "outputs": [
    {
     "name": "stdout",
     "output_type": "stream",
     "text": [
      "The number of rows are 8906\n",
      "The no. of columns are 17\n"
     ]
    }
   ],
   "source": [
    "# Here we are using the iloc function to get the data of row number 3 in variable and then calcualting the len of that variable.\n",
    "a = df.iloc[2]\n",
    "\n",
    "print(\"The number of rows are\",len(df))\n",
    "print(\"The no. of columns are\",len(a))"
   ]
  },
  {
   "cell_type": "markdown",
   "id": "69b01c7b",
   "metadata": {},
   "source": [
    "#### Third Method"
   ]
  },
  {
   "cell_type": "code",
   "execution_count": 285,
   "id": "bbb12420",
   "metadata": {},
   "outputs": [
    {
     "name": "stdout",
     "output_type": "stream",
     "text": [
      "The number of rows are 8906\n",
      "The no. of columns are 17\n"
     ]
    }
   ],
   "source": [
    "row_count = len(df.axes[0])\n",
    "columns_count = len(df.axes[1])\n",
    "\n",
    "print(\"The number of rows are\",row_count)\n",
    "print(\"The no. of columns are\",columns_count)"
   ]
  },
  {
   "cell_type": "markdown",
   "id": "5e63573c",
   "metadata": {},
   "source": [
    "### Ans 1 c)"
   ]
  },
  {
   "cell_type": "code",
   "execution_count": 286,
   "id": "2b96d5be",
   "metadata": {},
   "outputs": [
    {
     "name": "stdout",
     "output_type": "stream",
     "text": [
      "<class 'pandas.core.frame.DataFrame'>\n",
      "RangeIndex: 8906 entries, 0 to 8905\n",
      "Data columns (total 17 columns):\n",
      " #   Column                      Non-Null Count  Dtype  \n",
      "---  ------                      --------------  -----  \n",
      " 0   Customer_uniq_id            8906 non-null   object \n",
      " 1   Region                      8906 non-null   object \n",
      " 2   Order_Date                  8906 non-null   object \n",
      " 3   Expected_Delivery_Date      8906 non-null   object \n",
      " 4   Delivered_Date              8906 non-null   object \n",
      " 5   product_name                8906 non-null   object \n",
      " 6   product_main_category       8906 non-null   object \n",
      " 7   product_subcategory         8906 non-null   object \n",
      " 8   product_category_filter     8906 non-null   object \n",
      " 9   product_category_subfilter  8906 non-null   object \n",
      " 10  product_unique ID           8906 non-null   object \n",
      " 11  retail_price                8906 non-null   int64  \n",
      " 12  discounted_price            8906 non-null   int64  \n",
      " 13  product_rating              8906 non-null   float64\n",
      " 14  Brand                       8906 non-null   object \n",
      " 15  product_specifications      8906 non-null   object \n",
      " 16  description                 8906 non-null   object \n",
      "dtypes: float64(1), int64(2), object(14)\n",
      "memory usage: 1.2+ MB\n"
     ]
    }
   ],
   "source": [
    "df.info()"
   ]
  },
  {
   "cell_type": "markdown",
   "id": "36555aac",
   "metadata": {},
   "source": [
    "#### We can see that there 14 object data types"
   ]
  },
  {
   "cell_type": "markdown",
   "id": "93aa2e1e",
   "metadata": {},
   "source": [
    "### Ans 1 d)"
   ]
  },
  {
   "cell_type": "code",
   "execution_count": 288,
   "id": "6bb892f1",
   "metadata": {},
   "outputs": [
    {
     "data": {
      "text/plain": [
       "object     14\n",
       "int64       2\n",
       "float64     1\n",
       "dtype: int64"
      ]
     },
     "execution_count": 288,
     "metadata": {},
     "output_type": "execute_result"
    }
   ],
   "source": [
    "df.dtypes.value_counts()"
   ]
  },
  {
   "cell_type": "markdown",
   "id": "440e3b57",
   "metadata": {},
   "source": [
    "#### From the above method we can see that there is no boolean varibale"
   ]
  },
  {
   "cell_type": "code",
   "execution_count": null,
   "id": "73f7a7cb",
   "metadata": {},
   "outputs": [],
   "source": []
  },
  {
   "cell_type": "code",
   "execution_count": null,
   "id": "f4f8284a",
   "metadata": {},
   "outputs": [],
   "source": []
  },
  {
   "cell_type": "markdown",
   "id": "cc5d76f1",
   "metadata": {},
   "source": [
    "<font color='blue'>\n",
    "    <font size = 5>\n",
    " Once you are familiar with the data, you may decide that not all features are of use to you and you may want to delete the non-informative features (columns)</font>"
   ]
  },
  {
   "cell_type": "markdown",
   "id": "90db65ce",
   "metadata": {},
   "source": [
    "## Q 2.\tEliminating the non-informative columns.\n",
    "## a)\tDrop the columns product_specifications and description. (2 marks) \n",
    "## b)\tWhich method or function is used to permanently delete the columns mentioned in part (a)? Write the code explicitly (2 marks)\n",
    "### Note: Use the markdown feature of Python to explain your answer.\n"
   ]
  },
  {
   "cell_type": "markdown",
   "id": "e0e7e762",
   "metadata": {},
   "source": [
    "### Ans 2 a)"
   ]
  },
  {
   "cell_type": "code",
   "execution_count": 289,
   "id": "35ad0821",
   "metadata": {},
   "outputs": [],
   "source": [
    "df_drop = df.copy()"
   ]
  },
  {
   "cell_type": "markdown",
   "id": "e74e5d91",
   "metadata": {},
   "source": [
    "#### First we create the copy of the data frame and store it in a variable. Here I have used 'df_drop' as variable name. By doing this our original data frame df will not get changed and no columns will get deleted from the original data set"
   ]
  },
  {
   "cell_type": "code",
   "execution_count": 290,
   "id": "dfb28a65",
   "metadata": {},
   "outputs": [
    {
     "data": {
      "text/html": [
       "<div>\n",
       "<style scoped>\n",
       "    .dataframe tbody tr th:only-of-type {\n",
       "        vertical-align: middle;\n",
       "    }\n",
       "\n",
       "    .dataframe tbody tr th {\n",
       "        vertical-align: top;\n",
       "    }\n",
       "\n",
       "    .dataframe thead th {\n",
       "        text-align: right;\n",
       "    }\n",
       "</style>\n",
       "<table border=\"1\" class=\"dataframe\">\n",
       "  <thead>\n",
       "    <tr style=\"text-align: right;\">\n",
       "      <th></th>\n",
       "      <th>Customer_uniq_id</th>\n",
       "      <th>Region</th>\n",
       "      <th>Order_Date</th>\n",
       "      <th>Expected_Delivery_Date</th>\n",
       "      <th>Delivered_Date</th>\n",
       "      <th>product_name</th>\n",
       "      <th>product_main_category</th>\n",
       "      <th>product_subcategory</th>\n",
       "      <th>product_category_filter</th>\n",
       "      <th>product_category_subfilter</th>\n",
       "      <th>product_unique ID</th>\n",
       "      <th>retail_price</th>\n",
       "      <th>discounted_price</th>\n",
       "      <th>product_rating</th>\n",
       "      <th>Brand</th>\n",
       "    </tr>\n",
       "  </thead>\n",
       "  <tbody>\n",
       "    <tr>\n",
       "      <th>0</th>\n",
       "      <td>e71017e224688489edfe856f2308806d</td>\n",
       "      <td>East</td>\n",
       "      <td>24-10-2021</td>\n",
       "      <td>25-10-2021</td>\n",
       "      <td>25-10-2021</td>\n",
       "      <td>Indcrown Net Embroidered Semi-stitched Lehenga...</td>\n",
       "      <td>Clothing</td>\n",
       "      <td>Women's Clothing</td>\n",
       "      <td>Ethnic Wear</td>\n",
       "      <td>Fabric</td>\n",
       "      <td>FABEJX2NHNKCYHKA</td>\n",
       "      <td>999</td>\n",
       "      <td>699</td>\n",
       "      <td>4.0</td>\n",
       "      <td>INDCROWN</td>\n",
       "    </tr>\n",
       "    <tr>\n",
       "      <th>1</th>\n",
       "      <td>6286847ee2da18f587503db49511c539</td>\n",
       "      <td>East</td>\n",
       "      <td>24-10-2021</td>\n",
       "      <td>25-10-2021</td>\n",
       "      <td>25-10-2021</td>\n",
       "      <td>Shopmania Music Band A5 Notebook Spiral Bound</td>\n",
       "      <td>Pens &amp; Stationery</td>\n",
       "      <td>Diaries &amp; Notebooks</td>\n",
       "      <td>Notebooks</td>\n",
       "      <td>Designer</td>\n",
       "      <td>DIAEJ6Z8BEDTGGYY</td>\n",
       "      <td>499</td>\n",
       "      <td>275</td>\n",
       "      <td>1.0</td>\n",
       "      <td>SHOPMANIA</td>\n",
       "    </tr>\n",
       "  </tbody>\n",
       "</table>\n",
       "</div>"
      ],
      "text/plain": [
       "                   Customer_uniq_id Region  Order_Date Expected_Delivery_Date  \\\n",
       "0  e71017e224688489edfe856f2308806d  East   24-10-2021             25-10-2021   \n",
       "1  6286847ee2da18f587503db49511c539  East   24-10-2021             25-10-2021   \n",
       "\n",
       "  Delivered_Date                                       product_name  \\\n",
       "0     25-10-2021  Indcrown Net Embroidered Semi-stitched Lehenga...   \n",
       "1     25-10-2021      Shopmania Music Band A5 Notebook Spiral Bound   \n",
       "\n",
       "  product_main_category    product_subcategory product_category_filter  \\\n",
       "0             Clothing       Women's Clothing             Ethnic Wear    \n",
       "1    Pens & Stationery    Diaries & Notebooks               Notebooks    \n",
       "\n",
       "  product_category_subfilter product_unique ID  retail_price  \\\n",
       "0                    Fabric   FABEJX2NHNKCYHKA           999   \n",
       "1                  Designer   DIAEJ6Z8BEDTGGYY           499   \n",
       "\n",
       "   discounted_price  product_rating      Brand  \n",
       "0               699             4.0   INDCROWN  \n",
       "1               275             1.0  SHOPMANIA  "
      ]
     },
     "execution_count": 290,
     "metadata": {},
     "output_type": "execute_result"
    }
   ],
   "source": [
    "df_drop.drop(['product_specifications' , 'description'] , axis=1).head(2)"
   ]
  },
  {
   "cell_type": "markdown",
   "id": "13946f61",
   "metadata": {},
   "source": [
    "### Ans 2 b)"
   ]
  },
  {
   "cell_type": "code",
   "execution_count": 291,
   "id": "c0ab5852",
   "metadata": {},
   "outputs": [
    {
     "data": {
      "text/html": [
       "<div>\n",
       "<style scoped>\n",
       "    .dataframe tbody tr th:only-of-type {\n",
       "        vertical-align: middle;\n",
       "    }\n",
       "\n",
       "    .dataframe tbody tr th {\n",
       "        vertical-align: top;\n",
       "    }\n",
       "\n",
       "    .dataframe thead th {\n",
       "        text-align: right;\n",
       "    }\n",
       "</style>\n",
       "<table border=\"1\" class=\"dataframe\">\n",
       "  <thead>\n",
       "    <tr style=\"text-align: right;\">\n",
       "      <th></th>\n",
       "      <th>Customer_uniq_id</th>\n",
       "      <th>Region</th>\n",
       "      <th>Order_Date</th>\n",
       "      <th>Expected_Delivery_Date</th>\n",
       "      <th>Delivered_Date</th>\n",
       "      <th>product_name</th>\n",
       "      <th>product_main_category</th>\n",
       "      <th>product_subcategory</th>\n",
       "      <th>product_category_filter</th>\n",
       "      <th>product_category_subfilter</th>\n",
       "      <th>product_unique ID</th>\n",
       "      <th>retail_price</th>\n",
       "      <th>discounted_price</th>\n",
       "      <th>product_rating</th>\n",
       "      <th>Brand</th>\n",
       "      <th>product_specifications</th>\n",
       "      <th>description</th>\n",
       "    </tr>\n",
       "  </thead>\n",
       "  <tbody>\n",
       "    <tr>\n",
       "      <th>0</th>\n",
       "      <td>e71017e224688489edfe856f2308806d</td>\n",
       "      <td>East</td>\n",
       "      <td>24-10-2021</td>\n",
       "      <td>25-10-2021</td>\n",
       "      <td>25-10-2021</td>\n",
       "      <td>Indcrown Net Embroidered Semi-stitched Lehenga...</td>\n",
       "      <td>Clothing</td>\n",
       "      <td>Women's Clothing</td>\n",
       "      <td>Ethnic Wear</td>\n",
       "      <td>Fabric</td>\n",
       "      <td>FABEJX2NHNKCYHKA</td>\n",
       "      <td>999</td>\n",
       "      <td>699</td>\n",
       "      <td>4.0</td>\n",
       "      <td>INDCROWN</td>\n",
       "      <td>{\"product_specification\"=&gt;[{\"key\"=&gt;\"Fabric\", \"...</td>\n",
       "      <td>Key Features of Indcrown Net Embroidered Semi-...</td>\n",
       "    </tr>\n",
       "    <tr>\n",
       "      <th>1</th>\n",
       "      <td>6286847ee2da18f587503db49511c539</td>\n",
       "      <td>East</td>\n",
       "      <td>24-10-2021</td>\n",
       "      <td>25-10-2021</td>\n",
       "      <td>25-10-2021</td>\n",
       "      <td>Shopmania Music Band A5 Notebook Spiral Bound</td>\n",
       "      <td>Pens &amp; Stationery</td>\n",
       "      <td>Diaries &amp; Notebooks</td>\n",
       "      <td>Notebooks</td>\n",
       "      <td>Designer</td>\n",
       "      <td>DIAEJ6Z8BEDTGGYY</td>\n",
       "      <td>499</td>\n",
       "      <td>275</td>\n",
       "      <td>1.0</td>\n",
       "      <td>SHOPMANIA</td>\n",
       "      <td>{\"product_specification\"=&gt;[{\"key\"=&gt;\"Ruling\", \"...</td>\n",
       "      <td>Specifications of Shopmania Music Band A5 Note...</td>\n",
       "    </tr>\n",
       "  </tbody>\n",
       "</table>\n",
       "</div>"
      ],
      "text/plain": [
       "                   Customer_uniq_id Region  Order_Date Expected_Delivery_Date  \\\n",
       "0  e71017e224688489edfe856f2308806d  East   24-10-2021             25-10-2021   \n",
       "1  6286847ee2da18f587503db49511c539  East   24-10-2021             25-10-2021   \n",
       "\n",
       "  Delivered_Date                                       product_name  \\\n",
       "0     25-10-2021  Indcrown Net Embroidered Semi-stitched Lehenga...   \n",
       "1     25-10-2021      Shopmania Music Band A5 Notebook Spiral Bound   \n",
       "\n",
       "  product_main_category    product_subcategory product_category_filter  \\\n",
       "0             Clothing       Women's Clothing             Ethnic Wear    \n",
       "1    Pens & Stationery    Diaries & Notebooks               Notebooks    \n",
       "\n",
       "  product_category_subfilter product_unique ID  retail_price  \\\n",
       "0                    Fabric   FABEJX2NHNKCYHKA           999   \n",
       "1                  Designer   DIAEJ6Z8BEDTGGYY           499   \n",
       "\n",
       "   discounted_price  product_rating      Brand  \\\n",
       "0               699             4.0   INDCROWN   \n",
       "1               275             1.0  SHOPMANIA   \n",
       "\n",
       "                              product_specifications  \\\n",
       "0  {\"product_specification\"=>[{\"key\"=>\"Fabric\", \"...   \n",
       "1  {\"product_specification\"=>[{\"key\"=>\"Ruling\", \"...   \n",
       "\n",
       "                                         description  \n",
       "0  Key Features of Indcrown Net Embroidered Semi-...  \n",
       "1  Specifications of Shopmania Music Band A5 Note...  "
      ]
     },
     "execution_count": 291,
     "metadata": {},
     "output_type": "execute_result"
    }
   ],
   "source": [
    "df_drop.head(2)"
   ]
  },
  {
   "cell_type": "markdown",
   "id": "4fec5f84",
   "metadata": {},
   "source": [
    "#### As you can see in the above method the columns 'product_specifications' and 'description' is not deleted permanently"
   ]
  },
  {
   "cell_type": "markdown",
   "id": "45f71d2b",
   "metadata": {},
   "source": [
    "#### To drop the columns permanently we use 'inplace=True'."
   ]
  },
  {
   "cell_type": "code",
   "execution_count": 292,
   "id": "67d1b028",
   "metadata": {},
   "outputs": [],
   "source": [
    "df_drop.drop(['product_specifications' , 'description'] , axis=1 , inplace=True)"
   ]
  },
  {
   "cell_type": "code",
   "execution_count": 293,
   "id": "50eb5c0b",
   "metadata": {},
   "outputs": [
    {
     "data": {
      "text/html": [
       "<div>\n",
       "<style scoped>\n",
       "    .dataframe tbody tr th:only-of-type {\n",
       "        vertical-align: middle;\n",
       "    }\n",
       "\n",
       "    .dataframe tbody tr th {\n",
       "        vertical-align: top;\n",
       "    }\n",
       "\n",
       "    .dataframe thead th {\n",
       "        text-align: right;\n",
       "    }\n",
       "</style>\n",
       "<table border=\"1\" class=\"dataframe\">\n",
       "  <thead>\n",
       "    <tr style=\"text-align: right;\">\n",
       "      <th></th>\n",
       "      <th>Customer_uniq_id</th>\n",
       "      <th>Region</th>\n",
       "      <th>Order_Date</th>\n",
       "      <th>Expected_Delivery_Date</th>\n",
       "      <th>Delivered_Date</th>\n",
       "      <th>product_name</th>\n",
       "      <th>product_main_category</th>\n",
       "      <th>product_subcategory</th>\n",
       "      <th>product_category_filter</th>\n",
       "      <th>product_category_subfilter</th>\n",
       "      <th>product_unique ID</th>\n",
       "      <th>retail_price</th>\n",
       "      <th>discounted_price</th>\n",
       "      <th>product_rating</th>\n",
       "      <th>Brand</th>\n",
       "    </tr>\n",
       "  </thead>\n",
       "  <tbody>\n",
       "    <tr>\n",
       "      <th>0</th>\n",
       "      <td>e71017e224688489edfe856f2308806d</td>\n",
       "      <td>East</td>\n",
       "      <td>24-10-2021</td>\n",
       "      <td>25-10-2021</td>\n",
       "      <td>25-10-2021</td>\n",
       "      <td>Indcrown Net Embroidered Semi-stitched Lehenga...</td>\n",
       "      <td>Clothing</td>\n",
       "      <td>Women's Clothing</td>\n",
       "      <td>Ethnic Wear</td>\n",
       "      <td>Fabric</td>\n",
       "      <td>FABEJX2NHNKCYHKA</td>\n",
       "      <td>999</td>\n",
       "      <td>699</td>\n",
       "      <td>4.0</td>\n",
       "      <td>INDCROWN</td>\n",
       "    </tr>\n",
       "    <tr>\n",
       "      <th>1</th>\n",
       "      <td>6286847ee2da18f587503db49511c539</td>\n",
       "      <td>East</td>\n",
       "      <td>24-10-2021</td>\n",
       "      <td>25-10-2021</td>\n",
       "      <td>25-10-2021</td>\n",
       "      <td>Shopmania Music Band A5 Notebook Spiral Bound</td>\n",
       "      <td>Pens &amp; Stationery</td>\n",
       "      <td>Diaries &amp; Notebooks</td>\n",
       "      <td>Notebooks</td>\n",
       "      <td>Designer</td>\n",
       "      <td>DIAEJ6Z8BEDTGGYY</td>\n",
       "      <td>499</td>\n",
       "      <td>275</td>\n",
       "      <td>1.0</td>\n",
       "      <td>SHOPMANIA</td>\n",
       "    </tr>\n",
       "  </tbody>\n",
       "</table>\n",
       "</div>"
      ],
      "text/plain": [
       "                   Customer_uniq_id Region  Order_Date Expected_Delivery_Date  \\\n",
       "0  e71017e224688489edfe856f2308806d  East   24-10-2021             25-10-2021   \n",
       "1  6286847ee2da18f587503db49511c539  East   24-10-2021             25-10-2021   \n",
       "\n",
       "  Delivered_Date                                       product_name  \\\n",
       "0     25-10-2021  Indcrown Net Embroidered Semi-stitched Lehenga...   \n",
       "1     25-10-2021      Shopmania Music Band A5 Notebook Spiral Bound   \n",
       "\n",
       "  product_main_category    product_subcategory product_category_filter  \\\n",
       "0             Clothing       Women's Clothing             Ethnic Wear    \n",
       "1    Pens & Stationery    Diaries & Notebooks               Notebooks    \n",
       "\n",
       "  product_category_subfilter product_unique ID  retail_price  \\\n",
       "0                    Fabric   FABEJX2NHNKCYHKA           999   \n",
       "1                  Designer   DIAEJ6Z8BEDTGGYY           499   \n",
       "\n",
       "   discounted_price  product_rating      Brand  \n",
       "0               699             4.0   INDCROWN  \n",
       "1               275             1.0  SHOPMANIA  "
      ]
     },
     "execution_count": 293,
     "metadata": {},
     "output_type": "execute_result"
    }
   ],
   "source": [
    "df_drop.head(2)"
   ]
  },
  {
   "cell_type": "markdown",
   "id": "d5c682b2",
   "metadata": {},
   "source": [
    "#### Now the columns 'product_specifications' and 'description' is deleted permanently as you can see above"
   ]
  },
  {
   "cell_type": "code",
   "execution_count": null,
   "id": "636eba43",
   "metadata": {},
   "outputs": [],
   "source": []
  },
  {
   "cell_type": "code",
   "execution_count": null,
   "id": "14debd1d",
   "metadata": {},
   "outputs": [],
   "source": []
  },
  {
   "cell_type": "markdown",
   "id": "cde421e0",
   "metadata": {},
   "source": [
    "<font color='blue'>\n",
    "    <font size = 5>\n",
    "        The next steps in this project involves summarization of data at various levels and visualization. Apparently, such simple steps are very useful to get an overall sense of the data.\n",
    "    </font>"
   ]
  },
  {
   "cell_type": "markdown",
   "id": "41c30ad7",
   "metadata": {},
   "source": [
    "## Q 3. Here we summarize the data at Brand level.\n",
    "## a) How many unique Brand are there? (2 marks)\n",
    "## b) Note that each Brand contains multiple products. Show the average product_rating within each Brand (2 marks)\n"
   ]
  },
  {
   "cell_type": "markdown",
   "id": "beb3f83f",
   "metadata": {},
   "source": [
    "### Ans 3 a)"
   ]
  },
  {
   "cell_type": "code",
   "execution_count": 294,
   "id": "41dcb79f",
   "metadata": {},
   "outputs": [
    {
     "data": {
      "text/plain": [
       "2484"
      ]
     },
     "execution_count": 294,
     "metadata": {},
     "output_type": "execute_result"
    }
   ],
   "source": [
    "df['Brand'].nunique()"
   ]
  },
  {
   "cell_type": "code",
   "execution_count": 295,
   "id": "7064d95e",
   "metadata": {},
   "outputs": [
    {
     "data": {
      "text/plain": [
       "array(['INDCROWN', 'SHOPMANIA', 'TIARA DIARIES', ..., 'SININA',\n",
       "       'AARUSHI FASHION', 'AMBIKA LAHENGA'], dtype=object)"
      ]
     },
     "execution_count": 295,
     "metadata": {},
     "output_type": "execute_result"
    }
   ],
   "source": [
    "df['Brand'].unique()"
   ]
  },
  {
   "cell_type": "markdown",
   "id": "a9624681",
   "metadata": {},
   "source": [
    "#### There are total 2484 unique brands in the data"
   ]
  },
  {
   "cell_type": "code",
   "execution_count": null,
   "id": "2012cfdb",
   "metadata": {},
   "outputs": [],
   "source": []
  },
  {
   "cell_type": "markdown",
   "id": "5083d866",
   "metadata": {},
   "source": [
    "### Ans 3 b)"
   ]
  },
  {
   "cell_type": "code",
   "execution_count": 296,
   "id": "10018c2c",
   "metadata": {},
   "outputs": [
    {
     "name": "stdout",
     "output_type": "stream",
     "text": [
      "The top 5 brand with highest product rating are: ['\\xa0TARKAN', 'INDIANO', 'PUMPKIN PATCH', 'PURE SOURCE', 'BRAHAAN BLUE TAG']\n"
     ]
    }
   ],
   "source": [
    "a = df.groupby('Brand')['product_rating'].mean().sort_values(ascending=False).head(5).index.tolist()\n",
    "print(\"The top 5 brand with highest product rating are:\", a)"
   ]
  },
  {
   "cell_type": "code",
   "execution_count": 297,
   "id": "c333a2fb",
   "metadata": {},
   "outputs": [
    {
     "name": "stdout",
     "output_type": "stream",
     "text": [
      "The top 5 brand with lowest product rating are: ['BRIGHT HOME APPLIANCES', 'TWIN TWINE', 'BRECKEN PAUL', 'QUENELL', 'FIRANGI']\n"
     ]
    }
   ],
   "source": [
    "b = df.groupby('Brand')['product_rating'].mean().sort_values(ascending=False).tail(5).index.tolist()\n",
    "print(\"The top 5 brand with lowest product rating are:\", b)"
   ]
  },
  {
   "cell_type": "markdown",
   "id": "ade9568d",
   "metadata": {},
   "source": [
    "#### In the below code I have merged the count and mean(average) product rating brand wise"
   ]
  },
  {
   "cell_type": "code",
   "execution_count": 298,
   "id": "b2a0868e",
   "metadata": {},
   "outputs": [
    {
     "data": {
      "text/html": [
       "<div>\n",
       "<style scoped>\n",
       "    .dataframe tbody tr th:only-of-type {\n",
       "        vertical-align: middle;\n",
       "    }\n",
       "\n",
       "    .dataframe tbody tr th {\n",
       "        vertical-align: top;\n",
       "    }\n",
       "\n",
       "    .dataframe thead th {\n",
       "        text-align: right;\n",
       "    }\n",
       "</style>\n",
       "<table border=\"1\" class=\"dataframe\">\n",
       "  <thead>\n",
       "    <tr style=\"text-align: right;\">\n",
       "      <th></th>\n",
       "      <th>sum</th>\n",
       "      <th>mean</th>\n",
       "    </tr>\n",
       "    <tr>\n",
       "      <th>Brand</th>\n",
       "      <th></th>\n",
       "      <th></th>\n",
       "    </tr>\n",
       "  </thead>\n",
       "  <tbody>\n",
       "    <tr>\n",
       "      <th>1OAK</th>\n",
       "      <td>3.0</td>\n",
       "      <td>1.500000</td>\n",
       "    </tr>\n",
       "    <tr>\n",
       "      <th>3A AUTOCARE</th>\n",
       "      <td>134.0</td>\n",
       "      <td>3.268293</td>\n",
       "    </tr>\n",
       "    <tr>\n",
       "      <th>3D MAT</th>\n",
       "      <td>3.0</td>\n",
       "      <td>3.000000</td>\n",
       "    </tr>\n",
       "    <tr>\n",
       "      <th>3KFACTORY</th>\n",
       "      <td>2.0</td>\n",
       "      <td>2.000000</td>\n",
       "    </tr>\n",
       "    <tr>\n",
       "      <th>4D</th>\n",
       "      <td>18.0</td>\n",
       "      <td>3.600000</td>\n",
       "    </tr>\n",
       "    <tr>\n",
       "      <th>...</th>\n",
       "      <td>...</td>\n",
       "      <td>...</td>\n",
       "    </tr>\n",
       "    <tr>\n",
       "      <th>ZORDEN</th>\n",
       "      <td>4.0</td>\n",
       "      <td>4.000000</td>\n",
       "    </tr>\n",
       "    <tr>\n",
       "      <th>ZOSIGN</th>\n",
       "      <td>17.0</td>\n",
       "      <td>3.400000</td>\n",
       "    </tr>\n",
       "    <tr>\n",
       "      <th>ZRESTHA</th>\n",
       "      <td>1.0</td>\n",
       "      <td>1.000000</td>\n",
       "    </tr>\n",
       "    <tr>\n",
       "      <th>ZYXEL</th>\n",
       "      <td>30.0</td>\n",
       "      <td>3.333333</td>\n",
       "    </tr>\n",
       "    <tr>\n",
       "      <th>TARKAN</th>\n",
       "      <td>5.0</td>\n",
       "      <td>5.000000</td>\n",
       "    </tr>\n",
       "  </tbody>\n",
       "</table>\n",
       "<p>2484 rows × 2 columns</p>\n",
       "</div>"
      ],
      "text/plain": [
       "               sum      mean\n",
       "Brand                       \n",
       "1OAK           3.0  1.500000\n",
       "3A AUTOCARE  134.0  3.268293\n",
       "3D MAT         3.0  3.000000\n",
       "3KFACTORY      2.0  2.000000\n",
       "4D            18.0  3.600000\n",
       "...            ...       ...\n",
       "ZORDEN         4.0  4.000000\n",
       "ZOSIGN        17.0  3.400000\n",
       "ZRESTHA        1.0  1.000000\n",
       "ZYXEL         30.0  3.333333\n",
       " TARKAN        5.0  5.000000\n",
       "\n",
       "[2484 rows x 2 columns]"
      ]
     },
     "execution_count": 298,
     "metadata": {},
     "output_type": "execute_result"
    }
   ],
   "source": [
    "df.groupby('Brand')['product_rating'].agg(['sum' , 'mean'])"
   ]
  },
  {
   "cell_type": "markdown",
   "id": "03aa56df",
   "metadata": {},
   "source": [
    "#### The mean column shown above gives the average product_rating within each Brand"
   ]
  },
  {
   "cell_type": "code",
   "execution_count": null,
   "id": "9888eda5",
   "metadata": {},
   "outputs": [],
   "source": []
  },
  {
   "cell_type": "markdown",
   "id": "bbf162af",
   "metadata": {},
   "source": [
    "## Q 4. Next we study the main categories of the products.\n",
    "\n",
    "## a) Create an appropriate plot to show the count of items ordered for each product_main_category. (6 marks).\n",
    "\n",
    "### Hint: Create a bar chart titled \"Product Category type\" where product_main_category are on x-axis and counts are on y-axis.\n",
    "\n",
    "### Note: Both axis labels, i.e. the names of the product_main_category and counts must be clearly legible. \n",
    "\n",
    "## b) From the plot identify for which two product_main_category(s)  maximum and minimum orders were placed. (2 marks)\n",
    "\n",
    "## c) Write code to print out the top 5 product_main_category(s)  in descending order? (3 marks"
   ]
  },
  {
   "cell_type": "markdown",
   "id": "36c72928",
   "metadata": {},
   "source": [
    "### Ans 4 a)"
   ]
  },
  {
   "cell_type": "markdown",
   "id": "26cb27f1",
   "metadata": {},
   "source": [
    "#### Below is the Bar Graph for column 'product_main_category' in descending order"
   ]
  },
  {
   "cell_type": "code",
   "execution_count": 301,
   "id": "f60dd2c1",
   "metadata": {},
   "outputs": [
    {
     "data": {
      "image/png": "[encoded data removed]",
      "text/plain": [
       "<Figure size 1500x700 with 1 Axes>"
      ]
     },
     "metadata": {},
     "output_type": "display_data"
    }
   ],
   "source": [
    "plt.figure(figsize=(15,7))\n",
    "plt.title('Bar Graph')\n",
    "sns.countplot(data = df,x ='product_main_category', order = df['product_main_category'].value_counts().index)\n",
    "plt.xticks(rotation=80)\n",
    "plt.xlabel('Product Main Category')\n",
    "plt.ylabel('Count')\n",
    "plt.yscale('log');"
   ]
  },
  {
   "cell_type": "markdown",
   "id": "13a5b355",
   "metadata": {},
   "source": [
    "### Ans 4 b)"
   ]
  },
  {
   "cell_type": "markdown",
   "id": "913d5fa9",
   "metadata": {},
   "source": [
    "#### Maximum 2 products ordered from 'product_main_category' are below:"
   ]
  },
  {
   "cell_type": "code",
   "execution_count": 151,
   "id": "fb898d32",
   "metadata": {},
   "outputs": [
    {
     "data": {
      "text/plain": [
       "product_main_category\n",
       "Clothing                  2943\n",
       "Mobiles & Accessories     1084\n",
       "Name: Customer_uniq_id, dtype: int64"
      ]
     },
     "execution_count": 151,
     "metadata": {},
     "output_type": "execute_result"
    }
   ],
   "source": [
    "df.groupby('product_main_category')['Customer_uniq_id'].count().sort_values(ascending=False).head(2)"
   ]
  },
  {
   "cell_type": "markdown",
   "id": "fe0443ab",
   "metadata": {},
   "source": [
    "#### Clothing and Mobiles & Accessories are the maximum products ordered"
   ]
  },
  {
   "cell_type": "code",
   "execution_count": null,
   "id": "b5aabb7a",
   "metadata": {},
   "outputs": [],
   "source": []
  },
  {
   "cell_type": "markdown",
   "id": "0dc97ed0",
   "metadata": {},
   "source": [
    "#### Minimum 2 products ordered from 'product_main_category' are below:"
   ]
  },
  {
   "cell_type": "code",
   "execution_count": 152,
   "id": "40771246",
   "metadata": {},
   "outputs": [
    {
     "data": {
      "text/plain": [
       "product_main_category\n",
       "Food & Nutrition           2\n",
       "Wearable Smart Devices     1\n",
       "Name: Customer_uniq_id, dtype: int64"
      ]
     },
     "execution_count": 152,
     "metadata": {},
     "output_type": "execute_result"
    }
   ],
   "source": [
    "df.groupby('product_main_category')['Customer_uniq_id'].count().sort_values(ascending=False).tail(2)"
   ]
  },
  {
   "cell_type": "markdown",
   "id": "bb41efc0",
   "metadata": {},
   "source": [
    "#### Food & Nutrition and Wearable Smart Devices are the minimum products ordered"
   ]
  },
  {
   "cell_type": "markdown",
   "id": "4ea60c92",
   "metadata": {},
   "source": [
    "### Ans 4 c)"
   ]
  },
  {
   "cell_type": "markdown",
   "id": "2efe5b0a",
   "metadata": {},
   "source": [
    "#### Below is the code of top 5 product_main_category(s) in descending order"
   ]
  },
  {
   "cell_type": "code",
   "execution_count": 153,
   "id": "00da4004",
   "metadata": {},
   "outputs": [
    {
     "data": {
      "text/plain": [
       "product_main_category\n",
       "Clothing                       2943\n",
       "Mobiles & Accessories          1084\n",
       "Automotive                     1001\n",
       "Home Decor & Festive Needs      727\n",
       "Computers                       558\n",
       "                               ... \n",
       "Pet Supplies                     20\n",
       "Home Entertainment               17\n",
       "Household Supplies                4\n",
       "Food & Nutrition                  2\n",
       "Wearable Smart Devices            1\n",
       "Name: Customer_uniq_id, Length: 26, dtype: int64"
      ]
     },
     "execution_count": 153,
     "metadata": {},
     "output_type": "execute_result"
    }
   ],
   "source": [
    "df.groupby('product_main_category')['Customer_uniq_id'].count().sort_values(ascending=False)"
   ]
  },
  {
   "cell_type": "code",
   "execution_count": null,
   "id": "0b448a46",
   "metadata": {},
   "outputs": [],
   "source": []
  },
  {
   "cell_type": "markdown",
   "id": "a9f81605",
   "metadata": {},
   "source": [
    "<font color='blue'>\n",
    "    <font size = 5>\n",
    "    In E-commerce, both the retailers (here brands) and the company have to make profit to sustain in the business. \n",
    "    The E-Commerce company has the following rule for computing their own revenue: </font> \n",
    "    \n",
    "####     The company charges  \n",
    "####  (i) 25% on the orders having final price (discounted price) greater than 600\n",
    "\n",
    "#### (ii) 15% on the orders having final price (discounted price) greater than 350 but less than or equal to 600\n",
    "\n",
    "#### (iii) 10% on the orders having final price (discounted price) greater than 100 but less than or equal to 350\n",
    "\n",
    "#### (iv) Otherwise, 5% on the final price (discounted price)    </font> "
   ]
  },
  {
   "cell_type": "markdown",
   "id": "0f255fea",
   "metadata": {},
   "source": [
    "## Q 5. Find the Total Revenue generated by the E-Commerce company over all orders placed. (6 marks)\n",
    "\n",
    "#### Hint: Calculate revenue of E-commerce company using the conditions mentioned above and then do the total (sum) of all to get total Revenue. "
   ]
  },
  {
   "cell_type": "markdown",
   "id": "1f6b8028",
   "metadata": {},
   "source": [
    "### Ans 5"
   ]
  },
  {
   "cell_type": "markdown",
   "id": "ea4605f0",
   "metadata": {},
   "source": [
    "#### As mentioned above there are 4 conditions so we will create 4 seperate columns based on column 'discounted price'"
   ]
  },
  {
   "cell_type": "code",
   "execution_count": 302,
   "id": "a8075540",
   "metadata": {},
   "outputs": [],
   "source": [
    "df.loc[df['discounted_price'] > 600, 'new_25'] = df['discounted_price']*0.25 + df['discounted_price']\n",
    "df.loc[(df['discounted_price'] > 350) & (df['discounted_price'] <=600), 'new_15'] = df['discounted_price']*0.15 + df['discounted_price']\n",
    "df.loc[(df['discounted_price'] > 100) & (df['discounted_price'] <=350), 'new_10'] = df['discounted_price']*0.1 + df['discounted_price']\n",
    "df.loc[(df['discounted_price'] > 0) & (df['discounted_price'] <=100), 'new_0_to_100'] = df['discounted_price']*0.05 + df['discounted_price']"
   ]
  },
  {
   "cell_type": "code",
   "execution_count": 303,
   "id": "1c2d6a29",
   "metadata": {},
   "outputs": [
    {
     "data": {
      "text/html": [
       "<div>\n",
       "<style scoped>\n",
       "    .dataframe tbody tr th:only-of-type {\n",
       "        vertical-align: middle;\n",
       "    }\n",
       "\n",
       "    .dataframe tbody tr th {\n",
       "        vertical-align: top;\n",
       "    }\n",
       "\n",
       "    .dataframe thead th {\n",
       "        text-align: right;\n",
       "    }\n",
       "</style>\n",
       "<table border=\"1\" class=\"dataframe\">\n",
       "  <thead>\n",
       "    <tr style=\"text-align: right;\">\n",
       "      <th></th>\n",
       "      <th>retail_price</th>\n",
       "      <th>discounted_price</th>\n",
       "      <th>product_rating</th>\n",
       "      <th>new_25</th>\n",
       "      <th>new_15</th>\n",
       "      <th>new_10</th>\n",
       "      <th>new_0_to_100</th>\n",
       "    </tr>\n",
       "  </thead>\n",
       "  <tbody>\n",
       "    <tr>\n",
       "      <th>count</th>\n",
       "      <td>8906.000000</td>\n",
       "      <td>8906.000000</td>\n",
       "      <td>8906.000000</td>\n",
       "      <td>3963.000000</td>\n",
       "      <td>2701.000000</td>\n",
       "      <td>2242.000000</td>\n",
       "      <td>0.0</td>\n",
       "    </tr>\n",
       "    <tr>\n",
       "      <th>mean</th>\n",
       "      <td>1969.965304</td>\n",
       "      <td>1093.698518</td>\n",
       "      <td>3.066596</td>\n",
       "      <td>2476.453129</td>\n",
       "      <td>559.773676</td>\n",
       "      <td>281.816860</td>\n",
       "      <td>NaN</td>\n",
       "    </tr>\n",
       "    <tr>\n",
       "      <th>std</th>\n",
       "      <td>3341.314408</td>\n",
       "      <td>2433.776099</td>\n",
       "      <td>1.413313</td>\n",
       "      <td>4306.760783</td>\n",
       "      <td>88.654824</td>\n",
       "      <td>72.001395</td>\n",
       "      <td>NaN</td>\n",
       "    </tr>\n",
       "    <tr>\n",
       "      <th>min</th>\n",
       "      <td>115.000000</td>\n",
       "      <td>109.000000</td>\n",
       "      <td>1.000000</td>\n",
       "      <td>761.250000</td>\n",
       "      <td>403.650000</td>\n",
       "      <td>119.900000</td>\n",
       "      <td>NaN</td>\n",
       "    </tr>\n",
       "    <tr>\n",
       "      <th>25%</th>\n",
       "      <td>730.000000</td>\n",
       "      <td>350.000000</td>\n",
       "      <td>2.000000</td>\n",
       "      <td>1123.750000</td>\n",
       "      <td>460.000000</td>\n",
       "      <td>218.900000</td>\n",
       "      <td>NaN</td>\n",
       "    </tr>\n",
       "    <tr>\n",
       "      <th>50%</th>\n",
       "      <td>1195.000000</td>\n",
       "      <td>599.000000</td>\n",
       "      <td>3.000000</td>\n",
       "      <td>1687.500000</td>\n",
       "      <td>573.850000</td>\n",
       "      <td>295.900000</td>\n",
       "      <td>NaN</td>\n",
       "    </tr>\n",
       "    <tr>\n",
       "      <th>75%</th>\n",
       "      <td>2199.000000</td>\n",
       "      <td>1199.000000</td>\n",
       "      <td>4.000000</td>\n",
       "      <td>2123.750000</td>\n",
       "      <td>631.350000</td>\n",
       "      <td>330.000000</td>\n",
       "      <td>NaN</td>\n",
       "    </tr>\n",
       "    <tr>\n",
       "      <th>max</th>\n",
       "      <td>116292.000000</td>\n",
       "      <td>116292.000000</td>\n",
       "      <td>5.000000</td>\n",
       "      <td>145365.000000</td>\n",
       "      <td>690.000000</td>\n",
       "      <td>385.000000</td>\n",
       "      <td>NaN</td>\n",
       "    </tr>\n",
       "  </tbody>\n",
       "</table>\n",
       "</div>"
      ],
      "text/plain": [
       "        retail_price  discounted_price  product_rating         new_25  \\\n",
       "count    8906.000000       8906.000000     8906.000000    3963.000000   \n",
       "mean     1969.965304       1093.698518        3.066596    2476.453129   \n",
       "std      3341.314408       2433.776099        1.413313    4306.760783   \n",
       "min       115.000000        109.000000        1.000000     761.250000   \n",
       "25%       730.000000        350.000000        2.000000    1123.750000   \n",
       "50%      1195.000000        599.000000        3.000000    1687.500000   \n",
       "75%      2199.000000       1199.000000        4.000000    2123.750000   \n",
       "max    116292.000000     116292.000000        5.000000  145365.000000   \n",
       "\n",
       "            new_15       new_10  new_0_to_100  \n",
       "count  2701.000000  2242.000000           0.0  \n",
       "mean    559.773676   281.816860           NaN  \n",
       "std      88.654824    72.001395           NaN  \n",
       "min     403.650000   119.900000           NaN  \n",
       "25%     460.000000   218.900000           NaN  \n",
       "50%     573.850000   295.900000           NaN  \n",
       "75%     631.350000   330.000000           NaN  \n",
       "max     690.000000   385.000000           NaN  "
      ]
     },
     "execution_count": 303,
     "metadata": {},
     "output_type": "execute_result"
    }
   ],
   "source": [
    "df.describe()"
   ]
  },
  {
   "cell_type": "markdown",
   "id": "754fa199",
   "metadata": {},
   "source": [
    "#### As we can see some NA values, we will check the count of NA values"
   ]
  },
  {
   "cell_type": "code",
   "execution_count": 159,
   "id": "e661787d",
   "metadata": {},
   "outputs": [
    {
     "data": {
      "text/plain": [
       "Customer_uniq_id             0\n",
       "Region                       0\n",
       "Order_Date                   0\n",
       "Expected_Delivery_Date       0\n",
       "Delivered_Date               0\n",
       "                          ... \n",
       "description                  0\n",
       "new_25                    4943\n",
       "new_15                    6205\n",
       "new_10                    6664\n",
       "new_0_to_100              8906\n",
       "Length: 21, dtype: int64"
      ]
     },
     "execution_count": 159,
     "metadata": {},
     "output_type": "execute_result"
    }
   ],
   "source": [
    "df.isnull().sum()"
   ]
  },
  {
   "cell_type": "markdown",
   "id": "9cd1401a",
   "metadata": {},
   "source": [
    "#### In order to calculate the total price based on the 4 conditions. We have replace the NA values with 0."
   ]
  },
  {
   "cell_type": "code",
   "execution_count": 304,
   "id": "785f3e52",
   "metadata": {},
   "outputs": [],
   "source": [
    "df.fillna(0,inplace=True)"
   ]
  },
  {
   "cell_type": "code",
   "execution_count": 305,
   "id": "7a455c0e",
   "metadata": {},
   "outputs": [
    {
     "data": {
      "text/html": [
       "<div>\n",
       "<style scoped>\n",
       "    .dataframe tbody tr th:only-of-type {\n",
       "        vertical-align: middle;\n",
       "    }\n",
       "\n",
       "    .dataframe tbody tr th {\n",
       "        vertical-align: top;\n",
       "    }\n",
       "\n",
       "    .dataframe thead th {\n",
       "        text-align: right;\n",
       "    }\n",
       "</style>\n",
       "<table border=\"1\" class=\"dataframe\">\n",
       "  <thead>\n",
       "    <tr style=\"text-align: right;\">\n",
       "      <th></th>\n",
       "      <th>retail_price</th>\n",
       "      <th>discounted_price</th>\n",
       "      <th>product_rating</th>\n",
       "      <th>new_25</th>\n",
       "      <th>new_15</th>\n",
       "      <th>new_10</th>\n",
       "      <th>new_0_to_100</th>\n",
       "    </tr>\n",
       "  </thead>\n",
       "  <tbody>\n",
       "    <tr>\n",
       "      <th>count</th>\n",
       "      <td>8906.000000</td>\n",
       "      <td>8906.000000</td>\n",
       "      <td>8906.000000</td>\n",
       "      <td>8906.000000</td>\n",
       "      <td>8906.000000</td>\n",
       "      <td>8906.000000</td>\n",
       "      <td>8906.0</td>\n",
       "    </tr>\n",
       "    <tr>\n",
       "      <th>mean</th>\n",
       "      <td>1969.965304</td>\n",
       "      <td>1093.698518</td>\n",
       "      <td>3.066596</td>\n",
       "      <td>1101.974371</td>\n",
       "      <td>169.767426</td>\n",
       "      <td>70.944689</td>\n",
       "      <td>0.0</td>\n",
       "    </tr>\n",
       "    <tr>\n",
       "      <th>std</th>\n",
       "      <td>3341.314408</td>\n",
       "      <td>2433.776099</td>\n",
       "      <td>1.413313</td>\n",
       "      <td>3125.259063</td>\n",
       "      <td>261.917640</td>\n",
       "      <td>127.540495</td>\n",
       "      <td>0.0</td>\n",
       "    </tr>\n",
       "    <tr>\n",
       "      <th>min</th>\n",
       "      <td>115.000000</td>\n",
       "      <td>109.000000</td>\n",
       "      <td>1.000000</td>\n",
       "      <td>0.000000</td>\n",
       "      <td>0.000000</td>\n",
       "      <td>0.000000</td>\n",
       "      <td>0.0</td>\n",
       "    </tr>\n",
       "    <tr>\n",
       "      <th>25%</th>\n",
       "      <td>730.000000</td>\n",
       "      <td>350.000000</td>\n",
       "      <td>2.000000</td>\n",
       "      <td>0.000000</td>\n",
       "      <td>0.000000</td>\n",
       "      <td>0.000000</td>\n",
       "      <td>0.0</td>\n",
       "    </tr>\n",
       "    <tr>\n",
       "      <th>50%</th>\n",
       "      <td>1195.000000</td>\n",
       "      <td>599.000000</td>\n",
       "      <td>3.000000</td>\n",
       "      <td>0.000000</td>\n",
       "      <td>0.000000</td>\n",
       "      <td>0.000000</td>\n",
       "      <td>0.0</td>\n",
       "    </tr>\n",
       "    <tr>\n",
       "      <th>75%</th>\n",
       "      <td>2199.000000</td>\n",
       "      <td>1199.000000</td>\n",
       "      <td>4.000000</td>\n",
       "      <td>1498.750000</td>\n",
       "      <td>458.850000</td>\n",
       "      <td>125.400000</td>\n",
       "      <td>0.0</td>\n",
       "    </tr>\n",
       "    <tr>\n",
       "      <th>max</th>\n",
       "      <td>116292.000000</td>\n",
       "      <td>116292.000000</td>\n",
       "      <td>5.000000</td>\n",
       "      <td>145365.000000</td>\n",
       "      <td>690.000000</td>\n",
       "      <td>385.000000</td>\n",
       "      <td>0.0</td>\n",
       "    </tr>\n",
       "  </tbody>\n",
       "</table>\n",
       "</div>"
      ],
      "text/plain": [
       "        retail_price  discounted_price  product_rating         new_25  \\\n",
       "count    8906.000000       8906.000000     8906.000000    8906.000000   \n",
       "mean     1969.965304       1093.698518        3.066596    1101.974371   \n",
       "std      3341.314408       2433.776099        1.413313    3125.259063   \n",
       "min       115.000000        109.000000        1.000000       0.000000   \n",
       "25%       730.000000        350.000000        2.000000       0.000000   \n",
       "50%      1195.000000        599.000000        3.000000       0.000000   \n",
       "75%      2199.000000       1199.000000        4.000000    1498.750000   \n",
       "max    116292.000000     116292.000000        5.000000  145365.000000   \n",
       "\n",
       "            new_15       new_10  new_0_to_100  \n",
       "count  8906.000000  8906.000000        8906.0  \n",
       "mean    169.767426    70.944689           0.0  \n",
       "std     261.917640   127.540495           0.0  \n",
       "min       0.000000     0.000000           0.0  \n",
       "25%       0.000000     0.000000           0.0  \n",
       "50%       0.000000     0.000000           0.0  \n",
       "75%     458.850000   125.400000           0.0  \n",
       "max     690.000000   385.000000           0.0  "
      ]
     },
     "execution_count": 305,
     "metadata": {},
     "output_type": "execute_result"
    }
   ],
   "source": [
    "df.describe()"
   ]
  },
  {
   "cell_type": "markdown",
   "id": "13606472",
   "metadata": {},
   "source": [
    "#### Since there are no more NA values, we can now create a column 'total_price' and add the 4 columns which we created."
   ]
  },
  {
   "cell_type": "code",
   "execution_count": 167,
   "id": "9f48dfa6",
   "metadata": {},
   "outputs": [],
   "source": [
    "df['total_price'] = df['new_25'] + df['new_15'] + df['new_10'] + df['new_0_to_100']"
   ]
  },
  {
   "cell_type": "code",
   "execution_count": 168,
   "id": "630341e0",
   "metadata": {},
   "outputs": [
    {
     "data": {
      "text/html": [
       "<div>\n",
       "<style scoped>\n",
       "    .dataframe tbody tr th:only-of-type {\n",
       "        vertical-align: middle;\n",
       "    }\n",
       "\n",
       "    .dataframe tbody tr th {\n",
       "        vertical-align: top;\n",
       "    }\n",
       "\n",
       "    .dataframe thead th {\n",
       "        text-align: right;\n",
       "    }\n",
       "</style>\n",
       "<table border=\"1\" class=\"dataframe\">\n",
       "  <thead>\n",
       "    <tr style=\"text-align: right;\">\n",
       "      <th></th>\n",
       "      <th>retail_price</th>\n",
       "      <th>discounted_price</th>\n",
       "      <th>product_rating</th>\n",
       "      <th>new_25</th>\n",
       "      <th>new_15</th>\n",
       "      <th>new_10</th>\n",
       "      <th>new_0_to_100</th>\n",
       "      <th>total_price</th>\n",
       "    </tr>\n",
       "  </thead>\n",
       "  <tbody>\n",
       "    <tr>\n",
       "      <th>count</th>\n",
       "      <td>8906.000000</td>\n",
       "      <td>8906.000000</td>\n",
       "      <td>8906.000000</td>\n",
       "      <td>8906.000000</td>\n",
       "      <td>8906.000000</td>\n",
       "      <td>8906.000000</td>\n",
       "      <td>8906.0</td>\n",
       "      <td>8906.000000</td>\n",
       "    </tr>\n",
       "    <tr>\n",
       "      <th>mean</th>\n",
       "      <td>1969.965304</td>\n",
       "      <td>1093.698518</td>\n",
       "      <td>3.066596</td>\n",
       "      <td>1101.974371</td>\n",
       "      <td>169.767426</td>\n",
       "      <td>70.944689</td>\n",
       "      <td>0.0</td>\n",
       "      <td>1342.686487</td>\n",
       "    </tr>\n",
       "    <tr>\n",
       "      <th>std</th>\n",
       "      <td>3341.314408</td>\n",
       "      <td>2433.776099</td>\n",
       "      <td>1.413313</td>\n",
       "      <td>3125.259063</td>\n",
       "      <td>261.917640</td>\n",
       "      <td>127.540495</td>\n",
       "      <td>0.0</td>\n",
       "      <td>3049.171035</td>\n",
       "    </tr>\n",
       "    <tr>\n",
       "      <th>min</th>\n",
       "      <td>115.000000</td>\n",
       "      <td>109.000000</td>\n",
       "      <td>1.000000</td>\n",
       "      <td>0.000000</td>\n",
       "      <td>0.000000</td>\n",
       "      <td>0.000000</td>\n",
       "      <td>0.0</td>\n",
       "      <td>119.900000</td>\n",
       "    </tr>\n",
       "    <tr>\n",
       "      <th>25%</th>\n",
       "      <td>730.000000</td>\n",
       "      <td>350.000000</td>\n",
       "      <td>2.000000</td>\n",
       "      <td>0.000000</td>\n",
       "      <td>0.000000</td>\n",
       "      <td>0.000000</td>\n",
       "      <td>0.0</td>\n",
       "      <td>385.000000</td>\n",
       "    </tr>\n",
       "    <tr>\n",
       "      <th>50%</th>\n",
       "      <td>1195.000000</td>\n",
       "      <td>599.000000</td>\n",
       "      <td>3.000000</td>\n",
       "      <td>0.000000</td>\n",
       "      <td>0.000000</td>\n",
       "      <td>0.000000</td>\n",
       "      <td>0.0</td>\n",
       "      <td>688.850000</td>\n",
       "    </tr>\n",
       "    <tr>\n",
       "      <th>75%</th>\n",
       "      <td>2199.000000</td>\n",
       "      <td>1199.000000</td>\n",
       "      <td>4.000000</td>\n",
       "      <td>1498.750000</td>\n",
       "      <td>458.850000</td>\n",
       "      <td>125.400000</td>\n",
       "      <td>0.0</td>\n",
       "      <td>1498.750000</td>\n",
       "    </tr>\n",
       "    <tr>\n",
       "      <th>max</th>\n",
       "      <td>116292.000000</td>\n",
       "      <td>116292.000000</td>\n",
       "      <td>5.000000</td>\n",
       "      <td>145365.000000</td>\n",
       "      <td>690.000000</td>\n",
       "      <td>385.000000</td>\n",
       "      <td>0.0</td>\n",
       "      <td>145365.000000</td>\n",
       "    </tr>\n",
       "  </tbody>\n",
       "</table>\n",
       "</div>"
      ],
      "text/plain": [
       "        retail_price  discounted_price  product_rating         new_25  \\\n",
       "count    8906.000000       8906.000000     8906.000000    8906.000000   \n",
       "mean     1969.965304       1093.698518        3.066596    1101.974371   \n",
       "std      3341.314408       2433.776099        1.413313    3125.259063   \n",
       "min       115.000000        109.000000        1.000000       0.000000   \n",
       "25%       730.000000        350.000000        2.000000       0.000000   \n",
       "50%      1195.000000        599.000000        3.000000       0.000000   \n",
       "75%      2199.000000       1199.000000        4.000000    1498.750000   \n",
       "max    116292.000000     116292.000000        5.000000  145365.000000   \n",
       "\n",
       "            new_15       new_10  new_0_to_100    total_price  \n",
       "count  8906.000000  8906.000000        8906.0    8906.000000  \n",
       "mean    169.767426    70.944689           0.0    1342.686487  \n",
       "std     261.917640   127.540495           0.0    3049.171035  \n",
       "min       0.000000     0.000000           0.0     119.900000  \n",
       "25%       0.000000     0.000000           0.0     385.000000  \n",
       "50%       0.000000     0.000000           0.0     688.850000  \n",
       "75%     458.850000   125.400000           0.0    1498.750000  \n",
       "max     690.000000   385.000000           0.0  145365.000000  "
      ]
     },
     "execution_count": 168,
     "metadata": {},
     "output_type": "execute_result"
    }
   ],
   "source": [
    "df.describe()"
   ]
  },
  {
   "cell_type": "markdown",
   "id": "86c19951",
   "metadata": {},
   "source": [
    "#### Calculating the sum of column 'total_price'"
   ]
  },
  {
   "cell_type": "code",
   "execution_count": 174,
   "id": "ea6087f8",
   "metadata": {},
   "outputs": [
    {
     "name": "stdout",
     "output_type": "stream",
     "text": [
      "The total Revenue generated by the E-Commerce company after applying the above 4 condition is Rs11957965.85\n"
     ]
    }
   ],
   "source": [
    "print('The total Revenue generated by the E-Commerce company after applying the above 4 condition is Rs',df['total_price'].sum() ,sep='')"
   ]
  },
  {
   "cell_type": "code",
   "execution_count": null,
   "id": "c7fcbbe4",
   "metadata": {},
   "outputs": [],
   "source": []
  },
  {
   "cell_type": "markdown",
   "id": "9161ca8c",
   "metadata": {},
   "source": [
    "<font color='blue'>\n",
    "    <font size = 5>\n",
    "    Now you need to find the revenue for each retailer (Brand)\n",
    "    </font>"
   ]
  },
  {
   "cell_type": "markdown",
   "id": "73dd23c3",
   "metadata": {},
   "source": [
    "## Q6.Calculate the total BrandRevenue and list the top 10 Brand having maximum revenue in descending order (6 marks)\n",
    "#### Hint: Total BrandRevenue is BrandRevenue which is generated after all the deductions. Also, BrandRevenue is different from the E-Commerce company's revenue.\n",
    "#### Brand Revenue is the discounted price minus the Revenue (generated using the conditions given above Q5)\n"
   ]
  },
  {
   "cell_type": "markdown",
   "id": "3514fa79",
   "metadata": {},
   "source": [
    "### Ans 6"
   ]
  },
  {
   "cell_type": "markdown",
   "id": "ba39dec4",
   "metadata": {},
   "source": [
    "#### Creating the column 'BrandRevenue' by subtracting column 'discounted_price' from column 'total_price'"
   ]
  },
  {
   "cell_type": "code",
   "execution_count": 176,
   "id": "fad38dfb",
   "metadata": {
    "scrolled": true
   },
   "outputs": [
    {
     "data": {
      "text/html": [
       "<div>\n",
       "<style scoped>\n",
       "    .dataframe tbody tr th:only-of-type {\n",
       "        vertical-align: middle;\n",
       "    }\n",
       "\n",
       "    .dataframe tbody tr th {\n",
       "        vertical-align: top;\n",
       "    }\n",
       "\n",
       "    .dataframe thead th {\n",
       "        text-align: right;\n",
       "    }\n",
       "</style>\n",
       "<table border=\"1\" class=\"dataframe\">\n",
       "  <thead>\n",
       "    <tr style=\"text-align: right;\">\n",
       "      <th></th>\n",
       "      <th>retail_price</th>\n",
       "      <th>discounted_price</th>\n",
       "      <th>product_rating</th>\n",
       "      <th>new_25</th>\n",
       "      <th>new_15</th>\n",
       "      <th>new_10</th>\n",
       "      <th>new_0_to_100</th>\n",
       "      <th>total_price</th>\n",
       "      <th>BrandRevenue</th>\n",
       "    </tr>\n",
       "  </thead>\n",
       "  <tbody>\n",
       "    <tr>\n",
       "      <th>count</th>\n",
       "      <td>8906.000000</td>\n",
       "      <td>8906.000000</td>\n",
       "      <td>8906.000000</td>\n",
       "      <td>8906.000000</td>\n",
       "      <td>8906.000000</td>\n",
       "      <td>8906.000000</td>\n",
       "      <td>8906.0</td>\n",
       "      <td>8906.000000</td>\n",
       "      <td>8906.000000</td>\n",
       "    </tr>\n",
       "    <tr>\n",
       "      <th>mean</th>\n",
       "      <td>1969.965304</td>\n",
       "      <td>1093.698518</td>\n",
       "      <td>3.066596</td>\n",
       "      <td>1101.974371</td>\n",
       "      <td>169.767426</td>\n",
       "      <td>70.944689</td>\n",
       "      <td>0.0</td>\n",
       "      <td>1342.686487</td>\n",
       "      <td>248.987969</td>\n",
       "    </tr>\n",
       "    <tr>\n",
       "      <th>std</th>\n",
       "      <td>3341.314408</td>\n",
       "      <td>2433.776099</td>\n",
       "      <td>1.413313</td>\n",
       "      <td>3125.259063</td>\n",
       "      <td>261.917640</td>\n",
       "      <td>127.540495</td>\n",
       "      <td>0.0</td>\n",
       "      <td>3049.171035</td>\n",
       "      <td>615.711543</td>\n",
       "    </tr>\n",
       "    <tr>\n",
       "      <th>min</th>\n",
       "      <td>115.000000</td>\n",
       "      <td>109.000000</td>\n",
       "      <td>1.000000</td>\n",
       "      <td>0.000000</td>\n",
       "      <td>0.000000</td>\n",
       "      <td>0.000000</td>\n",
       "      <td>0.0</td>\n",
       "      <td>119.900000</td>\n",
       "      <td>10.900000</td>\n",
       "    </tr>\n",
       "    <tr>\n",
       "      <th>25%</th>\n",
       "      <td>730.000000</td>\n",
       "      <td>350.000000</td>\n",
       "      <td>2.000000</td>\n",
       "      <td>0.000000</td>\n",
       "      <td>0.000000</td>\n",
       "      <td>0.000000</td>\n",
       "      <td>0.0</td>\n",
       "      <td>385.000000</td>\n",
       "      <td>35.000000</td>\n",
       "    </tr>\n",
       "    <tr>\n",
       "      <th>50%</th>\n",
       "      <td>1195.000000</td>\n",
       "      <td>599.000000</td>\n",
       "      <td>3.000000</td>\n",
       "      <td>0.000000</td>\n",
       "      <td>0.000000</td>\n",
       "      <td>0.000000</td>\n",
       "      <td>0.0</td>\n",
       "      <td>688.850000</td>\n",
       "      <td>89.850000</td>\n",
       "    </tr>\n",
       "    <tr>\n",
       "      <th>75%</th>\n",
       "      <td>2199.000000</td>\n",
       "      <td>1199.000000</td>\n",
       "      <td>4.000000</td>\n",
       "      <td>1498.750000</td>\n",
       "      <td>458.850000</td>\n",
       "      <td>125.400000</td>\n",
       "      <td>0.0</td>\n",
       "      <td>1498.750000</td>\n",
       "      <td>299.750000</td>\n",
       "    </tr>\n",
       "    <tr>\n",
       "      <th>max</th>\n",
       "      <td>116292.000000</td>\n",
       "      <td>116292.000000</td>\n",
       "      <td>5.000000</td>\n",
       "      <td>145365.000000</td>\n",
       "      <td>690.000000</td>\n",
       "      <td>385.000000</td>\n",
       "      <td>0.0</td>\n",
       "      <td>145365.000000</td>\n",
       "      <td>29073.000000</td>\n",
       "    </tr>\n",
       "  </tbody>\n",
       "</table>\n",
       "</div>"
      ],
      "text/plain": [
       "        retail_price  discounted_price  product_rating         new_25  \\\n",
       "count    8906.000000       8906.000000     8906.000000    8906.000000   \n",
       "mean     1969.965304       1093.698518        3.066596    1101.974371   \n",
       "std      3341.314408       2433.776099        1.413313    3125.259063   \n",
       "min       115.000000        109.000000        1.000000       0.000000   \n",
       "25%       730.000000        350.000000        2.000000       0.000000   \n",
       "50%      1195.000000        599.000000        3.000000       0.000000   \n",
       "75%      2199.000000       1199.000000        4.000000    1498.750000   \n",
       "max    116292.000000     116292.000000        5.000000  145365.000000   \n",
       "\n",
       "            new_15       new_10  new_0_to_100    total_price  BrandRevenue  \n",
       "count  8906.000000  8906.000000        8906.0    8906.000000   8906.000000  \n",
       "mean    169.767426    70.944689           0.0    1342.686487    248.987969  \n",
       "std     261.917640   127.540495           0.0    3049.171035    615.711543  \n",
       "min       0.000000     0.000000           0.0     119.900000     10.900000  \n",
       "25%       0.000000     0.000000           0.0     385.000000     35.000000  \n",
       "50%       0.000000     0.000000           0.0     688.850000     89.850000  \n",
       "75%     458.850000   125.400000           0.0    1498.750000    299.750000  \n",
       "max     690.000000   385.000000           0.0  145365.000000  29073.000000  "
      ]
     },
     "execution_count": 176,
     "metadata": {},
     "output_type": "execute_result"
    }
   ],
   "source": [
    "df['BrandRevenue'] = df['total_price'] - df['discounted_price']\n",
    "df.describe()"
   ]
  },
  {
   "cell_type": "markdown",
   "id": "81300892",
   "metadata": {},
   "source": [
    "#### The total BrandRevenue is mentioned below"
   ]
  },
  {
   "cell_type": "code",
   "execution_count": 185,
   "id": "5fff9ee0",
   "metadata": {},
   "outputs": [
    {
     "name": "stdout",
     "output_type": "stream",
     "text": [
      "The total BrandRevenue is Rs2217486.85\n"
     ]
    }
   ],
   "source": [
    "print('The total BrandRevenue is Rs',df['BrandRevenue'].sum() , sep='')"
   ]
  },
  {
   "cell_type": "markdown",
   "id": "71037813",
   "metadata": {},
   "source": [
    "#### The top 10 BrandRevenue having maximum revenue is mentioned below"
   ]
  },
  {
   "cell_type": "code",
   "execution_count": 186,
   "id": "9c2ece49",
   "metadata": {},
   "outputs": [],
   "source": [
    "a = df.groupby('Brand')['BrandRevenue'].sum().sort_values(ascending=False).head(10).index.tolist()"
   ]
  },
  {
   "cell_type": "code",
   "execution_count": 188,
   "id": "d8cc3272",
   "metadata": {},
   "outputs": [
    {
     "name": "stdout",
     "output_type": "stream",
     "text": [
      "The top 10 Brand having maximum revenue in descending order are ['ALLURE AUTO', 'GAGA', 'DAILYOBJECTS', 'SLIM', 'DIVINITI', 'ENTHOPIA', 'ASUS', 'SPRINGWEL', 'AUDEZE', 'REGULAR']\n"
     ]
    }
   ],
   "source": [
    "print('The top 10 Brand having maximum revenue in descending order are',a)"
   ]
  },
  {
   "cell_type": "code",
   "execution_count": null,
   "id": "0b910581",
   "metadata": {},
   "outputs": [],
   "source": []
  },
  {
   "cell_type": "markdown",
   "id": "2a2bbd83",
   "metadata": {},
   "source": [
    "<font color='blue'>\n",
    "    <font size = 5>\n",
    "Let us now investigate multiple features for each product to determine any pattern.\n",
    "</font>"
   ]
  },
  {
   "cell_type": "markdown",
   "id": "1aa1834b",
   "metadata": {},
   "source": [
    "## Q 7. Compare prices for each product.\n",
    "\n",
    "## a)\tDraw boxplots of retail_price & discounted_price. (3 marks)\n",
    "\n",
    "## b)\t Are there any outliers? (Yes/No) (1mark)\n",
    "\n",
    "## c)\tCreate a scatterplot of retail_price (x-axis) and discounted_price (y-axis) (3 marks)\n"
   ]
  },
  {
   "cell_type": "markdown",
   "id": "d5aae861",
   "metadata": {},
   "source": [
    "### Ans 7 a)"
   ]
  },
  {
   "cell_type": "markdown",
   "id": "b4a78695",
   "metadata": {},
   "source": [
    "#### Boxplot for Retail Price"
   ]
  },
  {
   "cell_type": "code",
   "execution_count": 209,
   "id": "510fd4d0",
   "metadata": {},
   "outputs": [
    {
     "data": {
      "image/png": "[encoded data removed]",
      "text/plain": [
       "<Figure size 640x480 with 1 Axes>"
      ]
     },
     "metadata": {},
     "output_type": "display_data"
    }
   ],
   "source": [
    "plt.title('Boxplot - Retail Price')\n",
    "plt.xlabel('Horsepower')\n",
    "sns.boxplot(data=df,x='retail_price' , color='green')\n",
    "plt.xlabel('Retail Price')\n",
    "plt.xscale('log');"
   ]
  },
  {
   "cell_type": "code",
   "execution_count": null,
   "id": "8dc412da",
   "metadata": {},
   "outputs": [],
   "source": []
  },
  {
   "cell_type": "markdown",
   "id": "9bb13cc1",
   "metadata": {},
   "source": [
    "#### Boxplot for Discounted Price"
   ]
  },
  {
   "cell_type": "code",
   "execution_count": 210,
   "id": "68aa2f4b",
   "metadata": {},
   "outputs": [
    {
     "data": {
      "image/png": "[encoded data removed]",
      "text/plain": [
       "<Figure size 640x480 with 1 Axes>"
      ]
     },
     "metadata": {},
     "output_type": "display_data"
    }
   ],
   "source": [
    "plt.title('Boxplot - Discounted Price')\n",
    "plt.xlabel('Horsepower')\n",
    "sns.boxplot(data=df,x='discounted_price' , color='orange')\n",
    "plt.xlabel('Discounted Price')\n",
    "plt.xscale('log');"
   ]
  },
  {
   "cell_type": "code",
   "execution_count": null,
   "id": "c4d4b1f4",
   "metadata": {},
   "outputs": [],
   "source": []
  },
  {
   "cell_type": "markdown",
   "id": "78b92e7c",
   "metadata": {},
   "source": [
    "### Ans 7 b)"
   ]
  },
  {
   "cell_type": "markdown",
   "id": "a03622db",
   "metadata": {},
   "source": [
    "#### From the above boxplots we can see that there are multiple outliers in both the columns 'retail_price' and 'discounted_price'"
   ]
  },
  {
   "cell_type": "code",
   "execution_count": null,
   "id": "0af7c034",
   "metadata": {},
   "outputs": [],
   "source": []
  },
  {
   "cell_type": "markdown",
   "id": "0389c9b8",
   "metadata": {},
   "source": [
    "### Ans 7 c)"
   ]
  },
  {
   "cell_type": "markdown",
   "id": "2a18de1d",
   "metadata": {},
   "source": [
    "#### The scatterplot of retail_price (x-axis) and discounted_price (y-axis) is shown below"
   ]
  },
  {
   "cell_type": "code",
   "execution_count": 213,
   "id": "d8c44be9",
   "metadata": {},
   "outputs": [
    {
     "data": {
      "image/png": "[encoded data removed]",
      "text/plain": [
       "<Figure size 640x480 with 1 Axes>"
      ]
     },
     "metadata": {},
     "output_type": "display_data"
    }
   ],
   "source": [
    "sns.scatterplot(data=df, x = 'retail_price', y ='discounted_price')\n",
    "plt.xscale('log')\n",
    "plt.yscale('log');"
   ]
  },
  {
   "cell_type": "code",
   "execution_count": null,
   "id": "68cba0e5",
   "metadata": {},
   "outputs": [],
   "source": []
  },
  {
   "cell_type": "markdown",
   "id": "3bc47f55",
   "metadata": {},
   "source": [
    "<font color='blue'>\n",
    "    <font size = 5>\n",
    "    The next steps will enable to study brand-level information.\n",
    "    </font>"
   ]
  },
  {
   "cell_type": "markdown",
   "id": "b9bd00f7",
   "metadata": {},
   "source": [
    "## Q 8. Create a new dataframe to include the Brand specific information as stated:\n",
    "## i.\ttotal number of orders placed per Brand\n",
    "## ii.\ttotal retail_price per Brand\n",
    "## iii.\ttotal discounted_price per Brand, and \n",
    "## iv.\ttotal BrandRevenue generated per Brand. \n",
    "\n",
    "## Also, draw a pairplot using these four features. (6 marks)\n"
   ]
  },
  {
   "cell_type": "markdown",
   "id": "8f83cea9",
   "metadata": {},
   "source": [
    "### Ans 8"
   ]
  },
  {
   "cell_type": "markdown",
   "id": "87396d23",
   "metadata": {},
   "source": [
    "#### There are 4 conditions in the question. We will calculate it sequentially as shown below"
   ]
  },
  {
   "cell_type": "markdown",
   "id": "89db8493",
   "metadata": {},
   "source": [
    "#### First we need to create data series 'brand_count' to calculate total number of orders placed per Brand"
   ]
  },
  {
   "cell_type": "code",
   "execution_count": 215,
   "id": "d1cd0742",
   "metadata": {},
   "outputs": [
    {
     "data": {
      "text/plain": [
       "Brand\n",
       "ALLURE AUTO       469\n",
       "REGULAR           300\n",
       "SLIM              267\n",
       "THELOSTPUPPY      250\n",
       "BLACK             147\n",
       "                 ... \n",
       "JAYENTERPRISE       1\n",
       "JAYCOKNIT           1\n",
       "JAYANTI SAREES      1\n",
       "JAPDAN              1\n",
       " TARKAN             1\n",
       "Name: Customer_uniq_id, Length: 2484, dtype: int64"
      ]
     },
     "execution_count": 215,
     "metadata": {},
     "output_type": "execute_result"
    }
   ],
   "source": [
    "brand_count = df.groupby('Brand')['Customer_uniq_id'].count().sort_values(ascending=False)\n",
    "brand_count"
   ]
  },
  {
   "cell_type": "markdown",
   "id": "d51518fc",
   "metadata": {},
   "source": [
    "#### Second we need to create data series 'brand_retail_price_total' to calculate total retail_price per Brand"
   ]
  },
  {
   "cell_type": "code",
   "execution_count": 222,
   "id": "62a2e2ee",
   "metadata": {},
   "outputs": [
    {
     "data": {
      "text/plain": [
       "Brand\n",
       "ALLURE AUTO         1973880\n",
       "GAGA                 571909\n",
       "SLIM                 533724\n",
       "THELOSTPUPPY         531750\n",
       "REGULAR              304545\n",
       "                     ...   \n",
       "MAX                     149\n",
       "KHADI                   140\n",
       "MEDIMIX                 129\n",
       "OSWAL                   120\n",
       "HM INTERNATIONAL        120\n",
       "Name: retail_price, Length: 2484, dtype: int64"
      ]
     },
     "execution_count": 222,
     "metadata": {},
     "output_type": "execute_result"
    }
   ],
   "source": [
    "brand_retail_price_total = df.groupby('Brand')['retail_price'].sum().sort_values(ascending=False)\n",
    "brand_retail_price_total"
   ]
  },
  {
   "cell_type": "markdown",
   "id": "3293b3ac",
   "metadata": {},
   "source": [
    "#### Third we need to create data series 'brand_discounted_price_total' to calculate total discounted_price per Brand"
   ]
  },
  {
   "cell_type": "code",
   "execution_count": 221,
   "id": "235b2f04",
   "metadata": {},
   "outputs": [
    {
     "data": {
      "text/plain": [
       "Brand\n",
       "ALLURE AUTO          664619\n",
       "GAGA                 316520\n",
       "SLIM                 272177\n",
       "DAILYOBJECTS         242640\n",
       "DIVINITI             190820\n",
       "                      ...  \n",
       "DR. THAPAR'S            120\n",
       "LAADLI BOUTIQUE         110\n",
       "LAADLI BOUITIQUE        110\n",
       "OBS                     110\n",
       "DIGITAL MARKETING       110\n",
       "Name: discounted_price, Length: 2484, dtype: int64"
      ]
     },
     "execution_count": 221,
     "metadata": {},
     "output_type": "execute_result"
    }
   ],
   "source": [
    "brand_discounted_price_total = df.groupby('Brand')['discounted_price'].sum().sort_values(ascending=False)\n",
    "brand_discounted_price_total"
   ]
  },
  {
   "cell_type": "markdown",
   "id": "5dc93f83",
   "metadata": {},
   "source": [
    "#### Fourth we need to create data series 'brand_BrandRevenue_total' to calculate total BrandRevenue generated per Brand"
   ]
  },
  {
   "cell_type": "code",
   "execution_count": 220,
   "id": "fbbe1bbd",
   "metadata": {},
   "outputs": [
    {
     "data": {
      "text/plain": [
       "Brand\n",
       "ALLURE AUTO          166154.75\n",
       "GAGA                  79130.00\n",
       "DAILYOBJECTS          60660.00\n",
       "SLIM                  60114.40\n",
       "DIVINITI              47705.00\n",
       "                       ...    \n",
       "DR. THAPAR'S             12.00\n",
       "LAADLI BOUITIQUE         11.00\n",
       "LAADLI BOUTIQUE          11.00\n",
       "DIGITAL MARKETING        11.00\n",
       "OBS                      11.00\n",
       "Name: BrandRevenue, Length: 2484, dtype: float64"
      ]
     },
     "execution_count": 220,
     "metadata": {},
     "output_type": "execute_result"
    }
   ],
   "source": [
    "brand_BrandRevenue_total = df.groupby('Brand')['BrandRevenue'].sum().sort_values(ascending=False)\n",
    "brand_BrandRevenue_total"
   ]
  },
  {
   "cell_type": "markdown",
   "id": "ce14c821",
   "metadata": {},
   "source": [
    "#### Now we will combine all the above 4 data series in one data frame 'brand'"
   ]
  },
  {
   "cell_type": "code",
   "execution_count": 223,
   "id": "e6e3de5a",
   "metadata": {},
   "outputs": [],
   "source": [
    "brands = pd.DataFrame({'brand_count':brand_count,'brand_retail' : brand_retail_price_total,\n",
    "                       'brand_discounted' : brand_discounted_price_total , 'brand_brandrevenue':brand_BrandRevenue_total})"
   ]
  },
  {
   "cell_type": "code",
   "execution_count": 224,
   "id": "b3f9ff26",
   "metadata": {},
   "outputs": [
    {
     "data": {
      "text/html": [
       "<div>\n",
       "<style scoped>\n",
       "    .dataframe tbody tr th:only-of-type {\n",
       "        vertical-align: middle;\n",
       "    }\n",
       "\n",
       "    .dataframe tbody tr th {\n",
       "        vertical-align: top;\n",
       "    }\n",
       "\n",
       "    .dataframe thead th {\n",
       "        text-align: right;\n",
       "    }\n",
       "</style>\n",
       "<table border=\"1\" class=\"dataframe\">\n",
       "  <thead>\n",
       "    <tr style=\"text-align: right;\">\n",
       "      <th></th>\n",
       "      <th>brand_count</th>\n",
       "      <th>brand_retail</th>\n",
       "      <th>brand_discounted</th>\n",
       "      <th>brand_brandrevenue</th>\n",
       "    </tr>\n",
       "  </thead>\n",
       "  <tbody>\n",
       "    <tr>\n",
       "      <th>count</th>\n",
       "      <td>2484.000000</td>\n",
       "      <td>2.484000e+03</td>\n",
       "      <td>2484.000000</td>\n",
       "      <td>2484.000000</td>\n",
       "    </tr>\n",
       "    <tr>\n",
       "      <th>mean</th>\n",
       "      <td>3.585346</td>\n",
       "      <td>7.063008e+03</td>\n",
       "      <td>3921.287842</td>\n",
       "      <td>892.708072</td>\n",
       "    </tr>\n",
       "    <tr>\n",
       "      <th>std</th>\n",
       "      <td>15.599639</td>\n",
       "      <td>4.706971e+04</td>\n",
       "      <td>19518.250853</td>\n",
       "      <td>4748.883761</td>\n",
       "    </tr>\n",
       "    <tr>\n",
       "      <th>min</th>\n",
       "      <td>1.000000</td>\n",
       "      <td>1.200000e+02</td>\n",
       "      <td>110.000000</td>\n",
       "      <td>11.000000</td>\n",
       "    </tr>\n",
       "    <tr>\n",
       "      <th>25%</th>\n",
       "      <td>1.000000</td>\n",
       "      <td>8.990000e+02</td>\n",
       "      <td>494.750000</td>\n",
       "      <td>67.350000</td>\n",
       "    </tr>\n",
       "    <tr>\n",
       "      <th>50%</th>\n",
       "      <td>1.000000</td>\n",
       "      <td>1.739500e+03</td>\n",
       "      <td>998.000000</td>\n",
       "      <td>208.000000</td>\n",
       "    </tr>\n",
       "    <tr>\n",
       "      <th>75%</th>\n",
       "      <td>2.000000</td>\n",
       "      <td>3.999000e+03</td>\n",
       "      <td>2395.250000</td>\n",
       "      <td>531.050000</td>\n",
       "    </tr>\n",
       "    <tr>\n",
       "      <th>max</th>\n",
       "      <td>469.000000</td>\n",
       "      <td>1.973880e+06</td>\n",
       "      <td>664619.000000</td>\n",
       "      <td>166154.750000</td>\n",
       "    </tr>\n",
       "  </tbody>\n",
       "</table>\n",
       "</div>"
      ],
      "text/plain": [
       "       brand_count  brand_retail  brand_discounted  brand_brandrevenue\n",
       "count  2484.000000  2.484000e+03       2484.000000         2484.000000\n",
       "mean      3.585346  7.063008e+03       3921.287842          892.708072\n",
       "std      15.599639  4.706971e+04      19518.250853         4748.883761\n",
       "min       1.000000  1.200000e+02        110.000000           11.000000\n",
       "25%       1.000000  8.990000e+02        494.750000           67.350000\n",
       "50%       1.000000  1.739500e+03        998.000000          208.000000\n",
       "75%       2.000000  3.999000e+03       2395.250000          531.050000\n",
       "max     469.000000  1.973880e+06     664619.000000       166154.750000"
      ]
     },
     "execution_count": 224,
     "metadata": {},
     "output_type": "execute_result"
    }
   ],
   "source": [
    "brands.describe()"
   ]
  },
  {
   "cell_type": "markdown",
   "id": "5789e726",
   "metadata": {},
   "source": [
    "#### Below is the Pair plot including all the 4 data series"
   ]
  },
  {
   "cell_type": "code",
   "execution_count": 225,
   "id": "3c5399fc",
   "metadata": {},
   "outputs": [
    {
     "data": {
      "text/plain": [
       "<seaborn.axisgrid.PairGrid at 0x1dfd39f1c10>"
      ]
     },
     "execution_count": 225,
     "metadata": {},
     "output_type": "execute_result"
    },
    {
     "data": {
      "image/png": "[encoded data removed]",
      "text/plain": [
       "<Figure size 1000x1000 with 20 Axes>"
      ]
     },
     "metadata": {},
     "output_type": "display_data"
    }
   ],
   "source": [
    "sns.pairplot(data=brands[['brand_count','brand_retail','brand_discounted','brand_brandrevenue']])"
   ]
  },
  {
   "cell_type": "code",
   "execution_count": null,
   "id": "cc37a4a5",
   "metadata": {},
   "outputs": [],
   "source": []
  },
  {
   "cell_type": "markdown",
   "id": "ecec83f4",
   "metadata": {},
   "source": [
    "<font color='blue'>\n",
    "    <font size = 5>\n",
    "    The E-Commerce company operate in multiple regions. It is important to understand its performance in each region.\n",
    "    </font>"
   ]
  },
  {
   "cell_type": "markdown",
   "id": "dd09b8aa",
   "metadata": {},
   "source": [
    "## Q 9.Compare performance regionwise\n",
    "\n",
    "## a)\tDraw a lineplot for the monthly Revenue of E-Commerce Company for each region separately.  (4 marks) \n",
    "\n",
    "## b)\tIdentify the best and the worst performing months for each region. (2 marks)\n",
    "\n",
    "#### Note: Only those days with actual orders(Order_Date) placed are present in the dataset. Assuming there were no orders on other days. Also, show Month and Year on x-axis."
   ]
  },
  {
   "cell_type": "markdown",
   "id": "e6d64aea",
   "metadata": {},
   "source": [
    "### Ans 9 a)"
   ]
  },
  {
   "cell_type": "markdown",
   "id": "6361874b",
   "metadata": {},
   "source": [
    "#### In the question it is asked to draw month-wise graph based on column 'Order_Date', So we have to extract month, year and day"
   ]
  },
  {
   "cell_type": "code",
   "execution_count": 309,
   "id": "2de78fd4",
   "metadata": {},
   "outputs": [
    {
     "name": "stdout",
     "output_type": "stream",
     "text": [
      "<class 'pandas.core.frame.DataFrame'>\n",
      "RangeIndex: 8906 entries, 0 to 8905\n",
      "Data columns (total 21 columns):\n",
      " #   Column                      Non-Null Count  Dtype  \n",
      "---  ------                      --------------  -----  \n",
      " 0   Customer_uniq_id            8906 non-null   object \n",
      " 1   Region                      8906 non-null   object \n",
      " 2   Order_Date                  8906 non-null   object \n",
      " 3   Expected_Delivery_Date      8906 non-null   object \n",
      " 4   Delivered_Date              8906 non-null   object \n",
      " 5   product_name                8906 non-null   object \n",
      " 6   product_main_category       8906 non-null   object \n",
      " 7   product_subcategory         8906 non-null   object \n",
      " 8   product_category_filter     8906 non-null   object \n",
      " 9   product_category_subfilter  8906 non-null   object \n",
      " 10  product_unique ID           8906 non-null   object \n",
      " 11  retail_price                8906 non-null   int64  \n",
      " 12  discounted_price            8906 non-null   int64  \n",
      " 13  product_rating              8906 non-null   float64\n",
      " 14  Brand                       8906 non-null   object \n",
      " 15  product_specifications      8906 non-null   object \n",
      " 16  description                 8906 non-null   object \n",
      " 17  new_25                      8906 non-null   float64\n",
      " 18  new_15                      8906 non-null   float64\n",
      " 19  new_10                      8906 non-null   float64\n",
      " 20  new_0_to_100                8906 non-null   float64\n",
      "dtypes: float64(5), int64(2), object(14)\n",
      "memory usage: 1.4+ MB\n"
     ]
    }
   ],
   "source": [
    "df.info()"
   ]
  },
  {
   "cell_type": "markdown",
   "id": "6fde6079",
   "metadata": {},
   "source": [
    "#### As we can see the data type of column 'Order_Date' is Object we have to convert it into datetime format"
   ]
  },
  {
   "cell_type": "code",
   "execution_count": 228,
   "id": "47ef45ad",
   "metadata": {},
   "outputs": [],
   "source": [
    "df['Order_Date'] = pd.to_datetime(df['Order_Date'] , dayfirst=True)"
   ]
  },
  {
   "cell_type": "code",
   "execution_count": 229,
   "id": "2da42987",
   "metadata": {},
   "outputs": [
    {
     "name": "stdout",
     "output_type": "stream",
     "text": [
      "<class 'pandas.core.frame.DataFrame'>\n",
      "RangeIndex: 8906 entries, 0 to 8905\n",
      "Data columns (total 23 columns):\n",
      " #   Column                      Non-Null Count  Dtype         \n",
      "---  ------                      --------------  -----         \n",
      " 0   Customer_uniq_id            8906 non-null   object        \n",
      " 1   Region                      8906 non-null   object        \n",
      " 2   Order_Date                  8906 non-null   datetime64[ns]\n",
      " 3   Expected_Delivery_Date      8906 non-null   object        \n",
      " 4   Delivered_Date              8906 non-null   object        \n",
      " 5   product_name                8906 non-null   object        \n",
      " 6   product_main_category       8906 non-null   object        \n",
      " 7   product_subcategory         8906 non-null   object        \n",
      " 8   product_category_filter     8906 non-null   object        \n",
      " 9   product_category_subfilter  8906 non-null   object        \n",
      " 10  product_unique ID           8906 non-null   object        \n",
      " 11  retail_price                8906 non-null   int64         \n",
      " 12  discounted_price            8906 non-null   int64         \n",
      " 13  product_rating              8906 non-null   float64       \n",
      " 14  Brand                       8906 non-null   object        \n",
      " 15  product_specifications      8906 non-null   object        \n",
      " 16  description                 8906 non-null   object        \n",
      " 17  new_25                      8906 non-null   float64       \n",
      " 18  new_15                      8906 non-null   float64       \n",
      " 19  new_10                      8906 non-null   float64       \n",
      " 20  new_0_to_100                8906 non-null   float64       \n",
      " 21  total_price                 8906 non-null   float64       \n",
      " 22  BrandRevenue                8906 non-null   float64       \n",
      "dtypes: datetime64[ns](1), float64(7), int64(2), object(13)\n",
      "memory usage: 1.6+ MB\n"
     ]
    }
   ],
   "source": [
    "df.info()"
   ]
  },
  {
   "cell_type": "markdown",
   "id": "434cc3b1",
   "metadata": {},
   "source": [
    "#### Now column 'Order_Date' is converted to datetime format now we can extract day, month and year"
   ]
  },
  {
   "cell_type": "code",
   "execution_count": 230,
   "id": "13f0bb86",
   "metadata": {},
   "outputs": [
    {
     "data": {
      "text/html": [
       "<div>\n",
       "<style scoped>\n",
       "    .dataframe tbody tr th:only-of-type {\n",
       "        vertical-align: middle;\n",
       "    }\n",
       "\n",
       "    .dataframe tbody tr th {\n",
       "        vertical-align: top;\n",
       "    }\n",
       "\n",
       "    .dataframe thead th {\n",
       "        text-align: right;\n",
       "    }\n",
       "</style>\n",
       "<table border=\"1\" class=\"dataframe\">\n",
       "  <thead>\n",
       "    <tr style=\"text-align: right;\">\n",
       "      <th></th>\n",
       "      <th>Customer_uniq_id</th>\n",
       "      <th>Region</th>\n",
       "      <th>Order_Date</th>\n",
       "      <th>Expected_Delivery_Date</th>\n",
       "      <th>Delivered_Date</th>\n",
       "      <th>product_name</th>\n",
       "      <th>product_main_category</th>\n",
       "      <th>product_subcategory</th>\n",
       "      <th>product_category_filter</th>\n",
       "      <th>product_category_subfilter</th>\n",
       "      <th>...</th>\n",
       "      <th>Brand</th>\n",
       "      <th>product_specifications</th>\n",
       "      <th>description</th>\n",
       "      <th>new_25</th>\n",
       "      <th>new_15</th>\n",
       "      <th>new_10</th>\n",
       "      <th>new_0_to_100</th>\n",
       "      <th>total_price</th>\n",
       "      <th>BrandRevenue</th>\n",
       "      <th>year</th>\n",
       "    </tr>\n",
       "  </thead>\n",
       "  <tbody>\n",
       "    <tr>\n",
       "      <th>0</th>\n",
       "      <td>e71017e224688489edfe856f2308806d</td>\n",
       "      <td>East</td>\n",
       "      <td>2021-10-24</td>\n",
       "      <td>25-10-2021</td>\n",
       "      <td>25-10-2021</td>\n",
       "      <td>Indcrown Net Embroidered Semi-stitched Lehenga...</td>\n",
       "      <td>Clothing</td>\n",
       "      <td>Women's Clothing</td>\n",
       "      <td>Ethnic Wear</td>\n",
       "      <td>Fabric</td>\n",
       "      <td>...</td>\n",
       "      <td>INDCROWN</td>\n",
       "      <td>{\"product_specification\"=&gt;[{\"key\"=&gt;\"Fabric\", \"...</td>\n",
       "      <td>Key Features of Indcrown Net Embroidered Semi-...</td>\n",
       "      <td>873.75</td>\n",
       "      <td>0.0</td>\n",
       "      <td>0.0</td>\n",
       "      <td>0.0</td>\n",
       "      <td>873.75</td>\n",
       "      <td>174.75</td>\n",
       "      <td>2021</td>\n",
       "    </tr>\n",
       "    <tr>\n",
       "      <th>1</th>\n",
       "      <td>6286847ee2da18f587503db49511c539</td>\n",
       "      <td>East</td>\n",
       "      <td>2021-10-24</td>\n",
       "      <td>25-10-2021</td>\n",
       "      <td>25-10-2021</td>\n",
       "      <td>Shopmania Music Band A5 Notebook Spiral Bound</td>\n",
       "      <td>Pens &amp; Stationery</td>\n",
       "      <td>Diaries &amp; Notebooks</td>\n",
       "      <td>Notebooks</td>\n",
       "      <td>Designer</td>\n",
       "      <td>...</td>\n",
       "      <td>SHOPMANIA</td>\n",
       "      <td>{\"product_specification\"=&gt;[{\"key\"=&gt;\"Ruling\", \"...</td>\n",
       "      <td>Specifications of Shopmania Music Band A5 Note...</td>\n",
       "      <td>0.00</td>\n",
       "      <td>0.0</td>\n",
       "      <td>302.5</td>\n",
       "      <td>0.0</td>\n",
       "      <td>302.50</td>\n",
       "      <td>27.50</td>\n",
       "      <td>2021</td>\n",
       "    </tr>\n",
       "  </tbody>\n",
       "</table>\n",
       "<p>2 rows × 24 columns</p>\n",
       "</div>"
      ],
      "text/plain": [
       "                   Customer_uniq_id Region Order_Date Expected_Delivery_Date  \\\n",
       "0  e71017e224688489edfe856f2308806d  East  2021-10-24             25-10-2021   \n",
       "1  6286847ee2da18f587503db49511c539  East  2021-10-24             25-10-2021   \n",
       "\n",
       "  Delivered_Date                                       product_name  \\\n",
       "0     25-10-2021  Indcrown Net Embroidered Semi-stitched Lehenga...   \n",
       "1     25-10-2021      Shopmania Music Band A5 Notebook Spiral Bound   \n",
       "\n",
       "  product_main_category    product_subcategory product_category_filter  \\\n",
       "0             Clothing       Women's Clothing             Ethnic Wear    \n",
       "1    Pens & Stationery    Diaries & Notebooks               Notebooks    \n",
       "\n",
       "  product_category_subfilter  ...      Brand  \\\n",
       "0                    Fabric   ...   INDCROWN   \n",
       "1                  Designer   ...  SHOPMANIA   \n",
       "\n",
       "                              product_specifications  \\\n",
       "0  {\"product_specification\"=>[{\"key\"=>\"Fabric\", \"...   \n",
       "1  {\"product_specification\"=>[{\"key\"=>\"Ruling\", \"...   \n",
       "\n",
       "                                         description  new_25 new_15 new_10  \\\n",
       "0  Key Features of Indcrown Net Embroidered Semi-...  873.75    0.0    0.0   \n",
       "1  Specifications of Shopmania Music Band A5 Note...    0.00    0.0  302.5   \n",
       "\n",
       "  new_0_to_100  total_price  BrandRevenue  year  \n",
       "0          0.0       873.75        174.75  2021  \n",
       "1          0.0       302.50         27.50  2021  \n",
       "\n",
       "[2 rows x 24 columns]"
      ]
     },
     "execution_count": 230,
     "metadata": {},
     "output_type": "execute_result"
    }
   ],
   "source": [
    "# Extracting year\n",
    "\n",
    "df['year'] = df['Order_Date'].dt.year\n",
    "df.head(2)"
   ]
  },
  {
   "cell_type": "code",
   "execution_count": 231,
   "id": "b0320305",
   "metadata": {},
   "outputs": [
    {
     "data": {
      "text/plain": [
       "array([2021, 2020], dtype=int64)"
      ]
     },
     "execution_count": 231,
     "metadata": {},
     "output_type": "execute_result"
    }
   ],
   "source": [
    "df['year'].unique()"
   ]
  },
  {
   "cell_type": "markdown",
   "id": "3c42f3dd",
   "metadata": {},
   "source": [
    "#### There are 2 year 2020 and 2021"
   ]
  },
  {
   "cell_type": "code",
   "execution_count": 233,
   "id": "ae13c206",
   "metadata": {},
   "outputs": [
    {
     "data": {
      "text/html": [
       "<div>\n",
       "<style scoped>\n",
       "    .dataframe tbody tr th:only-of-type {\n",
       "        vertical-align: middle;\n",
       "    }\n",
       "\n",
       "    .dataframe tbody tr th {\n",
       "        vertical-align: top;\n",
       "    }\n",
       "\n",
       "    .dataframe thead th {\n",
       "        text-align: right;\n",
       "    }\n",
       "</style>\n",
       "<table border=\"1\" class=\"dataframe\">\n",
       "  <thead>\n",
       "    <tr style=\"text-align: right;\">\n",
       "      <th></th>\n",
       "      <th>Customer_uniq_id</th>\n",
       "      <th>Region</th>\n",
       "      <th>Order_Date</th>\n",
       "      <th>Expected_Delivery_Date</th>\n",
       "      <th>Delivered_Date</th>\n",
       "      <th>product_name</th>\n",
       "      <th>product_main_category</th>\n",
       "      <th>product_subcategory</th>\n",
       "      <th>product_category_filter</th>\n",
       "      <th>product_category_subfilter</th>\n",
       "      <th>...</th>\n",
       "      <th>product_specifications</th>\n",
       "      <th>description</th>\n",
       "      <th>new_25</th>\n",
       "      <th>new_15</th>\n",
       "      <th>new_10</th>\n",
       "      <th>new_0_to_100</th>\n",
       "      <th>total_price</th>\n",
       "      <th>BrandRevenue</th>\n",
       "      <th>year</th>\n",
       "      <th>order_month</th>\n",
       "    </tr>\n",
       "  </thead>\n",
       "  <tbody>\n",
       "    <tr>\n",
       "      <th>0</th>\n",
       "      <td>e71017e224688489edfe856f2308806d</td>\n",
       "      <td>East</td>\n",
       "      <td>2021-10-24</td>\n",
       "      <td>25-10-2021</td>\n",
       "      <td>25-10-2021</td>\n",
       "      <td>Indcrown Net Embroidered Semi-stitched Lehenga...</td>\n",
       "      <td>Clothing</td>\n",
       "      <td>Women's Clothing</td>\n",
       "      <td>Ethnic Wear</td>\n",
       "      <td>Fabric</td>\n",
       "      <td>...</td>\n",
       "      <td>{\"product_specification\"=&gt;[{\"key\"=&gt;\"Fabric\", \"...</td>\n",
       "      <td>Key Features of Indcrown Net Embroidered Semi-...</td>\n",
       "      <td>873.75</td>\n",
       "      <td>0.0</td>\n",
       "      <td>0.0</td>\n",
       "      <td>0.0</td>\n",
       "      <td>873.75</td>\n",
       "      <td>174.75</td>\n",
       "      <td>2021</td>\n",
       "      <td>10</td>\n",
       "    </tr>\n",
       "    <tr>\n",
       "      <th>1</th>\n",
       "      <td>6286847ee2da18f587503db49511c539</td>\n",
       "      <td>East</td>\n",
       "      <td>2021-10-24</td>\n",
       "      <td>25-10-2021</td>\n",
       "      <td>25-10-2021</td>\n",
       "      <td>Shopmania Music Band A5 Notebook Spiral Bound</td>\n",
       "      <td>Pens &amp; Stationery</td>\n",
       "      <td>Diaries &amp; Notebooks</td>\n",
       "      <td>Notebooks</td>\n",
       "      <td>Designer</td>\n",
       "      <td>...</td>\n",
       "      <td>{\"product_specification\"=&gt;[{\"key\"=&gt;\"Ruling\", \"...</td>\n",
       "      <td>Specifications of Shopmania Music Band A5 Note...</td>\n",
       "      <td>0.00</td>\n",
       "      <td>0.0</td>\n",
       "      <td>302.5</td>\n",
       "      <td>0.0</td>\n",
       "      <td>302.50</td>\n",
       "      <td>27.50</td>\n",
       "      <td>2021</td>\n",
       "      <td>10</td>\n",
       "    </tr>\n",
       "    <tr>\n",
       "      <th>2</th>\n",
       "      <td>0686fec9b70e5039583a38119ca0c835</td>\n",
       "      <td>West</td>\n",
       "      <td>2021-10-24</td>\n",
       "      <td>25-10-2021</td>\n",
       "      <td>25-10-2021</td>\n",
       "      <td>Shopmania Music Band A5 Notebook Spiral Bound</td>\n",
       "      <td>Pens &amp; Stationery</td>\n",
       "      <td>Diaries &amp; Notebooks</td>\n",
       "      <td>Notebooks</td>\n",
       "      <td>Designer</td>\n",
       "      <td>...</td>\n",
       "      <td>{\"product_specification\"=&gt;[{\"key\"=&gt;\"Ruling\", \"...</td>\n",
       "      <td>Specifications of Shopmania Music Band A5 Note...</td>\n",
       "      <td>0.00</td>\n",
       "      <td>0.0</td>\n",
       "      <td>302.5</td>\n",
       "      <td>0.0</td>\n",
       "      <td>302.50</td>\n",
       "      <td>27.50</td>\n",
       "      <td>2021</td>\n",
       "      <td>10</td>\n",
       "    </tr>\n",
       "  </tbody>\n",
       "</table>\n",
       "<p>3 rows × 25 columns</p>\n",
       "</div>"
      ],
      "text/plain": [
       "                   Customer_uniq_id Region Order_Date Expected_Delivery_Date  \\\n",
       "0  e71017e224688489edfe856f2308806d  East  2021-10-24             25-10-2021   \n",
       "1  6286847ee2da18f587503db49511c539  East  2021-10-24             25-10-2021   \n",
       "2  0686fec9b70e5039583a38119ca0c835   West 2021-10-24             25-10-2021   \n",
       "\n",
       "  Delivered_Date                                       product_name  \\\n",
       "0     25-10-2021  Indcrown Net Embroidered Semi-stitched Lehenga...   \n",
       "1     25-10-2021      Shopmania Music Band A5 Notebook Spiral Bound   \n",
       "2     25-10-2021      Shopmania Music Band A5 Notebook Spiral Bound   \n",
       "\n",
       "  product_main_category    product_subcategory product_category_filter  \\\n",
       "0             Clothing       Women's Clothing             Ethnic Wear    \n",
       "1    Pens & Stationery    Diaries & Notebooks               Notebooks    \n",
       "2    Pens & Stationery    Diaries & Notebooks               Notebooks    \n",
       "\n",
       "  product_category_subfilter  ...  \\\n",
       "0                    Fabric   ...   \n",
       "1                  Designer   ...   \n",
       "2                  Designer   ...   \n",
       "\n",
       "                              product_specifications  \\\n",
       "0  {\"product_specification\"=>[{\"key\"=>\"Fabric\", \"...   \n",
       "1  {\"product_specification\"=>[{\"key\"=>\"Ruling\", \"...   \n",
       "2  {\"product_specification\"=>[{\"key\"=>\"Ruling\", \"...   \n",
       "\n",
       "                                         description  new_25  new_15 new_10  \\\n",
       "0  Key Features of Indcrown Net Embroidered Semi-...  873.75     0.0    0.0   \n",
       "1  Specifications of Shopmania Music Band A5 Note...    0.00     0.0  302.5   \n",
       "2  Specifications of Shopmania Music Band A5 Note...    0.00     0.0  302.5   \n",
       "\n",
       "  new_0_to_100 total_price  BrandRevenue  year  order_month  \n",
       "0          0.0      873.75        174.75  2021           10  \n",
       "1          0.0      302.50         27.50  2021           10  \n",
       "2          0.0      302.50         27.50  2021           10  \n",
       "\n",
       "[3 rows x 25 columns]"
      ]
     },
     "execution_count": 233,
     "metadata": {},
     "output_type": "execute_result"
    }
   ],
   "source": [
    "# Extracting month\n",
    "\n",
    "df['order_month'] = df['Order_Date'].dt.month\n",
    "df.head(3)"
   ]
  },
  {
   "cell_type": "code",
   "execution_count": 234,
   "id": "f37508ac",
   "metadata": {},
   "outputs": [
    {
     "data": {
      "text/plain": [
       "11"
      ]
     },
     "execution_count": 234,
     "metadata": {},
     "output_type": "execute_result"
    }
   ],
   "source": [
    "df['order_month'].nunique()"
   ]
  },
  {
   "cell_type": "code",
   "execution_count": 235,
   "id": "9cf24828",
   "metadata": {},
   "outputs": [
    {
     "data": {
      "text/plain": [
       "array([10,  9,  8, 12,  7,  6,  5,  3,  4,  1,  2], dtype=int64)"
      ]
     },
     "execution_count": 235,
     "metadata": {},
     "output_type": "execute_result"
    }
   ],
   "source": [
    "df['order_month'].unique()"
   ]
  },
  {
   "cell_type": "markdown",
   "id": "9498a1fa",
   "metadata": {},
   "source": [
    "#### There are 11 months, month 'November' is missing"
   ]
  },
  {
   "cell_type": "code",
   "execution_count": 236,
   "id": "7c8e858a",
   "metadata": {},
   "outputs": [
    {
     "data": {
      "text/html": [
       "<div>\n",
       "<style scoped>\n",
       "    .dataframe tbody tr th:only-of-type {\n",
       "        vertical-align: middle;\n",
       "    }\n",
       "\n",
       "    .dataframe tbody tr th {\n",
       "        vertical-align: top;\n",
       "    }\n",
       "\n",
       "    .dataframe thead th {\n",
       "        text-align: right;\n",
       "    }\n",
       "</style>\n",
       "<table border=\"1\" class=\"dataframe\">\n",
       "  <thead>\n",
       "    <tr style=\"text-align: right;\">\n",
       "      <th></th>\n",
       "      <th>Customer_uniq_id</th>\n",
       "      <th>Region</th>\n",
       "      <th>Order_Date</th>\n",
       "      <th>Expected_Delivery_Date</th>\n",
       "      <th>Delivered_Date</th>\n",
       "      <th>product_name</th>\n",
       "      <th>product_main_category</th>\n",
       "      <th>product_subcategory</th>\n",
       "      <th>product_category_filter</th>\n",
       "      <th>product_category_subfilter</th>\n",
       "      <th>...</th>\n",
       "      <th>description</th>\n",
       "      <th>new_25</th>\n",
       "      <th>new_15</th>\n",
       "      <th>new_10</th>\n",
       "      <th>new_0_to_100</th>\n",
       "      <th>total_price</th>\n",
       "      <th>BrandRevenue</th>\n",
       "      <th>year</th>\n",
       "      <th>order_month</th>\n",
       "      <th>order_day</th>\n",
       "    </tr>\n",
       "  </thead>\n",
       "  <tbody>\n",
       "    <tr>\n",
       "      <th>0</th>\n",
       "      <td>e71017e224688489edfe856f2308806d</td>\n",
       "      <td>East</td>\n",
       "      <td>2021-10-24</td>\n",
       "      <td>25-10-2021</td>\n",
       "      <td>25-10-2021</td>\n",
       "      <td>Indcrown Net Embroidered Semi-stitched Lehenga...</td>\n",
       "      <td>Clothing</td>\n",
       "      <td>Women's Clothing</td>\n",
       "      <td>Ethnic Wear</td>\n",
       "      <td>Fabric</td>\n",
       "      <td>...</td>\n",
       "      <td>Key Features of Indcrown Net Embroidered Semi-...</td>\n",
       "      <td>873.75</td>\n",
       "      <td>0.0</td>\n",
       "      <td>0.0</td>\n",
       "      <td>0.0</td>\n",
       "      <td>873.75</td>\n",
       "      <td>174.75</td>\n",
       "      <td>2021</td>\n",
       "      <td>10</td>\n",
       "      <td>24</td>\n",
       "    </tr>\n",
       "    <tr>\n",
       "      <th>1</th>\n",
       "      <td>6286847ee2da18f587503db49511c539</td>\n",
       "      <td>East</td>\n",
       "      <td>2021-10-24</td>\n",
       "      <td>25-10-2021</td>\n",
       "      <td>25-10-2021</td>\n",
       "      <td>Shopmania Music Band A5 Notebook Spiral Bound</td>\n",
       "      <td>Pens &amp; Stationery</td>\n",
       "      <td>Diaries &amp; Notebooks</td>\n",
       "      <td>Notebooks</td>\n",
       "      <td>Designer</td>\n",
       "      <td>...</td>\n",
       "      <td>Specifications of Shopmania Music Band A5 Note...</td>\n",
       "      <td>0.00</td>\n",
       "      <td>0.0</td>\n",
       "      <td>302.5</td>\n",
       "      <td>0.0</td>\n",
       "      <td>302.50</td>\n",
       "      <td>27.50</td>\n",
       "      <td>2021</td>\n",
       "      <td>10</td>\n",
       "      <td>24</td>\n",
       "    </tr>\n",
       "    <tr>\n",
       "      <th>2</th>\n",
       "      <td>0686fec9b70e5039583a38119ca0c835</td>\n",
       "      <td>West</td>\n",
       "      <td>2021-10-24</td>\n",
       "      <td>25-10-2021</td>\n",
       "      <td>25-10-2021</td>\n",
       "      <td>Shopmania Music Band A5 Notebook Spiral Bound</td>\n",
       "      <td>Pens &amp; Stationery</td>\n",
       "      <td>Diaries &amp; Notebooks</td>\n",
       "      <td>Notebooks</td>\n",
       "      <td>Designer</td>\n",
       "      <td>...</td>\n",
       "      <td>Specifications of Shopmania Music Band A5 Note...</td>\n",
       "      <td>0.00</td>\n",
       "      <td>0.0</td>\n",
       "      <td>302.5</td>\n",
       "      <td>0.0</td>\n",
       "      <td>302.50</td>\n",
       "      <td>27.50</td>\n",
       "      <td>2021</td>\n",
       "      <td>10</td>\n",
       "      <td>24</td>\n",
       "    </tr>\n",
       "  </tbody>\n",
       "</table>\n",
       "<p>3 rows × 26 columns</p>\n",
       "</div>"
      ],
      "text/plain": [
       "                   Customer_uniq_id Region Order_Date Expected_Delivery_Date  \\\n",
       "0  e71017e224688489edfe856f2308806d  East  2021-10-24             25-10-2021   \n",
       "1  6286847ee2da18f587503db49511c539  East  2021-10-24             25-10-2021   \n",
       "2  0686fec9b70e5039583a38119ca0c835   West 2021-10-24             25-10-2021   \n",
       "\n",
       "  Delivered_Date                                       product_name  \\\n",
       "0     25-10-2021  Indcrown Net Embroidered Semi-stitched Lehenga...   \n",
       "1     25-10-2021      Shopmania Music Band A5 Notebook Spiral Bound   \n",
       "2     25-10-2021      Shopmania Music Band A5 Notebook Spiral Bound   \n",
       "\n",
       "  product_main_category    product_subcategory product_category_filter  \\\n",
       "0             Clothing       Women's Clothing             Ethnic Wear    \n",
       "1    Pens & Stationery    Diaries & Notebooks               Notebooks    \n",
       "2    Pens & Stationery    Diaries & Notebooks               Notebooks    \n",
       "\n",
       "  product_category_subfilter  ...  \\\n",
       "0                    Fabric   ...   \n",
       "1                  Designer   ...   \n",
       "2                  Designer   ...   \n",
       "\n",
       "                                         description  new_25  new_15  new_10  \\\n",
       "0  Key Features of Indcrown Net Embroidered Semi-...  873.75     0.0     0.0   \n",
       "1  Specifications of Shopmania Music Band A5 Note...    0.00     0.0   302.5   \n",
       "2  Specifications of Shopmania Music Band A5 Note...    0.00     0.0   302.5   \n",
       "\n",
       "  new_0_to_100 total_price BrandRevenue  year  order_month  order_day  \n",
       "0          0.0      873.75       174.75  2021           10         24  \n",
       "1          0.0      302.50        27.50  2021           10         24  \n",
       "2          0.0      302.50        27.50  2021           10         24  \n",
       "\n",
       "[3 rows x 26 columns]"
      ]
     },
     "execution_count": 236,
     "metadata": {},
     "output_type": "execute_result"
    }
   ],
   "source": [
    "# Extracting day\n",
    "\n",
    "df['order_day'] = df['Order_Date'].dt.day\n",
    "df.head(3)"
   ]
  },
  {
   "cell_type": "code",
   "execution_count": 237,
   "id": "d6e20695",
   "metadata": {},
   "outputs": [
    {
     "data": {
      "text/plain": [
       "array(['East ', 'West', 'North', 'South'], dtype=object)"
      ]
     },
     "execution_count": 237,
     "metadata": {},
     "output_type": "execute_result"
    }
   ],
   "source": [
    "df['Region'].unique()"
   ]
  },
  {
   "cell_type": "markdown",
   "id": "604daa16",
   "metadata": {},
   "source": [
    "#### Since there are 4 regions we will now create 4 data frames for all 4 regions"
   ]
  },
  {
   "cell_type": "code",
   "execution_count": 241,
   "id": "b527ba6e",
   "metadata": {},
   "outputs": [
    {
     "data": {
      "text/html": [
       "<div>\n",
       "<style scoped>\n",
       "    .dataframe tbody tr th:only-of-type {\n",
       "        vertical-align: middle;\n",
       "    }\n",
       "\n",
       "    .dataframe tbody tr th {\n",
       "        vertical-align: top;\n",
       "    }\n",
       "\n",
       "    .dataframe thead th {\n",
       "        text-align: right;\n",
       "    }\n",
       "</style>\n",
       "<table border=\"1\" class=\"dataframe\">\n",
       "  <thead>\n",
       "    <tr style=\"text-align: right;\">\n",
       "      <th></th>\n",
       "      <th>Customer_uniq_id</th>\n",
       "      <th>Region</th>\n",
       "      <th>Order_Date</th>\n",
       "      <th>Expected_Delivery_Date</th>\n",
       "      <th>Delivered_Date</th>\n",
       "      <th>product_name</th>\n",
       "      <th>product_main_category</th>\n",
       "      <th>product_subcategory</th>\n",
       "      <th>product_category_filter</th>\n",
       "      <th>product_category_subfilter</th>\n",
       "      <th>...</th>\n",
       "      <th>description</th>\n",
       "      <th>new_25</th>\n",
       "      <th>new_15</th>\n",
       "      <th>new_10</th>\n",
       "      <th>new_0_to_100</th>\n",
       "      <th>total_price</th>\n",
       "      <th>BrandRevenue</th>\n",
       "      <th>year</th>\n",
       "      <th>order_month</th>\n",
       "      <th>order_day</th>\n",
       "    </tr>\n",
       "  </thead>\n",
       "  <tbody>\n",
       "    <tr>\n",
       "      <th>2</th>\n",
       "      <td>0686fec9b70e5039583a38119ca0c835</td>\n",
       "      <td>West</td>\n",
       "      <td>2021-10-24</td>\n",
       "      <td>25-10-2021</td>\n",
       "      <td>25-10-2021</td>\n",
       "      <td>Shopmania Music Band A5 Notebook Spiral Bound</td>\n",
       "      <td>Pens &amp; Stationery</td>\n",
       "      <td>Diaries &amp; Notebooks</td>\n",
       "      <td>Notebooks</td>\n",
       "      <td>Designer</td>\n",
       "      <td>...</td>\n",
       "      <td>Specifications of Shopmania Music Band A5 Note...</td>\n",
       "      <td>0.00</td>\n",
       "      <td>0.0</td>\n",
       "      <td>302.5</td>\n",
       "      <td>0.0</td>\n",
       "      <td>302.50</td>\n",
       "      <td>27.50</td>\n",
       "      <td>2021</td>\n",
       "      <td>10</td>\n",
       "      <td>24</td>\n",
       "    </tr>\n",
       "    <tr>\n",
       "      <th>3</th>\n",
       "      <td>ea2406dc597bee2abb6b867fa668501f</td>\n",
       "      <td>West</td>\n",
       "      <td>2021-10-24</td>\n",
       "      <td>25-10-2021</td>\n",
       "      <td>25-10-2021</td>\n",
       "      <td>Tiara Diaries 2016-2017 Designer LA Kaarta \"TA...</td>\n",
       "      <td>Pens &amp; Stationery</td>\n",
       "      <td>Diaries &amp; Notebooks</td>\n",
       "      <td>Notebooks</td>\n",
       "      <td>Designer</td>\n",
       "      <td>...</td>\n",
       "      <td>Specifications of Tiara Diaries 2016-2017 Desi...</td>\n",
       "      <td>1046.25</td>\n",
       "      <td>0.0</td>\n",
       "      <td>0.0</td>\n",
       "      <td>0.0</td>\n",
       "      <td>1046.25</td>\n",
       "      <td>209.25</td>\n",
       "      <td>2021</td>\n",
       "      <td>10</td>\n",
       "      <td>24</td>\n",
       "    </tr>\n",
       "    <tr>\n",
       "      <th>9</th>\n",
       "      <td>547b6585272473ae006bcfbdb47b6ae0</td>\n",
       "      <td>West</td>\n",
       "      <td>2021-08-26</td>\n",
       "      <td>27-08-2021</td>\n",
       "      <td>27-08-2021</td>\n",
       "      <td>Nuride Canvas Shoes</td>\n",
       "      <td>Footwear</td>\n",
       "      <td>Women's Footwear</td>\n",
       "      <td>Casual Shoes</td>\n",
       "      <td>Canvas</td>\n",
       "      <td>...</td>\n",
       "      <td>Key Features of Nuride Canvas Shoes Material: ...</td>\n",
       "      <td>1686.25</td>\n",
       "      <td>0.0</td>\n",
       "      <td>0.0</td>\n",
       "      <td>0.0</td>\n",
       "      <td>1686.25</td>\n",
       "      <td>337.25</td>\n",
       "      <td>2021</td>\n",
       "      <td>8</td>\n",
       "      <td>26</td>\n",
       "    </tr>\n",
       "  </tbody>\n",
       "</table>\n",
       "<p>3 rows × 26 columns</p>\n",
       "</div>"
      ],
      "text/plain": [
       "                   Customer_uniq_id Region Order_Date Expected_Delivery_Date  \\\n",
       "2  0686fec9b70e5039583a38119ca0c835   West 2021-10-24             25-10-2021   \n",
       "3  ea2406dc597bee2abb6b867fa668501f   West 2021-10-24             25-10-2021   \n",
       "9  547b6585272473ae006bcfbdb47b6ae0   West 2021-08-26             27-08-2021   \n",
       "\n",
       "  Delivered_Date                                       product_name  \\\n",
       "2     25-10-2021      Shopmania Music Band A5 Notebook Spiral Bound   \n",
       "3     25-10-2021  Tiara Diaries 2016-2017 Designer LA Kaarta \"TA...   \n",
       "9     27-08-2021                                Nuride Canvas Shoes   \n",
       "\n",
       "  product_main_category    product_subcategory product_category_filter  \\\n",
       "2    Pens & Stationery    Diaries & Notebooks               Notebooks    \n",
       "3    Pens & Stationery    Diaries & Notebooks               Notebooks    \n",
       "9             Footwear       Women's Footwear            Casual Shoes    \n",
       "\n",
       "  product_category_subfilter  ...  \\\n",
       "2                  Designer   ...   \n",
       "3                  Designer   ...   \n",
       "9                    Canvas   ...   \n",
       "\n",
       "                                         description   new_25  new_15  new_10  \\\n",
       "2  Specifications of Shopmania Music Band A5 Note...     0.00     0.0   302.5   \n",
       "3  Specifications of Tiara Diaries 2016-2017 Desi...  1046.25     0.0     0.0   \n",
       "9  Key Features of Nuride Canvas Shoes Material: ...  1686.25     0.0     0.0   \n",
       "\n",
       "  new_0_to_100 total_price BrandRevenue  year  order_month  order_day  \n",
       "2          0.0      302.50        27.50  2021           10         24  \n",
       "3          0.0     1046.25       209.25  2021           10         24  \n",
       "9          0.0     1686.25       337.25  2021            8         26  \n",
       "\n",
       "[3 rows x 26 columns]"
      ]
     },
     "execution_count": 241,
     "metadata": {},
     "output_type": "execute_result"
    }
   ],
   "source": [
    "# West Region\n",
    "\n",
    "region_west = df[df['Region'] == 'West']\n",
    "region_west.head(3)"
   ]
  },
  {
   "cell_type": "code",
   "execution_count": 246,
   "id": "197fcee5",
   "metadata": {},
   "outputs": [
    {
     "name": "stderr",
     "output_type": "stream",
     "text": [
      "C:\\Users\\ayush\\AppData\\Local\\Temp\\ipykernel_18924\\1006657350.py:4: FutureWarning: \n",
      "\n",
      "The `ci` parameter is deprecated. Use `errorbar=('ci', False)` for the same effect.\n",
      "\n",
      "  sns.lineplot(data=region_west, x='order_month' , y='discounted_price' , hue='year' , style ='year' , ci=False , markers=True)\n"
     ]
    },
    {
     "data": {
      "image/png": "[encoded data removed]",
      "text/plain": [
       "<Figure size 1000x500 with 1 Axes>"
      ]
     },
     "metadata": {},
     "output_type": "display_data"
    }
   ],
   "source": [
    "plt.figure(figsize=(10,5))\n",
    "plt.xlabel('Month')\n",
    "plt.ylabel('Discounted Price')\n",
    "sns.lineplot(data=region_west, x='order_month' , y='discounted_price' , hue='year' , style ='year' , ci=False , markers=True)\n",
    "plt.title('West Region');"
   ]
  },
  {
   "cell_type": "code",
   "execution_count": 247,
   "id": "3ad4ff81",
   "metadata": {},
   "outputs": [
    {
     "data": {
      "text/html": [
       "<div>\n",
       "<style scoped>\n",
       "    .dataframe tbody tr th:only-of-type {\n",
       "        vertical-align: middle;\n",
       "    }\n",
       "\n",
       "    .dataframe tbody tr th {\n",
       "        vertical-align: top;\n",
       "    }\n",
       "\n",
       "    .dataframe thead th {\n",
       "        text-align: right;\n",
       "    }\n",
       "</style>\n",
       "<table border=\"1\" class=\"dataframe\">\n",
       "  <thead>\n",
       "    <tr style=\"text-align: right;\">\n",
       "      <th></th>\n",
       "      <th>Customer_uniq_id</th>\n",
       "      <th>Region</th>\n",
       "      <th>Order_Date</th>\n",
       "      <th>Expected_Delivery_Date</th>\n",
       "      <th>Delivered_Date</th>\n",
       "      <th>product_name</th>\n",
       "      <th>product_main_category</th>\n",
       "      <th>product_subcategory</th>\n",
       "      <th>product_category_filter</th>\n",
       "      <th>product_category_subfilter</th>\n",
       "      <th>...</th>\n",
       "      <th>description</th>\n",
       "      <th>new_25</th>\n",
       "      <th>new_15</th>\n",
       "      <th>new_10</th>\n",
       "      <th>new_0_to_100</th>\n",
       "      <th>total_price</th>\n",
       "      <th>BrandRevenue</th>\n",
       "      <th>year</th>\n",
       "      <th>order_month</th>\n",
       "      <th>order_day</th>\n",
       "    </tr>\n",
       "  </thead>\n",
       "  <tbody>\n",
       "    <tr>\n",
       "      <th>0</th>\n",
       "      <td>e71017e224688489edfe856f2308806d</td>\n",
       "      <td>East</td>\n",
       "      <td>2021-10-24</td>\n",
       "      <td>25-10-2021</td>\n",
       "      <td>25-10-2021</td>\n",
       "      <td>Indcrown Net Embroidered Semi-stitched Lehenga...</td>\n",
       "      <td>Clothing</td>\n",
       "      <td>Women's Clothing</td>\n",
       "      <td>Ethnic Wear</td>\n",
       "      <td>Fabric</td>\n",
       "      <td>...</td>\n",
       "      <td>Key Features of Indcrown Net Embroidered Semi-...</td>\n",
       "      <td>873.75</td>\n",
       "      <td>0.0</td>\n",
       "      <td>0.0</td>\n",
       "      <td>0.0</td>\n",
       "      <td>873.75</td>\n",
       "      <td>174.75</td>\n",
       "      <td>2021</td>\n",
       "      <td>10</td>\n",
       "      <td>24</td>\n",
       "    </tr>\n",
       "    <tr>\n",
       "      <th>1</th>\n",
       "      <td>6286847ee2da18f587503db49511c539</td>\n",
       "      <td>East</td>\n",
       "      <td>2021-10-24</td>\n",
       "      <td>25-10-2021</td>\n",
       "      <td>25-10-2021</td>\n",
       "      <td>Shopmania Music Band A5 Notebook Spiral Bound</td>\n",
       "      <td>Pens &amp; Stationery</td>\n",
       "      <td>Diaries &amp; Notebooks</td>\n",
       "      <td>Notebooks</td>\n",
       "      <td>Designer</td>\n",
       "      <td>...</td>\n",
       "      <td>Specifications of Shopmania Music Band A5 Note...</td>\n",
       "      <td>0.00</td>\n",
       "      <td>0.0</td>\n",
       "      <td>302.5</td>\n",
       "      <td>0.0</td>\n",
       "      <td>302.50</td>\n",
       "      <td>27.50</td>\n",
       "      <td>2021</td>\n",
       "      <td>10</td>\n",
       "      <td>24</td>\n",
       "    </tr>\n",
       "    <tr>\n",
       "      <th>4</th>\n",
       "      <td>5935ed077915347dc695744df68c565c</td>\n",
       "      <td>East</td>\n",
       "      <td>2021-09-03</td>\n",
       "      <td>04-09-2021</td>\n",
       "      <td>04-09-2021</td>\n",
       "      <td>KAJCI Embroidered Women's Waistcoat</td>\n",
       "      <td>Clothing</td>\n",
       "      <td>Women's Clothing</td>\n",
       "      <td>Formal Wear</td>\n",
       "      <td>Waistcoats</td>\n",
       "      <td>...</td>\n",
       "      <td>Specifications of KAJCI Embroidered Women's Wa...</td>\n",
       "      <td>873.75</td>\n",
       "      <td>0.0</td>\n",
       "      <td>0.0</td>\n",
       "      <td>0.0</td>\n",
       "      <td>873.75</td>\n",
       "      <td>174.75</td>\n",
       "      <td>2021</td>\n",
       "      <td>9</td>\n",
       "      <td>3</td>\n",
       "    </tr>\n",
       "  </tbody>\n",
       "</table>\n",
       "<p>3 rows × 26 columns</p>\n",
       "</div>"
      ],
      "text/plain": [
       "                   Customer_uniq_id Region Order_Date Expected_Delivery_Date  \\\n",
       "0  e71017e224688489edfe856f2308806d  East  2021-10-24             25-10-2021   \n",
       "1  6286847ee2da18f587503db49511c539  East  2021-10-24             25-10-2021   \n",
       "4  5935ed077915347dc695744df68c565c  East  2021-09-03             04-09-2021   \n",
       "\n",
       "  Delivered_Date                                       product_name  \\\n",
       "0     25-10-2021  Indcrown Net Embroidered Semi-stitched Lehenga...   \n",
       "1     25-10-2021      Shopmania Music Band A5 Notebook Spiral Bound   \n",
       "4     04-09-2021                KAJCI Embroidered Women's Waistcoat   \n",
       "\n",
       "  product_main_category    product_subcategory product_category_filter  \\\n",
       "0             Clothing       Women's Clothing             Ethnic Wear    \n",
       "1    Pens & Stationery    Diaries & Notebooks               Notebooks    \n",
       "4             Clothing       Women's Clothing             Formal Wear    \n",
       "\n",
       "  product_category_subfilter  ...  \\\n",
       "0                    Fabric   ...   \n",
       "1                  Designer   ...   \n",
       "4                Waistcoats   ...   \n",
       "\n",
       "                                         description  new_25  new_15  new_10  \\\n",
       "0  Key Features of Indcrown Net Embroidered Semi-...  873.75     0.0     0.0   \n",
       "1  Specifications of Shopmania Music Band A5 Note...    0.00     0.0   302.5   \n",
       "4  Specifications of KAJCI Embroidered Women's Wa...  873.75     0.0     0.0   \n",
       "\n",
       "  new_0_to_100 total_price BrandRevenue  year  order_month  order_day  \n",
       "0          0.0      873.75       174.75  2021           10         24  \n",
       "1          0.0      302.50        27.50  2021           10         24  \n",
       "4          0.0      873.75       174.75  2021            9          3  \n",
       "\n",
       "[3 rows x 26 columns]"
      ]
     },
     "execution_count": 247,
     "metadata": {},
     "output_type": "execute_result"
    }
   ],
   "source": [
    "# East Region - In the data set there is a extra space in column 'Region' for 'East '\n",
    "\n",
    "region_east = df[df['Region'] == 'East ']\n",
    "region_east.head(3)"
   ]
  },
  {
   "cell_type": "code",
   "execution_count": 248,
   "id": "bf17e4ee",
   "metadata": {},
   "outputs": [
    {
     "name": "stderr",
     "output_type": "stream",
     "text": [
      "C:\\Users\\ayush\\AppData\\Local\\Temp\\ipykernel_18924\\716212353.py:4: FutureWarning: \n",
      "\n",
      "The `ci` parameter is deprecated. Use `errorbar=('ci', False)` for the same effect.\n",
      "\n",
      "  sns.lineplot(data=region_east, x='order_month' , y='discounted_price' , hue='year' , style ='year' , ci=False , markers=True)\n"
     ]
    },
    {
     "data": {
      "image/png": "[encoded data removed]",
      "text/plain": [
       "<Figure size 1000x500 with 1 Axes>"
      ]
     },
     "metadata": {},
     "output_type": "display_data"
    }
   ],
   "source": [
    "plt.figure(figsize=(10,5))\n",
    "plt.xlabel('Month')\n",
    "plt.ylabel('Discounted Price')\n",
    "sns.lineplot(data=region_east, x='order_month' , y='discounted_price' , hue='year' , style ='year' , ci=False , markers=True)\n",
    "plt.title('East Region');"
   ]
  },
  {
   "cell_type": "code",
   "execution_count": 249,
   "id": "3458fc18",
   "metadata": {},
   "outputs": [
    {
     "data": {
      "text/html": [
       "<div>\n",
       "<style scoped>\n",
       "    .dataframe tbody tr th:only-of-type {\n",
       "        vertical-align: middle;\n",
       "    }\n",
       "\n",
       "    .dataframe tbody tr th {\n",
       "        vertical-align: top;\n",
       "    }\n",
       "\n",
       "    .dataframe thead th {\n",
       "        text-align: right;\n",
       "    }\n",
       "</style>\n",
       "<table border=\"1\" class=\"dataframe\">\n",
       "  <thead>\n",
       "    <tr style=\"text-align: right;\">\n",
       "      <th></th>\n",
       "      <th>Customer_uniq_id</th>\n",
       "      <th>Region</th>\n",
       "      <th>Order_Date</th>\n",
       "      <th>Expected_Delivery_Date</th>\n",
       "      <th>Delivered_Date</th>\n",
       "      <th>product_name</th>\n",
       "      <th>product_main_category</th>\n",
       "      <th>product_subcategory</th>\n",
       "      <th>product_category_filter</th>\n",
       "      <th>product_category_subfilter</th>\n",
       "      <th>...</th>\n",
       "      <th>description</th>\n",
       "      <th>new_25</th>\n",
       "      <th>new_15</th>\n",
       "      <th>new_10</th>\n",
       "      <th>new_0_to_100</th>\n",
       "      <th>total_price</th>\n",
       "      <th>BrandRevenue</th>\n",
       "      <th>year</th>\n",
       "      <th>order_month</th>\n",
       "      <th>order_day</th>\n",
       "    </tr>\n",
       "  </thead>\n",
       "  <tbody>\n",
       "    <tr>\n",
       "      <th>477</th>\n",
       "      <td>4422b30c32ce553e1044576c7fc1357a</td>\n",
       "      <td>South</td>\n",
       "      <td>2020-12-01</td>\n",
       "      <td>04-12-2020</td>\n",
       "      <td>04-12-2020</td>\n",
       "      <td>3a AUTOCARE Car Mat Toyota Innova</td>\n",
       "      <td>Automotive</td>\n",
       "      <td>Accessories &amp; Spare parts</td>\n",
       "      <td>Car Interior &amp; Exterior</td>\n",
       "      <td>Car Interior</td>\n",
       "      <td>...</td>\n",
       "      <td>Buy 3a AUTOCARE Car Mat Toyota Innova for Rs.2...</td>\n",
       "      <td>3437.50</td>\n",
       "      <td>0.0</td>\n",
       "      <td>0.0</td>\n",
       "      <td>0.0</td>\n",
       "      <td>3437.50</td>\n",
       "      <td>687.50</td>\n",
       "      <td>2020</td>\n",
       "      <td>12</td>\n",
       "      <td>1</td>\n",
       "    </tr>\n",
       "    <tr>\n",
       "      <th>482</th>\n",
       "      <td>942659b62d524e8731ca1f776586e352</td>\n",
       "      <td>South</td>\n",
       "      <td>2020-12-01</td>\n",
       "      <td>04-12-2020</td>\n",
       "      <td>04-12-2020</td>\n",
       "      <td>3a Autocare Beat Car Mat Chevrolet Beat</td>\n",
       "      <td>Automotive</td>\n",
       "      <td>Accessories &amp; Spare parts</td>\n",
       "      <td>Car Interior &amp; Exterior</td>\n",
       "      <td>Car Interior</td>\n",
       "      <td>...</td>\n",
       "      <td>3a Autocare Beat Car Mat Chevrolet Beat (Beige...</td>\n",
       "      <td>1825.00</td>\n",
       "      <td>0.0</td>\n",
       "      <td>0.0</td>\n",
       "      <td>0.0</td>\n",
       "      <td>1825.00</td>\n",
       "      <td>365.00</td>\n",
       "      <td>2020</td>\n",
       "      <td>12</td>\n",
       "      <td>1</td>\n",
       "    </tr>\n",
       "    <tr>\n",
       "      <th>529</th>\n",
       "      <td>742496b60ce5597a6daa836dbacff5a2</td>\n",
       "      <td>South</td>\n",
       "      <td>2021-06-10</td>\n",
       "      <td>13-06-2021</td>\n",
       "      <td>13-06-2021</td>\n",
       "      <td>Accessoreez Headlight LED Bulb for  TATA PRIMA</td>\n",
       "      <td>Automotive</td>\n",
       "      <td>Car &amp; Bike Accessories</td>\n",
       "      <td>Car &amp; Bike Lighting</td>\n",
       "      <td>Car Lighting</td>\n",
       "      <td>...</td>\n",
       "      <td>Key Features of Accessoreez Headlight LED Bulb...</td>\n",
       "      <td>1186.25</td>\n",
       "      <td>0.0</td>\n",
       "      <td>0.0</td>\n",
       "      <td>0.0</td>\n",
       "      <td>1186.25</td>\n",
       "      <td>237.25</td>\n",
       "      <td>2021</td>\n",
       "      <td>6</td>\n",
       "      <td>10</td>\n",
       "    </tr>\n",
       "  </tbody>\n",
       "</table>\n",
       "<p>3 rows × 26 columns</p>\n",
       "</div>"
      ],
      "text/plain": [
       "                     Customer_uniq_id Region Order_Date  \\\n",
       "477  4422b30c32ce553e1044576c7fc1357a  South 2020-12-01   \n",
       "482  942659b62d524e8731ca1f776586e352  South 2020-12-01   \n",
       "529  742496b60ce5597a6daa836dbacff5a2  South 2021-06-10   \n",
       "\n",
       "    Expected_Delivery_Date Delivered_Date  \\\n",
       "477             04-12-2020     04-12-2020   \n",
       "482             04-12-2020     04-12-2020   \n",
       "529             13-06-2021     13-06-2021   \n",
       "\n",
       "                                       product_name product_main_category  \\\n",
       "477               3a AUTOCARE Car Mat Toyota Innova           Automotive    \n",
       "482         3a Autocare Beat Car Mat Chevrolet Beat           Automotive    \n",
       "529  Accessoreez Headlight LED Bulb for  TATA PRIMA           Automotive    \n",
       "\n",
       "             product_subcategory    product_category_filter  \\\n",
       "477   Accessories & Spare parts    Car Interior & Exterior    \n",
       "482   Accessories & Spare parts    Car Interior & Exterior    \n",
       "529      Car & Bike Accessories        Car & Bike Lighting    \n",
       "\n",
       "    product_category_subfilter  ...  \\\n",
       "477              Car Interior   ...   \n",
       "482              Car Interior   ...   \n",
       "529              Car Lighting   ...   \n",
       "\n",
       "                                           description   new_25  new_15  \\\n",
       "477  Buy 3a AUTOCARE Car Mat Toyota Innova for Rs.2...  3437.50     0.0   \n",
       "482  3a Autocare Beat Car Mat Chevrolet Beat (Beige...  1825.00     0.0   \n",
       "529  Key Features of Accessoreez Headlight LED Bulb...  1186.25     0.0   \n",
       "\n",
       "     new_10 new_0_to_100 total_price BrandRevenue  year  order_month  \\\n",
       "477     0.0          0.0     3437.50       687.50  2020           12   \n",
       "482     0.0          0.0     1825.00       365.00  2020           12   \n",
       "529     0.0          0.0     1186.25       237.25  2021            6   \n",
       "\n",
       "     order_day  \n",
       "477          1  \n",
       "482          1  \n",
       "529         10  \n",
       "\n",
       "[3 rows x 26 columns]"
      ]
     },
     "execution_count": 249,
     "metadata": {},
     "output_type": "execute_result"
    }
   ],
   "source": [
    "region_south = df[df['Region'] == 'South']\n",
    "region_south.head(3)"
   ]
  },
  {
   "cell_type": "code",
   "execution_count": 250,
   "id": "e37047cc",
   "metadata": {},
   "outputs": [
    {
     "name": "stderr",
     "output_type": "stream",
     "text": [
      "C:\\Users\\ayush\\AppData\\Local\\Temp\\ipykernel_18924\\860250083.py:4: FutureWarning: \n",
      "\n",
      "The `ci` parameter is deprecated. Use `errorbar=('ci', False)` for the same effect.\n",
      "\n",
      "  sns.lineplot(data=region_south, x='order_month' , y='discounted_price' , hue='year' , style ='year' , ci=False , markers=True)\n"
     ]
    },
    {
     "data": {
      "image/png": "[encoded data removed]",
      "text/plain": [
       "<Figure size 1000x500 with 1 Axes>"
      ]
     },
     "metadata": {},
     "output_type": "display_data"
    }
   ],
   "source": [
    "plt.figure(figsize=(10,5))\n",
    "plt.xlabel('Month')\n",
    "plt.ylabel('Discounted Price')\n",
    "sns.lineplot(data=region_south, x='order_month' , y='discounted_price' , hue='year' , style ='year' , ci=False , markers=True)\n",
    "plt.title('South Region');"
   ]
  },
  {
   "cell_type": "code",
   "execution_count": 251,
   "id": "797cefc5",
   "metadata": {},
   "outputs": [
    {
     "data": {
      "text/html": [
       "<div>\n",
       "<style scoped>\n",
       "    .dataframe tbody tr th:only-of-type {\n",
       "        vertical-align: middle;\n",
       "    }\n",
       "\n",
       "    .dataframe tbody tr th {\n",
       "        vertical-align: top;\n",
       "    }\n",
       "\n",
       "    .dataframe thead th {\n",
       "        text-align: right;\n",
       "    }\n",
       "</style>\n",
       "<table border=\"1\" class=\"dataframe\">\n",
       "  <thead>\n",
       "    <tr style=\"text-align: right;\">\n",
       "      <th></th>\n",
       "      <th>Customer_uniq_id</th>\n",
       "      <th>Region</th>\n",
       "      <th>Order_Date</th>\n",
       "      <th>Expected_Delivery_Date</th>\n",
       "      <th>Delivered_Date</th>\n",
       "      <th>product_name</th>\n",
       "      <th>product_main_category</th>\n",
       "      <th>product_subcategory</th>\n",
       "      <th>product_category_filter</th>\n",
       "      <th>product_category_subfilter</th>\n",
       "      <th>...</th>\n",
       "      <th>description</th>\n",
       "      <th>new_25</th>\n",
       "      <th>new_15</th>\n",
       "      <th>new_10</th>\n",
       "      <th>new_0_to_100</th>\n",
       "      <th>total_price</th>\n",
       "      <th>BrandRevenue</th>\n",
       "      <th>year</th>\n",
       "      <th>order_month</th>\n",
       "      <th>order_day</th>\n",
       "    </tr>\n",
       "  </thead>\n",
       "  <tbody>\n",
       "    <tr>\n",
       "      <th>10</th>\n",
       "      <td>f6ae9e271a1d4469b4f41124e001e1cc</td>\n",
       "      <td>North</td>\n",
       "      <td>2021-08-26</td>\n",
       "      <td>27-08-2021</td>\n",
       "      <td>27-08-2021</td>\n",
       "      <td>OM SHIVAKRITI Square wall Clock Showpiece  -  ...</td>\n",
       "      <td>Home Decor &amp; Festive Needs</td>\n",
       "      <td>Showpiece</td>\n",
       "      <td>Gramophones</td>\n",
       "      <td>OM SHIVAKRITI Gramophones</td>\n",
       "      <td>...</td>\n",
       "      <td>Key Features of OM SHIVAKRITI Square wall Cloc...</td>\n",
       "      <td>1873.75</td>\n",
       "      <td>0.0</td>\n",
       "      <td>0.0</td>\n",
       "      <td>0.0</td>\n",
       "      <td>1873.75</td>\n",
       "      <td>374.75</td>\n",
       "      <td>2021</td>\n",
       "      <td>8</td>\n",
       "      <td>26</td>\n",
       "    </tr>\n",
       "    <tr>\n",
       "      <th>16</th>\n",
       "      <td>7a7e587d3344885bdb8c77f8b7679483</td>\n",
       "      <td>North</td>\n",
       "      <td>2021-07-30</td>\n",
       "      <td>31-07-2021</td>\n",
       "      <td>01-08-2021</td>\n",
       "      <td>Vermello Men Casual Brown Genuine Leather Belt</td>\n",
       "      <td>Bags, Wallets &amp; Belts</td>\n",
       "      <td>Belts</td>\n",
       "      <td>Vermello Belts</td>\n",
       "      <td>Vermello Men Casual Brown Genuine Leather Bel...</td>\n",
       "      <td>...</td>\n",
       "      <td>Specifications of Vermello Men Casual Brown Ge...</td>\n",
       "      <td>993.75</td>\n",
       "      <td>0.0</td>\n",
       "      <td>0.0</td>\n",
       "      <td>0.0</td>\n",
       "      <td>993.75</td>\n",
       "      <td>198.75</td>\n",
       "      <td>2021</td>\n",
       "      <td>7</td>\n",
       "      <td>30</td>\n",
       "    </tr>\n",
       "    <tr>\n",
       "      <th>17</th>\n",
       "      <td>c497e4250ea07a8a87efa8fda01ae6e0</td>\n",
       "      <td>North</td>\n",
       "      <td>2021-07-30</td>\n",
       "      <td>31-07-2021</td>\n",
       "      <td>01-08-2021</td>\n",
       "      <td>HRS CLUB BOY Thigh Pads</td>\n",
       "      <td>Sports &amp; Fitness</td>\n",
       "      <td>Team Sports</td>\n",
       "      <td>Cricket</td>\n",
       "      <td>Cricket Pads</td>\n",
       "      <td>...</td>\n",
       "      <td>HRS CLUB BOY Thigh Pads (WHITE, RIGHT-HANDED) ...</td>\n",
       "      <td>0.00</td>\n",
       "      <td>0.0</td>\n",
       "      <td>275.0</td>\n",
       "      <td>0.0</td>\n",
       "      <td>275.00</td>\n",
       "      <td>25.00</td>\n",
       "      <td>2021</td>\n",
       "      <td>7</td>\n",
       "      <td>30</td>\n",
       "    </tr>\n",
       "  </tbody>\n",
       "</table>\n",
       "<p>3 rows × 26 columns</p>\n",
       "</div>"
      ],
      "text/plain": [
       "                    Customer_uniq_id Region Order_Date Expected_Delivery_Date  \\\n",
       "10  f6ae9e271a1d4469b4f41124e001e1cc  North 2021-08-26             27-08-2021   \n",
       "16  7a7e587d3344885bdb8c77f8b7679483  North 2021-07-30             31-07-2021   \n",
       "17  c497e4250ea07a8a87efa8fda01ae6e0  North 2021-07-30             31-07-2021   \n",
       "\n",
       "   Delivered_Date                                       product_name  \\\n",
       "10     27-08-2021  OM SHIVAKRITI Square wall Clock Showpiece  -  ...   \n",
       "16     01-08-2021     Vermello Men Casual Brown Genuine Leather Belt   \n",
       "17     01-08-2021                            HRS CLUB BOY Thigh Pads   \n",
       "\n",
       "          product_main_category product_subcategory product_category_filter  \\\n",
       "10  Home Decor & Festive Needs           Showpiece             Gramophones    \n",
       "16       Bags, Wallets & Belts               Belts          Vermello Belts    \n",
       "17            Sports & Fitness         Team Sports                 Cricket    \n",
       "\n",
       "                           product_category_subfilter  ...  \\\n",
       "10                         OM SHIVAKRITI Gramophones   ...   \n",
       "16   Vermello Men Casual Brown Genuine Leather Bel...  ...   \n",
       "17                                      Cricket Pads   ...   \n",
       "\n",
       "                                          description   new_25  new_15  \\\n",
       "10  Key Features of OM SHIVAKRITI Square wall Cloc...  1873.75     0.0   \n",
       "16  Specifications of Vermello Men Casual Brown Ge...   993.75     0.0   \n",
       "17  HRS CLUB BOY Thigh Pads (WHITE, RIGHT-HANDED) ...     0.00     0.0   \n",
       "\n",
       "    new_10 new_0_to_100 total_price BrandRevenue  year  order_month  order_day  \n",
       "10     0.0          0.0     1873.75       374.75  2021            8         26  \n",
       "16     0.0          0.0      993.75       198.75  2021            7         30  \n",
       "17   275.0          0.0      275.00        25.00  2021            7         30  \n",
       "\n",
       "[3 rows x 26 columns]"
      ]
     },
     "execution_count": 251,
     "metadata": {},
     "output_type": "execute_result"
    }
   ],
   "source": [
    "region_north = df[df['Region'] == 'North']\n",
    "region_north.head(3)"
   ]
  },
  {
   "cell_type": "code",
   "execution_count": 252,
   "id": "ed215b1c",
   "metadata": {},
   "outputs": [
    {
     "name": "stderr",
     "output_type": "stream",
     "text": [
      "C:\\Users\\ayush\\AppData\\Local\\Temp\\ipykernel_18924\\3179055042.py:4: FutureWarning: \n",
      "\n",
      "The `ci` parameter is deprecated. Use `errorbar=('ci', False)` for the same effect.\n",
      "\n",
      "  sns.lineplot(data=region_north, x='order_month' , y='discounted_price' , hue='year' , style ='year' , ci=False , markers=True)\n"
     ]
    },
    {
     "data": {
      "image/png": "[encoded data removed]",
      "text/plain": [
       "<Figure size 1000x500 with 1 Axes>"
      ]
     },
     "metadata": {},
     "output_type": "display_data"
    }
   ],
   "source": [
    "plt.figure(figsize=(10,5))\n",
    "plt.xlabel('Month')\n",
    "plt.ylabel('Discounted Price')\n",
    "sns.lineplot(data=region_north, x='order_month' , y='discounted_price' , hue='year' , style ='year' , ci=False , markers=True)\n",
    "plt.title('North Region');"
   ]
  },
  {
   "cell_type": "markdown",
   "id": "c867f0e8",
   "metadata": {},
   "source": [
    "#### Graphs of all 4 regions are shown above and we can see that in year 2020 orders are placed only in Dec month"
   ]
  },
  {
   "cell_type": "code",
   "execution_count": null,
   "id": "717834c6",
   "metadata": {},
   "outputs": [],
   "source": []
  },
  {
   "cell_type": "markdown",
   "id": "dac59dc4",
   "metadata": {},
   "source": [
    "### Ans 9 b)"
   ]
  },
  {
   "cell_type": "markdown",
   "id": "5ad62356",
   "metadata": {},
   "source": [
    "#### Best and the worst performing months for each region are shown below:"
   ]
  },
  {
   "cell_type": "code",
   "execution_count": 253,
   "id": "9435e8ea",
   "metadata": {},
   "outputs": [
    {
     "data": {
      "text/plain": [
       "Region  order_month\n",
       "West    12             1306500\n",
       "Name: discounted_price, dtype: int64"
      ]
     },
     "execution_count": 253,
     "metadata": {},
     "output_type": "execute_result"
    }
   ],
   "source": [
    "# West Region - Best\n",
    "\n",
    "region_west.groupby(['Region','order_month'])['discounted_price'].sum().sort_values(ascending=False).head(1)"
   ]
  },
  {
   "cell_type": "code",
   "execution_count": 254,
   "id": "6be22c27",
   "metadata": {},
   "outputs": [
    {
     "data": {
      "text/plain": [
       "Region  order_month\n",
       "West    10             1112\n",
       "Name: discounted_price, dtype: int64"
      ]
     },
     "execution_count": 254,
     "metadata": {},
     "output_type": "execute_result"
    }
   ],
   "source": [
    "# West Region - Worst\n",
    "\n",
    "region_west.groupby(['Region','order_month'])['discounted_price'].sum().sort_values(ascending=False).tail(1)"
   ]
  },
  {
   "cell_type": "markdown",
   "id": "d63a5315",
   "metadata": {},
   "source": [
    "#### In West Region best month is Dec and worst month is Oct."
   ]
  },
  {
   "cell_type": "markdown",
   "id": "b3f6e414",
   "metadata": {},
   "source": []
  },
  {
   "cell_type": "code",
   "execution_count": 255,
   "id": "3189ea19",
   "metadata": {},
   "outputs": [
    {
     "data": {
      "text/plain": [
       "Region  order_month\n",
       "East    12             1568994\n",
       "Name: discounted_price, dtype: int64"
      ]
     },
     "execution_count": 255,
     "metadata": {},
     "output_type": "execute_result"
    }
   ],
   "source": [
    "# East Region - Best\n",
    "\n",
    "region_east.groupby(['Region','order_month'])['discounted_price'].sum().sort_values(ascending=False).head(1)"
   ]
  },
  {
   "cell_type": "code",
   "execution_count": 256,
   "id": "85db235d",
   "metadata": {},
   "outputs": [
    {
     "data": {
      "text/plain": [
       "Region  order_month\n",
       "East    10             974\n",
       "Name: discounted_price, dtype: int64"
      ]
     },
     "execution_count": 256,
     "metadata": {},
     "output_type": "execute_result"
    }
   ],
   "source": [
    "# East Region - Worst\n",
    "\n",
    "region_east.groupby(['Region','order_month'])['discounted_price'].sum().sort_values(ascending=False).tail(1)"
   ]
  },
  {
   "cell_type": "markdown",
   "id": "c3a59105",
   "metadata": {},
   "source": [
    "#### In East Region best month is Dec and worst month is Oct."
   ]
  },
  {
   "cell_type": "code",
   "execution_count": null,
   "id": "b154309d",
   "metadata": {},
   "outputs": [],
   "source": []
  },
  {
   "cell_type": "code",
   "execution_count": 257,
   "id": "2a93ffe2",
   "metadata": {},
   "outputs": [
    {
     "data": {
      "text/plain": [
       "Region  order_month\n",
       "South   12             422076\n",
       "Name: discounted_price, dtype: int64"
      ]
     },
     "execution_count": 257,
     "metadata": {},
     "output_type": "execute_result"
    }
   ],
   "source": [
    "# South Region - Best\n",
    "\n",
    "region_south.groupby(['Region','order_month'])['discounted_price'].sum().sort_values(ascending=False).head(1)"
   ]
  },
  {
   "cell_type": "code",
   "execution_count": 258,
   "id": "cd2c48eb",
   "metadata": {},
   "outputs": [
    {
     "data": {
      "text/plain": [
       "Region  order_month\n",
       "South   5              19253\n",
       "Name: discounted_price, dtype: int64"
      ]
     },
     "execution_count": 258,
     "metadata": {},
     "output_type": "execute_result"
    }
   ],
   "source": [
    "# South Region - Worst\n",
    "\n",
    "region_south.groupby(['Region','order_month'])['discounted_price'].sum().sort_values(ascending=False).tail(1)"
   ]
  },
  {
   "cell_type": "markdown",
   "id": "71a14bb0",
   "metadata": {},
   "source": [
    "#### In South Region best month is Dec and worst month is May."
   ]
  },
  {
   "cell_type": "code",
   "execution_count": null,
   "id": "dfa22276",
   "metadata": {},
   "outputs": [],
   "source": []
  },
  {
   "cell_type": "code",
   "execution_count": 259,
   "id": "1d33c25a",
   "metadata": {},
   "outputs": [
    {
     "data": {
      "text/plain": [
       "Region  order_month\n",
       "North   12             828217\n",
       "Name: discounted_price, dtype: int64"
      ]
     },
     "execution_count": 259,
     "metadata": {},
     "output_type": "execute_result"
    }
   ],
   "source": [
    "# North Region - Best\n",
    "\n",
    "region_north.groupby(['Region','order_month'])['discounted_price'].sum().sort_values(ascending=False).head(1)"
   ]
  },
  {
   "cell_type": "code",
   "execution_count": 260,
   "id": "97df3ca9",
   "metadata": {},
   "outputs": [
    {
     "data": {
      "text/plain": [
       "Region  order_month\n",
       "North   8              1499\n",
       "Name: discounted_price, dtype: int64"
      ]
     },
     "execution_count": 260,
     "metadata": {},
     "output_type": "execute_result"
    }
   ],
   "source": [
    "# North Region - Worst\n",
    "\n",
    "region_north.groupby(['Region','order_month'])['discounted_price'].sum().sort_values(ascending=False).tail(1)"
   ]
  },
  {
   "cell_type": "markdown",
   "id": "909e7c1c",
   "metadata": {},
   "source": [
    "#### In North Region best month is Dec and worst month is Aug."
   ]
  },
  {
   "cell_type": "markdown",
   "id": "3f09f7b7",
   "metadata": {},
   "source": [
    "### From the above information we can say that Dec is the highest performing month or Best month in terms of revenue for discounted price."
   ]
  },
  {
   "cell_type": "markdown",
   "id": "fd6465c8",
   "metadata": {},
   "source": [
    "# "
   ]
  },
  {
   "cell_type": "markdown",
   "id": "01afafda",
   "metadata": {},
   "source": [
    "# Project ends here"
   ]
  },
  {
   "cell_type": "markdown",
   "id": "51854a4f",
   "metadata": {},
   "source": [
    "# Thank You"
   ]
  },
  {
   "cell_type": "markdown",
   "id": "0635039c",
   "metadata": {},
   "source": [
    "# BY - Ayush Kumar"
   ]
  },
  {
   "cell_type": "markdown",
   "id": "7b6a5597",
   "metadata": {},
   "source": [
    "# "
   ]
  },
  {
   "cell_type": "markdown",
   "id": "dcb8d39f",
   "metadata": {},
   "source": [
    "<font color='blue'>\n",
    "    <font size = 5>\n",
    "    Congratulations! You have learnt how to approach a complex data and extract information out of it. \n",
    "    </font>"
   ]
  },
  {
   "cell_type": "code",
   "execution_count": null,
   "id": "9cf74c3d",
   "metadata": {},
   "outputs": [],
   "source": []
  }
 ],
 "metadata": {
  "kernelspec": {
   "display_name": "Python 3 (ipykernel)",
   "language": "python",
   "name": "python3"
  },
  "language_info": {
   "codemirror_mode": {
    "name": "ipython",
    "version": 3
   },
   "file_extension": ".py",
   "mimetype": "text/x-python",
   "name": "python",
   "nbconvert_exporter": "python",
   "pygments_lexer": "ipython3",
   "version": "3.11.4"
  }
 },
 "nbformat": 4,
 "nbformat_minor": 5
}
